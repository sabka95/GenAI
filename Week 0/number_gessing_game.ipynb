{
 "cells": [
  {
   "cell_type": "markdown",
   "id": "2d06efd9",
   "metadata": {},
   "source": [
    "Exam 1: Number Guessing Game 🎲"
   ]
  },
  {
   "cell_type": "code",
   "execution_count": 1,
   "id": "7ab40a4d",
   "metadata": {},
   "outputs": [
    {
     "name": "stdout",
     "output_type": "stream",
     "text": [
      "50\n",
      "Too High!\n",
      "25\n",
      "Too High!\n",
      "15\n",
      "Too High!\n",
      "10\n",
      "Too High!\n",
      "5\n",
      "Too High!\n",
      "2\n",
      "Too low\n",
      "3\n",
      "Congratulations you guessed the number !!!\n"
     ]
    }
   ],
   "source": [
    "import random \n",
    "\n",
    "def number_guessing_game() : \n",
    "\n",
    "    number = random.randint(1, 100)\n",
    "    max_attempts = 7 \n",
    "\n",
    "    for i in range(max_attempts) : \n",
    "        value = int(input(f\"Essayer de devinez le nombre !, il vous reste {max_attempts - i} tentatives : \"))\n",
    "\n",
    "        if value > number : \n",
    "            print(value)\n",
    "            print(\"Too High!\")\n",
    "\n",
    "        elif value < number :\n",
    "            print(value)\n",
    "            print(\"Too low\")\n",
    "        \n",
    "        else :\n",
    "            print(value) \n",
    "            print(\"Congratulations you guessed the number !!!\")\n",
    "            break\n",
    "\n",
    "    else : \n",
    "        print(f\"GAME OVER : Le nombre secret etait {number}\")\n",
    "\n",
    "\n",
    "number_guessing_game()\n",
    "\n"
   ]
  },
  {
   "cell_type": "code",
   "execution_count": null,
   "id": "18b39676",
   "metadata": {},
   "outputs": [],
   "source": []
  }
 ],
 "metadata": {
  "kernelspec": {
   "display_name": "base",
   "language": "python",
   "name": "python3"
  },
  "language_info": {
   "codemirror_mode": {
    "name": "ipython",
    "version": 3
   },
   "file_extension": ".py",
   "mimetype": "text/x-python",
   "name": "python",
   "nbconvert_exporter": "python",
   "pygments_lexer": "ipython3",
   "version": "3.11.4"
  }
 },
 "nbformat": 4,
 "nbformat_minor": 5
}
