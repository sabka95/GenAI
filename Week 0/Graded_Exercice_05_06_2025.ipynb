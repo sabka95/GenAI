{
 "cells": [
  {
   "cell_type": "markdown",
   "id": "24d5acdc",
   "metadata": {},
   "source": [
    "Exercices Functions - Basics"
   ]
  },
  {
   "cell_type": "markdown",
   "id": "8797d54e",
   "metadata": {},
   "source": [
    "Exercice 1"
   ]
  },
  {
   "cell_type": "code",
   "execution_count": 1,
   "id": "6195b513",
   "metadata": {},
   "outputs": [
    {
     "name": "stdout",
     "output_type": "stream",
     "text": [
      "12.0\n"
     ]
    }
   ],
   "source": [
    "number1 = float(input(\"Enter your first number : \"))\n",
    "number2 = float(input(\"Enter your second number : \"))\n",
    "\n",
    "def add_two_numbers(number1, number2) :\n",
    "    return number1 + number2\n",
    "\n",
    "total = add_two_numbers(number1, number2)\n",
    "\n",
    "print(total)"
   ]
  },
  {
   "cell_type": "markdown",
   "id": "b85f9261",
   "metadata": {},
   "source": [
    "Exercice 2 "
   ]
  },
  {
   "cell_type": "code",
   "execution_count": 5,
   "id": "415ada0a",
   "metadata": {},
   "outputs": [
    {
     "name": "stdout",
     "output_type": "stream",
     "text": [
      "Hello, sabri\n"
     ]
    }
   ],
   "source": [
    "name = input(\"Enter your name\")\n",
    "\n",
    "def greet(name) : \n",
    "    print(f\"Hello, {name}\")\n",
    "\n",
    "greeting = greet(name)\n"
   ]
  },
  {
   "cell_type": "markdown",
   "id": "d65ed720",
   "metadata": {},
   "source": [
    "Exercice 3 "
   ]
  },
  {
   "cell_type": "code",
   "execution_count": 31,
   "id": "6cc0c050",
   "metadata": {},
   "outputs": [
    {
     "name": "stdout",
     "output_type": "stream",
     "text": [
      "Odd\n"
     ]
    }
   ],
   "source": [
    "number = float(input(\"Enter your number : \"))\n",
    "\n",
    "def even_or_odd(number) :\n",
    "    \n",
    "    if number % 2 == 0 : \n",
    "        print(\"Even\")\n",
    "    else : \n",
    "        print(\"Odd\")\n",
    "\n",
    "even_or_odd(number)\n",
    "\n"
   ]
  },
  {
   "cell_type": "markdown",
   "id": "421cf9ae",
   "metadata": {},
   "source": [
    "Exerice 4 "
   ]
  },
  {
   "cell_type": "code",
   "execution_count": 10,
   "id": "714affa8",
   "metadata": {},
   "outputs": [
    {
     "name": "stdout",
     "output_type": "stream",
     "text": [
      "[5.0, 9.0, 8.0, 3.0]\n",
      "La somme des valeurs de la liste est : 25.0\n"
     ]
    }
   ],
   "source": [
    "liste_number = list()\n",
    "\n",
    "for i in range(4) : \n",
    "    number = float(input(f\"Entrez le nombre {i} : \"))\n",
    "    liste_number.append(number)\n",
    "\n",
    "def sum_list(liste) : \n",
    "\n",
    "    return sum(liste_number)\n",
    "\n",
    "sum = sum_list(liste_number)\n",
    "print(liste_number)\n",
    "print(f\"La somme des valeurs de la liste est : {sum}\")"
   ]
  },
  {
   "cell_type": "markdown",
   "id": "db3f622a",
   "metadata": {},
   "source": [
    "Exercice 5 "
   ]
  },
  {
   "cell_type": "code",
   "execution_count": 30,
   "id": "64822e9e",
   "metadata": {},
   "outputs": [
    {
     "name": "stdout",
     "output_type": "stream",
     "text": [
      "Sunday\n",
      "Monday\n",
      "Tuesday\n",
      "Wednesday\n",
      "Thursday\n",
      "Friday\n",
      "Saturday\n"
     ]
    }
   ],
   "source": [
    "days = [\"Sunday\",\"Monday\", \"Tuesday\", \"Wednesday\", \"Thursday\", \"Friday\", \"Saturday\"]\n",
    "\n",
    "def print_days(days) : \n",
    "\n",
    "    for i in days : \n",
    "        print(i)\n",
    "\n",
    "\n",
    "print_days(days)"
   ]
  },
  {
   "cell_type": "markdown",
   "id": "e8541de9",
   "metadata": {},
   "source": [
    "Exercice 6"
   ]
  },
  {
   "cell_type": "code",
   "execution_count": 14,
   "id": "e9de9a11",
   "metadata": {},
   "outputs": [
    {
     "name": "stdout",
     "output_type": "stream",
     "text": [
      "Positive\n"
     ]
    }
   ],
   "source": [
    "number = float(input(\"Enter your number : \"))\n",
    "\n",
    "def check_sign(number) :\n",
    "    \n",
    "    if number < 0 : \n",
    "        print(\"Negative\")\n",
    "    elif number == 0 : \n",
    "        print(\"Zero\")\n",
    "    else : \n",
    "        print(\"Positive\")\n",
    "\n",
    "check_sign(number)"
   ]
  },
  {
   "cell_type": "markdown",
   "id": "201fb667",
   "metadata": {},
   "source": [
    "Exercice 7 "
   ]
  },
  {
   "cell_type": "code",
   "execution_count": 18,
   "id": "0aa835af",
   "metadata": {},
   "outputs": [
    {
     "name": "stdout",
     "output_type": "stream",
     "text": [
      "salut\n",
      "salut\n",
      "salut\n",
      "salut\n",
      "salut\n",
      "salut\n"
     ]
    }
   ],
   "source": [
    "word = input(\"Enter your word : \")\n",
    "number = int(input(\"Enter your number : \"))\n",
    "\n",
    "def repeat_word(word, number) :\n",
    "    \n",
    "    for i in range(number) : \n",
    "        print(word)\n",
    "\n",
    "repeat_word(word, number)"
   ]
  },
  {
   "cell_type": "markdown",
   "id": "f2f4c2a9",
   "metadata": {},
   "source": [
    "Exercices Functions - Intermediate"
   ]
  },
  {
   "cell_type": "markdown",
   "id": "1b190158",
   "metadata": {},
   "source": [
    "Exercice 1"
   ]
  },
  {
   "cell_type": "code",
   "execution_count": 21,
   "id": "afee77fd",
   "metadata": {},
   "outputs": [
    {
     "name": "stdout",
     "output_type": "stream",
     "text": [
      "[8.0, 6.0, 3.0, 9.0]\n",
      "La plus grand nombre de la liste est : 9.0\n"
     ]
    }
   ],
   "source": [
    "liste_number = list()\n",
    "\n",
    "for i in range(4) : \n",
    "    number = float(input(f\"Entrez le nombre {i} : \"))\n",
    "    liste_number.append(number)\n",
    "\n",
    "def find_largest(liste) : \n",
    "    \n",
    "    return max(liste)\n",
    "\n",
    "max = find_largest(liste_number)\n",
    "print(liste_number)\n",
    "print(f\"La plus grand nombre de la liste est : {max}\")"
   ]
  },
  {
   "cell_type": "markdown",
   "id": "7c76b09e",
   "metadata": {},
   "source": [
    "Exercice 2 "
   ]
  },
  {
   "cell_type": "code",
   "execution_count": 26,
   "id": "6dacb389",
   "metadata": {},
   "outputs": [
    {
     "name": "stdout",
     "output_type": "stream",
     "text": [
      "hello\n",
      "o\n",
      "True\n"
     ]
    }
   ],
   "source": [
    "word = input(\"Enter your word : \")\n",
    "letter = input(\"Enter your letter : \")\n",
    "\n",
    "def check_letter(word, letter) :\n",
    "    \n",
    "    print(word)\n",
    "    print(letter)\n",
    "    return letter in word\n",
    "\n",
    "print(check_letter(word, letter))"
   ]
  },
  {
   "cell_type": "markdown",
   "id": "bc1b6110",
   "metadata": {},
   "source": [
    "Exercice 3 "
   ]
  },
  {
   "cell_type": "code",
   "execution_count": 29,
   "id": "d3f4edea",
   "metadata": {},
   "outputs": [
    {
     "name": "stdout",
     "output_type": "stream",
     "text": [
      "1\n",
      "2\n",
      "3\n",
      "4\n",
      "5\n"
     ]
    }
   ],
   "source": [
    "number = int(input(\"Enter your number : \"))\n",
    "\n",
    "def count_to_number(number) :\n",
    "    \n",
    "    for i in range(1, number + 1) : \n",
    "        print(i)\n",
    "\n",
    "count_to_number(number)"
   ]
  }
 ],
 "metadata": {
  "kernelspec": {
   "display_name": "base",
   "language": "python",
   "name": "python3"
  },
  "language_info": {
   "codemirror_mode": {
    "name": "ipython",
    "version": 3
   },
   "file_extension": ".py",
   "mimetype": "text/x-python",
   "name": "python",
   "nbconvert_exporter": "python",
   "pygments_lexer": "ipython3",
   "version": "3.11.4"
  }
 },
 "nbformat": 4,
 "nbformat_minor": 5
}
