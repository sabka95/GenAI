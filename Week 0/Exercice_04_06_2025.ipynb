{
 "cells": [
  {
   "cell_type": "code",
   "execution_count": 1,
   "id": "c1891dc5",
   "metadata": {},
   "outputs": [
    {
     "name": "stdout",
     "output_type": "stream",
     "text": [
      "Bonjour\n"
     ]
    }
   ],
   "source": [
    "print(\"bonjour\".capitalize())\n"
   ]
  },
  {
   "cell_type": "code",
   "execution_count": 2,
   "id": "43eecf5b",
   "metadata": {},
   "outputs": [
    {
     "name": "stdout",
     "output_type": "stream",
     "text": [
      "Bonjour A Tous\n"
     ]
    }
   ],
   "source": [
    "print(\"bonjour a tous\".title())"
   ]
  },
  {
   "cell_type": "code",
   "execution_count": 4,
   "id": "30387181",
   "metadata": {},
   "outputs": [
    {
     "name": "stdout",
     "output_type": "stream",
     "text": [
      "0\n",
      "-1\n"
     ]
    }
   ],
   "source": [
    "instructor = 'Juliana'\n",
    "print(instructor.find('J'))\n",
    "print(instructor.find('A'))"
   ]
  },
  {
   "cell_type": "code",
   "execution_count": 5,
   "id": "720a186e",
   "metadata": {},
   "outputs": [
    {
     "name": "stdout",
     "output_type": "stream",
     "text": [
      "Pomme Poire Banane\n"
     ]
    }
   ],
   "source": [
    "words = [\"Pomme\", \"Poire\", \"Banane\"]\n",
    "sentence = ' '.join(words)\n",
    "print(sentence)"
   ]
  },
  {
   "cell_type": "code",
   "execution_count": 6,
   "id": "06af4db0",
   "metadata": {},
   "outputs": [
    {
     "name": "stdout",
     "output_type": "stream",
     "text": [
      "1, 2, 3, 4\n"
     ]
    }
   ],
   "source": [
    "numbers = ['1', '2', '3', '4']\n",
    "number_string = ', '.join(numbers)  \n",
    "print(number_string)"
   ]
  },
  {
   "cell_type": "markdown",
   "id": "8d3cef76",
   "metadata": {},
   "source": [
    "Exercice 1"
   ]
  },
  {
   "cell_type": "code",
   "execution_count": 13,
   "id": "0e9de81f",
   "metadata": {},
   "outputs": [
    {
     "name": "stdout",
     "output_type": "stream",
     "text": [
      "PYTHON IS FUN!\n",
      "Python Is Fun!\n",
      "Python is fun!\n",
      "10\n",
      "Found !\n",
      "10\n"
     ]
    }
   ],
   "source": [
    "text = \"Python is Fun!\"\n",
    "print(text.upper())\n",
    "print(text.title())\n",
    "print(text.capitalize())\n",
    "print(text.find('F'))\n",
    "if \"Python\" in text : \n",
    "    print(\"Found !\")\n",
    "print(text.find(\"Fun\"))"
   ]
  },
  {
   "cell_type": "code",
   "execution_count": 14,
   "id": "1f42fcf8",
   "metadata": {},
   "outputs": [
    {
     "data": {
      "text/plain": [
       "['apple', 'blueberry', 'cherry', 'date', 'elderberry']"
      ]
     },
     "execution_count": 14,
     "metadata": {},
     "output_type": "execute_result"
    }
   ],
   "source": [
    "fruits = [\"apple\", \"banana\", \"cherry\", \"date\", \"elderberry\"]\n",
    "fruits[1] = \"blueberry\"\n",
    "fruits"
   ]
  },
  {
   "cell_type": "code",
   "execution_count": 15,
   "id": "53235798",
   "metadata": {},
   "outputs": [
    {
     "name": "stdout",
     "output_type": "stream",
     "text": [
      "[1, 2, 3, 10]\n"
     ]
    }
   ],
   "source": [
    "numbers = [1, 2, 3]\n",
    "numbers.append(10)\n",
    "print(numbers) "
   ]
  },
  {
   "cell_type": "code",
   "execution_count": 16,
   "id": "700b5b92",
   "metadata": {},
   "outputs": [
    {
     "name": "stdout",
     "output_type": "stream",
     "text": [
      "[]\n"
     ]
    }
   ],
   "source": [
    "numbers = [1, 2, 3]\n",
    "numbers.clear()\n",
    "print(numbers)"
   ]
  },
  {
   "cell_type": "code",
   "execution_count": 17,
   "id": "6d25b7be",
   "metadata": {},
   "outputs": [
    {
     "name": "stdout",
     "output_type": "stream",
     "text": [
      "[2, 3, 4]\n"
     ]
    }
   ],
   "source": [
    "original_list = [2, 3, 4]\n",
    "copy_list = original_list.copy()\n",
    "print(copy_list) "
   ]
  },
  {
   "cell_type": "code",
   "execution_count": 18,
   "id": "6e5933f6",
   "metadata": {},
   "outputs": [
    {
     "name": "stdout",
     "output_type": "stream",
     "text": [
      "4\n"
     ]
    }
   ],
   "source": [
    "numbers = [1, 2, 3, 4, 5, 5, 5, 5]\n",
    "print(numbers.count(5))"
   ]
  },
  {
   "cell_type": "code",
   "execution_count": 19,
   "id": "02d651d3",
   "metadata": {},
   "outputs": [
    {
     "name": "stdout",
     "output_type": "stream",
     "text": [
      "[1, 2, 3, 4, 5, 6]\n"
     ]
    }
   ],
   "source": [
    "numbers = [1, 2, 3]\n",
    "numbers.extend([4, 5, 6])\n",
    "print(numbers)"
   ]
  },
  {
   "cell_type": "code",
   "execution_count": 20,
   "id": "8d4a41c6",
   "metadata": {},
   "outputs": [
    {
     "name": "stdout",
     "output_type": "stream",
     "text": [
      "1\n",
      "0\n"
     ]
    }
   ],
   "source": [
    "numbers = [4, 8, 6, 4]\n",
    "print(numbers.index(8))  # 1\n",
    "print(numbers.index(4))"
   ]
  },
  {
   "cell_type": "code",
   "execution_count": 21,
   "id": "1d6703bd",
   "metadata": {},
   "outputs": [
    {
     "name": "stdout",
     "output_type": "stream",
     "text": [
      "[4, 6, 'awesome', 8]\n"
     ]
    }
   ],
   "source": [
    "numbers = [4, 6, 8]\n",
    "numbers.insert(2, 'awesome')  # insert 'awesome' at index 2\n",
    "print(numbers) "
   ]
  },
  {
   "cell_type": "code",
   "execution_count": 22,
   "id": "6986f3cc",
   "metadata": {},
   "outputs": [
    {
     "name": "stdout",
     "output_type": "stream",
     "text": [
      "3\n",
      "4\n"
     ]
    }
   ],
   "source": [
    "numbers = [3, 4]\n",
    "print(numbers.pop(0))  # 3\n",
    "print(numbers.pop())"
   ]
  },
  {
   "cell_type": "code",
   "execution_count": 23,
   "id": "933a505e",
   "metadata": {},
   "outputs": [
    {
     "name": "stdout",
     "output_type": "stream",
     "text": [
      "[2, 3, 1]\n"
     ]
    }
   ],
   "source": [
    "numbers = [1, 2, 3, 1]\n",
    "numbers.remove(1)\n",
    "print(numbers) "
   ]
  },
  {
   "cell_type": "code",
   "execution_count": 24,
   "id": "9c757f5a",
   "metadata": {},
   "outputs": [
    {
     "name": "stdout",
     "output_type": "stream",
     "text": [
      "[4, 3, 2, 1]\n"
     ]
    }
   ],
   "source": [
    "numbers = [1, 2, 3, 4]\n",
    "numbers.reverse()\n",
    "print(numbers)"
   ]
  },
  {
   "cell_type": "code",
   "execution_count": 25,
   "id": "6d7a93a7",
   "metadata": {},
   "outputs": [
    {
     "name": "stdout",
     "output_type": "stream",
     "text": [
      "[1, 2, 3, 4]\n"
     ]
    }
   ],
   "source": [
    "numbers = [4, 3, 2, 1]\n",
    "numbers.sort()\n",
    "print(numbers)"
   ]
  },
  {
   "cell_type": "code",
   "execution_count": 26,
   "id": "561214cb",
   "metadata": {},
   "outputs": [
    {
     "name": "stdout",
     "output_type": "stream",
     "text": [
      "[1]\n",
      "[2, 3, 4, 5, 6]\n",
      "[1, 2, 3]\n",
      "6\n",
      "[5, 6]\n",
      "[6, 5, 4, 3, 2, 1]\n",
      "[6, 4, 2]\n"
     ]
    }
   ],
   "source": [
    "numbers = [1, 2, 3, 4, 5, 6]\n",
    "\n",
    "# Slice the first element\n",
    "print(numbers[0:1])  # [1]\n",
    "\n",
    "# Slice from index 1 to the end\n",
    "print(numbers[1:])  # [2, 3, 4, 5, 6]\n",
    "\n",
    "# Slice from the start to index 2\n",
    "print(numbers[:3])  # [1, 2, 3]\n",
    "\n",
    "# Get the last element\n",
    "print(numbers[-1])  # 6\n",
    "\n",
    "# Slice the last two elements\n",
    "print(numbers[-2:])  # [5, 6]\n",
    "\n",
    "# Reverse the list\n",
    "print(numbers[::-1])  # [6, 5, 4, 3, 2, 1]\n",
    "\n",
    "# Step by two elements in reverse\n",
    "print(numbers[::-2])  # [6, 4, 2]"
   ]
  },
  {
   "cell_type": "code",
   "execution_count": 33,
   "id": "ac67ad88",
   "metadata": {},
   "outputs": [
    {
     "name": "stdout",
     "output_type": "stream",
     "text": [
      "['apple', 'banana', 'blueberry', 'date', 'elderberry', 'grape', 'other1', 'other2']\n",
      "['grape', 'other1', 'other2']\n"
     ]
    }
   ],
   "source": [
    "fruits = [\"apple\", \"banana\", \"cherry\", \"date\", \"elderberry\"]\n",
    "fruits.append(\"fig\")\n",
    "fruits.insert(0, \"grape\")\n",
    "fruits.remove(\"cherry\")\n",
    "fruits.pop()\n",
    "berries = [\"blueberry\", \"other1\", \"other2\"]\n",
    "combined_list = fruits + berries\n",
    "combined_list.sort()\n",
    "print(combined_list)\n",
    "print(combined_list[-3:])"
   ]
  },
  {
   "cell_type": "code",
   "execution_count": 34,
   "id": "c9e75aaf",
   "metadata": {},
   "outputs": [
    {
     "name": "stdout",
     "output_type": "stream",
     "text": [
      "apple\n",
      "banana\n",
      "cherry\n",
      "date\n"
     ]
    }
   ],
   "source": [
    "fruits = [\"apple\", \"banana\", \"cherry\", \"date\"]\n",
    "\n",
    "for fruit in fruits : \n",
    "    print(fruit)"
   ]
  },
  {
   "cell_type": "code",
   "execution_count": 35,
   "id": "2df26cb7",
   "metadata": {},
   "outputs": [
    {
     "name": "stdout",
     "output_type": "stream",
     "text": [
      "0 p\n",
      "1 o\n",
      "2 m\n",
      "3 m\n",
      "4 e\n"
     ]
    }
   ],
   "source": [
    "for idx, char in enumerate(\"pomme\") : \n",
    "    print(idx, char)"
   ]
  },
  {
   "cell_type": "code",
   "execution_count": 39,
   "id": "7b72b109",
   "metadata": {},
   "outputs": [
    {
     "name": "stdout",
     "output_type": "stream",
     "text": [
      "0\n",
      "1\n",
      "2\n",
      "3\n",
      "4\n",
      "5\n"
     ]
    }
   ],
   "source": [
    "i = 0 \n",
    "\n",
    "while i <= 5 : \n",
    "    print(i)\n",
    "    i+= 1"
   ]
  },
  {
   "cell_type": "code",
   "execution_count": null,
   "id": "fc81a06d",
   "metadata": {},
   "outputs": [],
   "source": [
    "person = {\n",
    "    \"name\" : \"Sabri\", \n",
    "    \"age\" : 23, \n",
    "    \"location\" : \"Eaubonne\"\n",
    "}"
   ]
  },
  {
   "cell_type": "code",
   "execution_count": 42,
   "id": "9a7b8a7e",
   "metadata": {},
   "outputs": [
    {
     "name": "stdout",
     "output_type": "stream",
     "text": [
      "George Orwell\n",
      "None\n",
      "{'1984': 'George Orwell', 'The Great Gatsby': 'Francis Scott Fitzgerald', 'Moby Dick': 'Herman Melville'}\n"
     ]
    }
   ],
   "source": [
    "books = {\n",
    "    '1984': 'George Orwell',\n",
    "    'Brave New World': 'Aldous Huxley',\n",
    "    'The Great Gatsby': 'F. Scott Fitzgerald'\n",
    "}\n",
    "\n",
    "print(books[\"1984\"])\n",
    "books[\"The Great Gatsby\"] = \"Francis Scott Fitzgerald\"\n",
    "books[\"Moby Dick\"] = \"Herman Melville\"\n",
    "print(books.get(\"To Kill a Mockingbird\"))\n",
    "books.pop(\"Brave New World\")\n",
    "print(books)"
   ]
  },
  {
   "cell_type": "code",
   "execution_count": 44,
   "id": "32988382",
   "metadata": {},
   "outputs": [
    {
     "name": "stdout",
     "output_type": "stream",
     "text": [
      "pomme\n",
      "2\n",
      "2\n"
     ]
    }
   ],
   "source": [
    "fruits = (\"pomme\", \"banane\", \"fraise\", \"pomme\")\n",
    "print(fruits[0])\n",
    "print(fruits.count(\"pomme\"))\n",
    "print(fruits.index(\"fraise\"))"
   ]
  },
  {
   "cell_type": "code",
   "execution_count": 45,
   "id": "05ac4184",
   "metadata": {},
   "outputs": [
    {
     "name": "stdout",
     "output_type": "stream",
     "text": [
      "{1, 2, 3, 4, 5, 6}\n",
      "set()\n",
      "{5, 7}\n"
     ]
    }
   ],
   "source": [
    "numbers ={1, 2, 3, 4, 5}\n",
    "numbers.add(6)\n",
    "print(numbers)\n",
    "numbers.clear()\n",
    "print(numbers)\n",
    "numbers1 = {1, 5, 7, 10, 100}\n",
    "prime_numbers = {2, 3, 5, 7, 11, 13}\n",
    "print(numbers1.intersection(prime_numbers))"
   ]
  },
  {
   "cell_type": "code",
   "execution_count": null,
   "id": "70eca07e",
   "metadata": {},
   "outputs": [],
   "source": []
  }
 ],
 "metadata": {
  "kernelspec": {
   "display_name": "base",
   "language": "python",
   "name": "python3"
  },
  "language_info": {
   "codemirror_mode": {
    "name": "ipython",
    "version": 3
   },
   "file_extension": ".py",
   "mimetype": "text/x-python",
   "name": "python",
   "nbconvert_exporter": "python",
   "pygments_lexer": "ipython3",
   "version": "3.11.4"
  }
 },
 "nbformat": 4,
 "nbformat_minor": 5
}
