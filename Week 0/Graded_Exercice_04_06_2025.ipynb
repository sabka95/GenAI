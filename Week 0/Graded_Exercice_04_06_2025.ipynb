{
 "cells": [
  {
   "cell_type": "markdown",
   "id": "5d6bb108",
   "metadata": {},
   "source": [
    "Exercice List"
   ]
  },
  {
   "cell_type": "code",
   "execution_count": 1,
   "id": "e749e01d",
   "metadata": {},
   "outputs": [
    {
     "name": "stdout",
     "output_type": "stream",
     "text": [
      "1\n",
      "2\n",
      "3\n",
      "4\n"
     ]
    }
   ],
   "source": [
    "liste = [1, 2, 3, 4]\n",
    "\n",
    "for i in liste : \n",
    "    print(i)"
   ]
  },
  {
   "cell_type": "code",
   "execution_count": 2,
   "id": "88445964",
   "metadata": {},
   "outputs": [
    {
     "name": "stdout",
     "output_type": "stream",
     "text": [
      "20\n",
      "40\n",
      "60\n",
      "80\n"
     ]
    }
   ],
   "source": [
    "liste = [1, 2, 3, 4]\n",
    "\n",
    "for i in liste : \n",
    "    print(i*20)"
   ]
  },
  {
   "cell_type": "code",
   "execution_count": 2,
   "id": "15e39059",
   "metadata": {},
   "outputs": [
    {
     "name": "stdout",
     "output_type": "stream",
     "text": [
      "['E', 'T', 'M']\n"
     ]
    }
   ],
   "source": [
    "liste = [\"Elie\", \"Tim\", \"Matt\"]\n",
    "\n",
    "liste2 = list()\n",
    "\n",
    "for i in liste : \n",
    "    liste2.append(i[0])\n",
    "\n",
    "print(liste2)"
   ]
  },
  {
   "cell_type": "code",
   "execution_count": 8,
   "id": "453c19e3",
   "metadata": {},
   "outputs": [
    {
     "name": "stdout",
     "output_type": "stream",
     "text": [
      "[2, 4, 6]\n"
     ]
    }
   ],
   "source": [
    "liste = [1, 2, 3, 4, 5, 6]\n",
    "\n",
    "liste2 = []\n",
    "\n",
    "for i in liste : \n",
    "    if i % 2 == 0 : \n",
    "        liste2.append(i)\n",
    "\n",
    "print(liste2)"
   ]
  },
  {
   "cell_type": "code",
   "execution_count": 13,
   "id": "d25aef10",
   "metadata": {},
   "outputs": [
    {
     "name": "stdout",
     "output_type": "stream",
     "text": [
      "[3, 4]\n"
     ]
    }
   ],
   "source": [
    "liste1 = [1, 2, 3, 4]\n",
    "\n",
    "liste2 = [3, 4, 5, 6]\n",
    "\n",
    "liste3 = list(set(liste1).intersection(set(liste2)))\n",
    "\n",
    "print(liste3)"
   ]
  },
  {
   "cell_type": "code",
   "execution_count": 33,
   "id": "ab694fe4",
   "metadata": {},
   "outputs": [
    {
     "name": "stdout",
     "output_type": "stream",
     "text": [
      "['eile', 'mit', 'ttam']\n"
     ]
    }
   ],
   "source": [
    "names1 = [\"Elie\", \"Tim\", \"Matt\"]\n",
    "\n",
    "\n",
    "for idx, i in enumerate(names1) : \n",
    "    names1[idx] = names1[idx].lower()\n",
    "    names1[idx] = names1[idx][::-1]\n",
    "\n",
    "print(names1)"
   ]
  },
  {
   "cell_type": "code",
   "execution_count": 35,
   "id": "2a880535",
   "metadata": {},
   "outputs": [
    {
     "name": "stdout",
     "output_type": "stream",
     "text": [
      "['t', 'r', 'i']\n"
     ]
    }
   ],
   "source": [
    "string1 = \"first\"\n",
    "\n",
    "string2 = \"third\"\n",
    "\n",
    "string_new = list(set(string1).intersection(set(string2)))\n",
    "\n",
    "print(string_new)"
   ]
  },
  {
   "cell_type": "code",
   "execution_count": 4,
   "id": "eb3734c1",
   "metadata": {},
   "outputs": [
    {
     "name": "stdout",
     "output_type": "stream",
     "text": [
      "[12, 24, 36, 48, 60, 72, 84, 96]\n"
     ]
    }
   ],
   "source": [
    "liste1 = list()\n",
    "\n",
    "for i in range(1, 100) : \n",
    "    if i % 12 == 0 : \n",
    "        liste1.append(i)\n",
    "\n",
    "print(liste1)\n",
    "\n"
   ]
  },
  {
   "cell_type": "code",
   "execution_count": 40,
   "id": "f3e05728",
   "metadata": {},
   "outputs": [
    {
     "name": "stdout",
     "output_type": "stream",
     "text": [
      "['m', 'z', 'n', 'g']\n"
     ]
    }
   ],
   "source": [
    "string1 = \"amazing\"\n",
    "\n",
    "vowels = [\"a\", \"e\", \"i\", \"o\", \"u\", \"y\"]\n",
    "\n",
    "liste1 = []\n",
    "\n",
    "for i in string1 : \n",
    "    if i not in vowels : \n",
    "        liste1.append(i)\n",
    "\n",
    "print(liste1)"
   ]
  },
  {
   "cell_type": "code",
   "execution_count": 4,
   "id": "30c946f1",
   "metadata": {},
   "outputs": [
    {
     "name": "stdout",
     "output_type": "stream",
     "text": [
      "[[0, 1, 2], [0, 1, 2], [0, 1, 2]]\n"
     ]
    }
   ],
   "source": [
    "liste = [0, 1, 2]\n",
    "\n",
    "liste2 = list()\n",
    "i = 0 \n",
    "\n",
    "while i < 3 :\n",
    "    liste2.append(liste)\n",
    "    i+= 1\n",
    "\n",
    "print(liste2)"
   ]
  },
  {
   "cell_type": "code",
   "execution_count": 5,
   "id": "3d6d29cb",
   "metadata": {},
   "outputs": [
    {
     "name": "stdout",
     "output_type": "stream",
     "text": [
      "[[0, 1, 2], [0, 1, 2], [0, 1, 2]]\n"
     ]
    }
   ],
   "source": [
    "liste = [0, 1, 2]\n",
    "\n",
    "liste2 = [liste for i in range(3)]\n",
    "\n",
    "print(liste2)"
   ]
  },
  {
   "cell_type": "code",
   "execution_count": 57,
   "id": "3f93a3cd",
   "metadata": {},
   "outputs": [
    {
     "name": "stdout",
     "output_type": "stream",
     "text": [
      "[[0, 1, 2, 3, 4, 5, 6, 7, 8, 9], [0, 1, 2, 3, 4, 5, 6, 7, 8, 9], [0, 1, 2, 3, 4, 5, 6, 7, 8, 9], [0, 1, 2, 3, 4, 5, 6, 7, 8, 9], [0, 1, 2, 3, 4, 5, 6, 7, 8, 9], [0, 1, 2, 3, 4, 5, 6, 7, 8, 9], [0, 1, 2, 3, 4, 5, 6, 7, 8, 9], [0, 1, 2, 3, 4, 5, 6, 7, 8, 9], [0, 1, 2, 3, 4, 5, 6, 7, 8, 9], [0, 1, 2, 3, 4, 5, 6, 7, 8, 9]]\n"
     ]
    }
   ],
   "source": [
    "liste = [0, 1, 2, 3, 4, 5, 6, 7, 8, 9]\n",
    "\n",
    "liste2 = list()\n",
    "i = 0 \n",
    "\n",
    "while i < 10 :\n",
    "\n",
    "        liste2.append(liste)\n",
    "        i+= 1\n",
    "\n",
    "print(liste2)"
   ]
  },
  {
   "cell_type": "code",
   "execution_count": 6,
   "id": "f953cf1d",
   "metadata": {},
   "outputs": [
    {
     "name": "stdout",
     "output_type": "stream",
     "text": [
      "[[0, 1, 2, 3, 4, 5, 6, 7, 8, 9], [0, 1, 2, 3, 4, 5, 6, 7, 8, 9], [0, 1, 2, 3, 4, 5, 6, 7, 8, 9], [0, 1, 2, 3, 4, 5, 6, 7, 8, 9], [0, 1, 2, 3, 4, 5, 6, 7, 8, 9], [0, 1, 2, 3, 4, 5, 6, 7, 8, 9], [0, 1, 2, 3, 4, 5, 6, 7, 8, 9], [0, 1, 2, 3, 4, 5, 6, 7, 8, 9], [0, 1, 2, 3, 4, 5, 6, 7, 8, 9], [0, 1, 2, 3, 4, 5, 6, 7, 8, 9]]\n"
     ]
    }
   ],
   "source": [
    "liste = [0, 1, 2, 3, 4, 5, 6, 7, 8, 9]\n",
    "\n",
    "liste2 = [liste for i in range(10)]\n",
    "\n",
    "print(liste2)"
   ]
  },
  {
   "cell_type": "code",
   "execution_count": 7,
   "id": "e180075c",
   "metadata": {},
   "outputs": [
    {
     "name": "stdout",
     "output_type": "stream",
     "text": [
      "[[0, 1, 2, 3, 4, 5, 6, 7, 8, 9], [0, 1, 2, 3, 4, 5, 6, 7, 8, 9], [0, 1, 2, 3, 4, 5, 6, 7, 8, 9], [0, 1, 2, 3, 4, 5, 6, 7, 8, 9], [0, 1, 2, 3, 4, 5, 6, 7, 8, 9], [0, 1, 2, 3, 4, 5, 6, 7, 8, 9], [0, 1, 2, 3, 4, 5, 6, 7, 8, 9], [0, 1, 2, 3, 4, 5, 6, 7, 8, 9], [0, 1, 2, 3, 4, 5, 6, 7, 8, 9], [0, 1, 2, 3, 4, 5, 6, 7, 8, 9]]\n"
     ]
    }
   ],
   "source": [
    "liste = [[i for i in range(10)] for i in range(10)]\n",
    "print(liste)"
   ]
  },
  {
   "cell_type": "markdown",
   "id": "57702b06",
   "metadata": {},
   "source": [
    "Exercice Dictionnary\n"
   ]
  },
  {
   "cell_type": "markdown",
   "id": "48486028",
   "metadata": {},
   "source": []
  },
  {
   "cell_type": "code",
   "execution_count": 2,
   "id": "2bcc9c9d",
   "metadata": {},
   "outputs": [
    {
     "name": "stdout",
     "output_type": "stream",
     "text": [
      "{'name': 'Elie', 'job': 'Instructor'}\n"
     ]
    }
   ],
   "source": [
    "liste = [(\"name\", \"Elie\"), (\"job\", \"Instructor\")]\n",
    "\n",
    "dictionnary = dict(liste)\n",
    "print(dictionnary)"
   ]
  },
  {
   "cell_type": "code",
   "execution_count": 11,
   "id": "301700d4",
   "metadata": {},
   "outputs": [
    {
     "name": "stdout",
     "output_type": "stream",
     "text": [
      "{'CA': 'California', 'NJ': 'New Jersey', 'RI': 'Rhode Island'}\n"
     ]
    }
   ],
   "source": [
    "liste1 = [\"CA\", \"NJ\", \"RI\"]\n",
    "\n",
    "liste2 = [\"California\", \"New Jersey\", \"Rhode Island\"]\n",
    "\n",
    "dictionnary = dict(zip(liste1, liste2))\n",
    "\n",
    "print(dictionnary)"
   ]
  },
  {
   "cell_type": "code",
   "execution_count": null,
   "id": "d9949a48",
   "metadata": {},
   "outputs": [
    {
     "name": "stdout",
     "output_type": "stream",
     "text": [
      "{'a': 0, 'e': 0, 'i': 0, 'o': 0, 'u': 0, 'y': 0}\n"
     ]
    }
   ],
   "source": [
    "vowels = [\"a\", \"e\", \"i\", \"o\", \"u\", \"y\"]\n",
    "\n",
    "dictionnary = dict() {}\n",
    "\n",
    "for i in vowels : \n",
    "    dictionnary[i] = 0\n",
    "\n",
    "print(dictionnary)"
   ]
  },
  {
   "cell_type": "code",
   "execution_count": 8,
   "id": "739e4aeb",
   "metadata": {},
   "outputs": [
    {
     "name": "stdout",
     "output_type": "stream",
     "text": [
      "{1: 'A', 2: 'B', 3: 'C', 4: 'D', 5: 'E,', 6: 'F', 7: 'G', 8: 'H', 9: 'I', 10: 'J', 11: 'K', 12: 'L', 13: 'M', 14: 'N', 15: 'O', 16: 'P', 17: 'Q', 18: 'R', 19: 'S', 20: 'T', 21: 'U', 22: 'V', 23: 'W', 24: 'X', 25: 'Y', 26: 'Z'}\n"
     ]
    }
   ],
   "source": [
    "alpha = [\"A\", \"B\", \"C\", \"D\", \"E,\", \"F\", \"G\", \"H\", \"I\", \"J\", \"K\", \"L\", \"M\", \"N\", \"O\", \"P\", \"Q\", \"R\", \n",
    "         \"S\", \"T\", \"U\", \"V\", \"W\", \"X\", \"Y\", \"Z\"]\n",
    "\n",
    "dictionnary = dict()\n",
    "\n",
    "for idx, i in enumerate(alpha) :\n",
    "    idx2 = idx+1 \n",
    "    dictionnary[idx2] = i \n",
    "\n",
    "print(dictionnary)\n"
   ]
  },
  {
   "cell_type": "code",
   "execution_count": null,
   "id": "585739b3",
   "metadata": {},
   "outputs": [],
   "source": []
  }
 ],
 "metadata": {
  "kernelspec": {
   "display_name": "base",
   "language": "python",
   "name": "python3"
  },
  "language_info": {
   "codemirror_mode": {
    "name": "ipython",
    "version": 3
   },
   "file_extension": ".py",
   "mimetype": "text/x-python",
   "name": "python",
   "nbconvert_exporter": "python",
   "pygments_lexer": "ipython3",
   "version": "3.11.4"
  }
 },
 "nbformat": 4,
 "nbformat_minor": 5
}
