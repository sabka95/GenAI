{
  "nbformat": 4,
  "nbformat_minor": 0,
  "metadata": {
    "colab": {
      "provenance": []
    },
    "kernelspec": {
      "name": "python3",
      "display_name": "Python 3"
    },
    "language_info": {
      "name": "python"
    }
  },
  "cells": [
    {
      "cell_type": "code",
      "execution_count": null,
      "metadata": {
        "id": "5yZvpkiZPlbB"
      },
      "outputs": [],
      "source": [
        "from google.colab import drive\n",
        "drive.mount('/content/drive')"
      ]
    },
    {
      "cell_type": "markdown",
      "source": [
        "# **Daily Challenge**"
      ],
      "metadata": {
        "id": "qjqqr9Jbh8GK"
      }
    },
    {
      "cell_type": "markdown",
      "source": [
        "Findings:\n",
        "The analysis reveals a strong negative correlation between discounts above 40% and profitability, particularly in the \"Furniture\" category, which becomes consistently unprofitable when discounts exceed 60%. Sales volumes generally peak in November and December across all product categories. Additionally, California stands out as the top-performing state in terms of total sales, far surpassing others.\n",
        "\n",
        "Recommendations:\n",
        "It is advisable to cap discounts between 20% and 30%, especially during the first half of the year. For the last quarter (October to December), reducing discounts to a range of 10% to 20% is recommended to protect profitability. Sales efforts should also prioritize high-performing regions such as California and New York to maximize returns."
      ],
      "metadata": {
        "id": "dS76nGsTWepO"
      }
    },
    {
      "cell_type": "markdown",
      "source": [
        "## **Phase 1: Data Scoping and Preparation**"
      ],
      "metadata": {
        "id": "rD_EyaUkhFOQ"
      }
    },
    {
      "cell_type": "markdown",
      "source": [
        "\n",
        "\n",
        "### **1.   Data Ingestion and Initial Assessment:**\n",
        "\n",
        "\n"
      ],
      "metadata": {
        "id": "KZ-PLcAwhQ2_"
      }
    },
    {
      "cell_type": "code",
      "source": [
        "import pandas as pd\n",
        "\n",
        "superstore_file = pd.read_excel(\"/content/drive/MyDrive/GENAI/Week2/Day5/US Superstore data.xls\")\n",
        "df_superstore = pd.DataFrame(superstore_file)\n",
        "df_superstore.head()"
      ],
      "metadata": {
        "id": "DxR8k07fQQIH"
      },
      "execution_count": null,
      "outputs": []
    },
    {
      "cell_type": "code",
      "source": [
        "df_superstore.shape[0]"
      ],
      "metadata": {
        "id": "eWugXi2rTQfM"
      },
      "execution_count": null,
      "outputs": []
    },
    {
      "cell_type": "code",
      "source": [
        "df_superstore.info()"
      ],
      "metadata": {
        "id": "wsqB5UFLQ1L4"
      },
      "execution_count": null,
      "outputs": []
    },
    {
      "cell_type": "code",
      "source": [
        "df_superstore.describe()"
      ],
      "metadata": {
        "id": "J4IBVrJJQ7kr"
      },
      "execution_count": null,
      "outputs": []
    },
    {
      "cell_type": "code",
      "source": [
        "df_superstore.isnull().sum()"
      ],
      "metadata": {
        "id": "sjndPPQeRQ-j"
      },
      "execution_count": null,
      "outputs": []
    },
    {
      "cell_type": "markdown",
      "source": [
        "\n",
        "\n",
        "### **2.   Data Cleaning and Preprocessing:**\n",
        "\n"
      ],
      "metadata": {
        "id": "xlpopgDUiRVW"
      }
    },
    {
      "cell_type": "code",
      "source": [
        "df_superstore.drop_duplicates(inplace=True)"
      ],
      "metadata": {
        "id": "ugXcHiysRU4a"
      },
      "execution_count": null,
      "outputs": []
    },
    {
      "cell_type": "markdown",
      "source": [
        "On supprime les valeurs extremes des colonnes qui comportent des données quantitatives\n"
      ],
      "metadata": {
        "id": "lVa0rtEej7eA"
      }
    },
    {
      "cell_type": "code",
      "source": [
        "columns = df_superstore.select_dtypes(include='number').columns\n",
        "\n",
        "outliers = pd.DataFrame()\n",
        "\n",
        "for col in columns:\n",
        "  Q1 = df_superstore[col].quantile(0.25)\n",
        "  Q3 = df_superstore[col].quantile(0.75)\n",
        "  IQR = Q3 - Q1\n",
        "  lower_bound = Q1 - 1.5 * IQR\n",
        "  upper_bound = Q3 + 1.5 * IQR\n",
        "  outlier = df_superstore[(df_superstore[col] < lower_bound) | (df_superstore[col] > upper_bound)]\n",
        "  outlier['outliers'] = col\n",
        "  outliers = pd.concat([outliers, outlier])\n",
        "\n",
        "outliers.drop_duplicates(inplace=True)\n",
        "outliers"
      ],
      "metadata": {
        "id": "OaBnPf3JRuRF"
      },
      "execution_count": null,
      "outputs": []
    },
    {
      "cell_type": "code",
      "source": [
        "df_superstore.drop(outliers.index, inplace = True)\n",
        "df_superstore.head()"
      ],
      "metadata": {
        "id": "gdd_fGBgWAZ9"
      },
      "execution_count": null,
      "outputs": []
    },
    {
      "cell_type": "code",
      "source": [
        "df_superstore.shape[0]"
      ],
      "metadata": {
        "id": "ZjMgYmp7WMhc"
      },
      "execution_count": null,
      "outputs": []
    },
    {
      "cell_type": "code",
      "source": [
        "df_superstore_cleaned = df_superstore.copy()"
      ],
      "metadata": {
        "id": "djT4byOxWmej"
      },
      "execution_count": null,
      "outputs": []
    },
    {
      "cell_type": "code",
      "source": [
        "df_superstore_cleaned.info()"
      ],
      "metadata": {
        "id": "Ntc8mfykXk8Q"
      },
      "execution_count": null,
      "outputs": []
    },
    {
      "cell_type": "markdown",
      "source": [
        "On supprime ces colonnes car elles ne nous partagent pas d'informations pertinentes qui pourraient nous etre utile pour la suite\n"
      ],
      "metadata": {
        "id": "p6vNAFY6cj0y"
      }
    },
    {
      "cell_type": "code",
      "source": [
        "df_superstore_reduced = df_superstore_cleaned.drop([\"Order ID\", \"Customer ID\", \"Product ID\"], axis = 1)\n",
        "df_superstore_reduced.head()"
      ],
      "metadata": {
        "id": "AsrWpr8mcexP"
      },
      "execution_count": null,
      "outputs": []
    },
    {
      "cell_type": "code",
      "source": [
        "df_superstore_reduced.info()"
      ],
      "metadata": {
        "id": "hp0gjoFdeLT9"
      },
      "execution_count": null,
      "outputs": []
    },
    {
      "cell_type": "code",
      "source": [
        "df_superstore_reduced2 = df_superstore_reduced.copy()"
      ],
      "metadata": {
        "id": "jSjF-NqucjJc"
      },
      "execution_count": null,
      "outputs": []
    },
    {
      "cell_type": "markdown",
      "source": [
        "On utilise le one hot encoder pour les colonnes qui ont un faible nombre de cardinalitées pour eviter d'ajouter un trop grand nombre de colonnes. Sinon on utilise le label encoder"
      ],
      "metadata": {
        "id": "Ehrw-lN2nx8L"
      }
    },
    {
      "cell_type": "code",
      "source": [
        "from sklearn.preprocessing import LabelEncoder\n",
        "\n",
        "le = LabelEncoder()\n",
        "df_superstore_reduced2[\"Customer Name\"] = le.fit_transform(df_superstore_reduced2[\"Customer Name\"])\n",
        "df_superstore_reduced2[\"City\"] = le.fit_transform(df_superstore_reduced2[\"City\"])\n",
        "df_superstore_reduced2[\"State\"] = le.fit_transform(df_superstore_reduced2[\"State\"])\n",
        "df_superstore_reduced2[\"Sub-Category\"] = le.fit_transform(df_superstore_reduced2[\"Sub-Category\"])\n",
        "df_superstore_reduced2[\"Product Name\"] = le.fit_transform(df_superstore_reduced2[\"Product Name\"])\n",
        "df_superstore_reduced2.head()"
      ],
      "metadata": {
        "id": "gj3L-ZGhmRNi"
      },
      "execution_count": null,
      "outputs": []
    },
    {
      "cell_type": "code",
      "source": [
        "from sklearn.preprocessing import OneHotEncoder\n",
        "\n",
        "Oh_shipping = pd.get_dummies(df_superstore_reduced2[\"Ship Mode\"])\n",
        "oh_country = pd.get_dummies(df_superstore_reduced2[\"Country\"])\n",
        "oh_region = pd.get_dummies(df_superstore_reduced2[\"Region\"])\n",
        "oh_category = pd.get_dummies(df_superstore_reduced2[\"Category\"])\n",
        "\n",
        "df_superstore_reduced2 = pd.concat([df_superstore_reduced2, Oh_shipping, oh_country, oh_region, oh_category], axis = 1)\n",
        "df_superstore_reduced2.drop([\"Ship Mode\", \"Country\", \"Region\", \"Category\"], axis = 1, inplace = True)\n",
        "df_superstore_reduced2.head()"
      ],
      "metadata": {
        "id": "RHk0ADg9mKDS"
      },
      "execution_count": null,
      "outputs": []
    },
    {
      "cell_type": "markdown",
      "source": [
        "\n",
        "\n",
        "### **3.   Feature Engineering:**\n",
        "\n",
        "\n"
      ],
      "metadata": {
        "id": "xphMQOfErbfP"
      }
    },
    {
      "cell_type": "code",
      "source": [
        "df_superstore_reduced[\"Profit Margin\"] = (df_superstore_reduced[\"Profit\"] / df_superstore_reduced[\"Sales\"]) * 100\n",
        "df_superstore_reduced[\"Order Year\"] = df_superstore_reduced[\"Order Date\"].dt.year\n",
        "df_superstore_reduced[\"Order Month\"] = df_superstore_reduced[\"Order Date\"].dt.month\n",
        "df_superstore_reduced[\"Ship Year\"] = df_superstore_reduced[\"Ship Date\"].dt.year\n",
        "df_superstore_reduced[\"Ship Month\"] = df_superstore_reduced[\"Ship Date\"].dt.month\n",
        "\n",
        "df_superstore_reduced.head()"
      ],
      "metadata": {
        "id": "BLJLqVRMrqYB"
      },
      "execution_count": null,
      "outputs": []
    },
    {
      "cell_type": "markdown",
      "source": [
        "On normalise les colonnes qui contiennent des données quantitatives\n"
      ],
      "metadata": {
        "id": "U694EgT3uuFg"
      }
    },
    {
      "cell_type": "code",
      "source": [
        "from sklearn.preprocessing import MinMaxScaler\n",
        "\n",
        "scaler = MinMaxScaler()\n",
        "df_superstore_reduced[[\"Sales\", \"Quantity\", \"Discount\", \"Profit\", \"Profit Margin\"]] = scaler.fit_transform(df_superstore_reduced[[\"Sales\", \"Quantity\", \"Discount\", \"Profit\", \"Profit Margin\"]])\n",
        "df_superstore_reduced.head()"
      ],
      "metadata": {
        "id": "RG7Skchbuumg"
      },
      "execution_count": null,
      "outputs": []
    },
    {
      "cell_type": "code",
      "source": [
        "df = df_superstore_reduced.drop([\"Order Date\", \"Ship Date\"], axis = 1)\n",
        "df.head()"
      ],
      "metadata": {
        "id": "5Bq_X2lFvQEX"
      },
      "execution_count": null,
      "outputs": []
    },
    {
      "cell_type": "markdown",
      "source": [
        "## **Phase 2: Exploratory Analysis with Matplotlib**"
      ],
      "metadata": {
        "id": "8EQ54A2AwN99"
      }
    },
    {
      "cell_type": "markdown",
      "source": [
        "\n",
        "\n",
        "### **1.   Time-Series Trend Investigation:**\n",
        "\n"
      ],
      "metadata": {
        "id": "ocCp0OB6wpQw"
      }
    },
    {
      "cell_type": "code",
      "source": [
        "import matplotlib.pyplot as plt\n",
        "import ipywidgets as widgets\n",
        "\n",
        "\n",
        "category_dropdown = widgets.Dropdown(\n",
        "    options=df['Category'].unique(),\n",
        "    description='Category:'\n",
        ")\n",
        "\n",
        "def update_chart(selected_category):\n",
        "\n",
        "    filtered_df = df[df['Category'] == selected_category]\n",
        "\n",
        "    grouped = filtered_df.groupby(['Order Year', 'Order Month'])['Sales'].sum().reset_index()\n",
        "    pivot_df = grouped.pivot(index='Order Month', columns='Order Year', values='Sales')\n",
        "\n",
        "    plt.figure(figsize=(10, 5))\n",
        "    for year in pivot_df.columns:\n",
        "        plt.plot(pivot_df[year], marker='o', label=str(year))\n",
        "\n",
        "    plt.title('Total Sales per Month by Year')\n",
        "    plt.xlabel('Month')\n",
        "    plt.ylabel('Total Sales')\n",
        "    plt.xticks(ticks=range(1, 13), labels=[\n",
        "        'Jan', 'Fev', 'Mar', 'Avr', 'Mai', 'Jui',\n",
        "        'Jui', 'Aou', 'Sep', 'Oct', 'Nov', 'Dec'\n",
        "    ])\n",
        "    plt.legend(title='Year')\n",
        "    plt.grid(True)\n",
        "    plt.show()\n",
        "\n",
        "\n",
        "widgets.interactive(update_chart, selected_category=category_dropdown)"
      ],
      "metadata": {
        "id": "Oww55NSnwRO9"
      },
      "execution_count": null,
      "outputs": []
    },
    {
      "cell_type": "markdown",
      "source": [
        "In general, sales increase throughout the year\n",
        "and are highest between November and December, regardless of product type."
      ],
      "metadata": {
        "id": "eW92XDqI9pP_"
      }
    },
    {
      "cell_type": "markdown",
      "source": [
        "\n",
        "### **2.   Geographic Performance Analysis:**\n",
        "\n"
      ],
      "metadata": {
        "id": "EIsbnwR38mB2"
      }
    },
    {
      "cell_type": "code",
      "source": [
        "interactive_tool = widgets.IntSlider(\n",
        "    value = df[\"State\"].nunique(),\n",
        "    min = 0,\n",
        "    max = df[\"State\"].nunique(),\n",
        "    step=1,\n",
        "    description = \"State\",\n",
        "    disabled=False,\n",
        "    continuous_update=False,\n",
        "    orientation='horizontal',\n",
        "    readout=True,\n",
        "    readout_format='d'\n",
        "\n",
        ")\n",
        "\n",
        "def update_chart(number_state):\n",
        "\n",
        "    filtered_df = df.groupby(\"State\")[\"Sales\"].sum().sort_values(ascending=False).head(number_state)\n",
        "    plt.figure(figsize=(10, 5))\n",
        "    plt.bar(filtered_df.index, filtered_df.values)\n",
        "    plt.xlabel(\"State\")\n",
        "    plt.ylabel(\"Total Sales\")\n",
        "    plt.title(f\"Top {number_state} States by Total Sales\")\n",
        "    plt.xticks(rotation=90)\n",
        "\n",
        "widgets.interactive(update_chart, number_state=interactive_tool)"
      ],
      "metadata": {
        "id": "rsN88p3Q8u7H"
      },
      "execution_count": null,
      "outputs": []
    },
    {
      "cell_type": "markdown",
      "source": [
        "\n",
        "## **Phase 3:**\n",
        "\n"
      ],
      "metadata": {
        "id": "9OV-YqCpFna4"
      }
    },
    {
      "cell_type": "markdown",
      "source": [
        "\n",
        "\n",
        "### **1.   Product Profitability Report:**\n",
        "\n"
      ],
      "metadata": {
        "id": "zkS_4doiFuAv"
      }
    },
    {
      "cell_type": "code",
      "source": [
        "filtered_df = df.groupby(\"Product Name\")[\"Sales\"].sum().sort_values(ascending=False).head(10)\n",
        "plt.figure(figsize=(10, 5))\n",
        "plt.barh(filtered_df.index, filtered_df.values, height=0.8)\n",
        "plt.xlabel(\"Product Name\")\n",
        "plt.ylabel(\"Total Sales\")\n",
        "plt.title(\"Top 10 most profitable products\")\n",
        "plt.xticks(rotation=90)\n",
        "plt.show()"
      ],
      "metadata": {
        "id": "D0BSURytFdpa"
      },
      "execution_count": null,
      "outputs": []
    },
    {
      "cell_type": "markdown",
      "source": [
        "\n",
        "### **2.   Discount Strategy Analysis:**\n",
        "\n"
      ],
      "metadata": {
        "id": "VRhy84ENHtUe"
      }
    },
    {
      "cell_type": "code",
      "source": [
        "import seaborn as sns\n",
        "\n",
        "filtered_df = df.groupby(\"Product Name\")[\"Sales\"].sum().sort_values(ascending=False).head(10)\n",
        "filtered_df2 = df[df[\"Product Name\"].isin(filtered_df.index)]\n",
        "plt.figure(figsize=(10, 5))\n",
        "sns.scatterplot(x = filtered_df2[\"Discount\"], y = filtered_df2[\"Profit\"], hue = filtered_df2[\"Category\"])\n",
        "sns.regplot(x=filtered_df2[\"Discount\"], y=filtered_df2[\"Profit\"], scatter=False)\n",
        "plt.xlabel(\"Discount\")\n",
        "plt.ylabel(\"Profit\")\n",
        "plt.title(\"Top 10 most profitable products\")\n",
        "plt.xticks(rotation=90)\n",
        "plt.show()"
      ],
      "metadata": {
        "id": "J6tb0zFyHp71"
      },
      "execution_count": null,
      "outputs": []
    },
    {
      "cell_type": "markdown",
      "source": [
        "Higher discounts generally reduce profit, especially in Technology and Furniture. Office Supplies are less affected."
      ],
      "metadata": {
        "id": "-4FV7CnCQsgX"
      }
    },
    {
      "cell_type": "markdown",
      "source": [
        "## **Phase 4:**"
      ],
      "metadata": {
        "id": "0X_3V17iQm6D"
      }
    },
    {
      "cell_type": "markdown",
      "source": [
        "In this project, Seaborn proved more efficient for quickly generating plots. Matplotlib, while slower to produce  visuals, offered essential fine-grained control for customizing layouts, axis labels, and spacing. Seaborn accelerated tasks like multi-category scatterplots and regression analysis, whereas Matplotlib was crucial when precise adjustments were needed. From now on, I will use Seaborn for rapid, multi-variable visualisation and I will use Matplotlib for adjusting visuals."
      ],
      "metadata": {
        "id": "hHjlhzb2R5OA"
      }
    },
    {
      "cell_type": "markdown",
      "source": [
        "Findings : Analysis reveals a strong negative correlation between discount above 40% and profitability. Particularly within the \"Furniture\" category, which becomes consistently unprofitable at 60% discount. It also reveals that product are generarly more selled in november and december and that for all type of product. And it also provide the information that California is the state that make the most sales by far.\n",
        "\n",
        "Recommendations : Reccoment capping the discount somwhere beteen 20% and 30%. Especially for the earlier month of the year. and reduce the discount between 10% and 20% for the last trimestre of the year. And focus the sales in california and new york."
      ],
      "metadata": {
        "id": "SoiGSflIUf-n"
      }
    }
  ]
}