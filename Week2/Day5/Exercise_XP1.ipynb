{
  "nbformat": 4,
  "nbformat_minor": 0,
  "metadata": {
    "colab": {
      "provenance": []
    },
    "kernelspec": {
      "name": "python3",
      "display_name": "Python 3"
    },
    "language_info": {
      "name": "python"
    }
  },
  "cells": [
    {
      "cell_type": "code",
      "execution_count": null,
      "metadata": {
        "id": "dKasEPKiWplm"
      },
      "outputs": [],
      "source": [
        "from google.colab import drive\n",
        "drive.mount('/content/drive')"
      ]
    },
    {
      "cell_type": "code",
      "source": [
        "import pandas as pd\n",
        "\n",
        "superstore_file = pd.read_excel(\"/content/drive/MyDrive/GENAI/Week2/Day5/US Superstore data.xls\")\n",
        "df_superstore = pd.DataFrame(superstore_file)\n",
        "df_superstore.head()"
      ],
      "metadata": {
        "id": "rL5beaaMWq_S"
      },
      "execution_count": null,
      "outputs": []
    },
    {
      "cell_type": "code",
      "source": [
        "df_superstore.info()"
      ],
      "metadata": {
        "id": "7DaMYTchZak6"
      },
      "execution_count": null,
      "outputs": []
    },
    {
      "cell_type": "code",
      "source": [
        "df_superstore.drop_duplicates(inplace=True)"
      ],
      "metadata": {
        "id": "omniHEpLW8tf"
      },
      "execution_count": null,
      "outputs": []
    },
    {
      "cell_type": "code",
      "source": [
        "columns = df_superstore.select_dtypes(include='number').columns\n",
        "\n",
        "outliers = pd.DataFrame()\n",
        "\n",
        "for col in columns:\n",
        "  Q1 = df_superstore[col].quantile(0.25)\n",
        "  Q3 = df_superstore[col].quantile(0.75)\n",
        "  IQR = Q3 - Q1\n",
        "  lower_bound = Q1 - 1.5 * IQR\n",
        "  upper_bound = Q3 + 1.5 * IQR\n",
        "  outlier = df_superstore[(df_superstore[col] < lower_bound) | (df_superstore[col] > upper_bound)]\n",
        "  outlier['outliers'] = col\n",
        "  outliers = pd.concat([outliers, outlier])\n",
        "\n",
        "outliers.drop_duplicates(inplace=True)\n",
        "outliers"
      ],
      "metadata": {
        "id": "AnI6oChQXNKm"
      },
      "execution_count": null,
      "outputs": []
    },
    {
      "cell_type": "code",
      "source": [
        "df_superstore.drop(outliers.index, inplace = True)\n",
        "df_superstore.head()"
      ],
      "metadata": {
        "id": "lFo-O0UMXPeh"
      },
      "execution_count": null,
      "outputs": []
    },
    {
      "cell_type": "code",
      "source": [
        "df_superstore_cleaned = df_superstore.copy()"
      ],
      "metadata": {
        "id": "ph10hwfPXTJb"
      },
      "execution_count": null,
      "outputs": []
    },
    {
      "cell_type": "code",
      "source": [
        "df_superstore_reduced = df_superstore_cleaned.drop([\"Order ID\", \"Customer ID\", \"Product ID\"], axis = 1)\n",
        "df_superstore_reduced.head()"
      ],
      "metadata": {
        "id": "XP6qvQmIXXoU"
      },
      "execution_count": null,
      "outputs": []
    },
    {
      "cell_type": "code",
      "source": [
        "df_superstore_reduced[\"Profit Margin\"] = (df_superstore_reduced[\"Profit\"] / df_superstore_reduced[\"Sales\"]) * 100\n",
        "df_superstore_reduced[\"Order Year\"] = df_superstore_reduced[\"Order Date\"].dt.year\n",
        "df_superstore_reduced[\"Order Month\"] = df_superstore_reduced[\"Order Date\"].dt.month\n",
        "df_superstore_reduced[\"Ship Year\"] = df_superstore_reduced[\"Ship Date\"].dt.year\n",
        "df_superstore_reduced[\"Ship Month\"] = df_superstore_reduced[\"Ship Date\"].dt.month\n",
        "\n",
        "df_superstore_reduced.head()"
      ],
      "metadata": {
        "id": "AHVTePyZXaZA"
      },
      "execution_count": null,
      "outputs": []
    },
    {
      "cell_type": "code",
      "source": [
        "df = df_superstore_reduced.drop([\"Order Date\", \"Ship Date\"], axis = 1)\n",
        "df.head()"
      ],
      "metadata": {
        "id": "A45toLGQXi9G"
      },
      "execution_count": null,
      "outputs": []
    },
    {
      "cell_type": "markdown",
      "source": [
        "Which states have the most sales?"
      ],
      "metadata": {
        "id": "vCHYUsl7Xtwu"
      }
    },
    {
      "cell_type": "code",
      "source": [
        "most_sales = df.groupby(\"State\")[\"Sales\"].sum().sort_values(ascending = False).head(1)\n",
        "most_sales"
      ],
      "metadata": {
        "id": "iimjjdqfXlQs"
      },
      "execution_count": null,
      "outputs": []
    },
    {
      "cell_type": "markdown",
      "source": [
        "What is the difference between New York and California in terms of sales and profit?"
      ],
      "metadata": {
        "id": "yJzL9VPuYJxm"
      }
    },
    {
      "cell_type": "code",
      "source": [
        "filtered_df = df[(df[\"State\"] == \"New York\") | (df[\"State\"] == \"California\")]\n",
        "state_sales = filtered_df.groupby(\"State\")[[\"Sales\", \"Profit\"]].sum()\n",
        "state_sales"
      ],
      "metadata": {
        "id": "-B8F-k1kYHtC"
      },
      "execution_count": null,
      "outputs": []
    },
    {
      "cell_type": "markdown",
      "source": [
        "Who is an outstanding customer in New York?"
      ],
      "metadata": {
        "id": "ra75F3ifYk4J"
      }
    },
    {
      "cell_type": "code",
      "source": [
        "filtered_df = df[(df[\"State\"] == \"New York\")]\n",
        "top_customer = filtered_df.groupby(\"Customer Name\")[\"Sales\"].sum().sort_values(ascending = False).head(1)\n",
        "top_customer"
      ],
      "metadata": {
        "id": "CUofoWvOYm5f"
      },
      "execution_count": null,
      "outputs": []
    },
    {
      "cell_type": "markdown",
      "source": [
        "Are there any differences among states in profitability?"
      ],
      "metadata": {
        "id": "dYWH6SlXZ_2_"
      }
    },
    {
      "cell_type": "code",
      "source": [
        "import matplotlib.pyplot as plt\n",
        "import ipywidgets as widgets\n",
        "\n",
        "\n",
        "category_dropdown = widgets.Dropdown(\n",
        "    options=df['Category'].unique(),\n",
        "    description='Category:'\n",
        ")\n",
        "\n",
        "def update_chart(selected_category):\n",
        "\n",
        "    filtered_df = df[df['Category'] == selected_category]\n",
        "\n",
        "    grouped = filtered_df.groupby('State')['Profit'].sum().reset_index()\n",
        "\n",
        "    plt.figure(figsize=(10, 6))\n",
        "    plt.bar(grouped[\"State\"], grouped[\"Profit\"])\n",
        "    plt.title(f'Sales per state for {selected_category}')\n",
        "    plt.xlabel('State')\n",
        "    plt.ylabel('Total Sales')\n",
        "    plt.xticks(rotation=90)\n",
        "    plt.legend(title=selected_category)\n",
        "    plt.show()\n",
        "\n",
        "\n",
        "widgets.interactive(update_chart, selected_category=category_dropdown)"
      ],
      "metadata": {
        "id": "n4utjWroZ_YR"
      },
      "execution_count": null,
      "outputs": []
    },
    {
      "cell_type": "markdown",
      "source": [
        " Can we apply Pareto principle to customers and Profit ?"
      ],
      "metadata": {
        "id": "zteVTQx1ZPMV"
      }
    },
    {
      "cell_type": "code",
      "source": [
        "grouped = df.groupby('Customer Name')['Profit'].sum().reset_index()\n",
        "grouped = grouped.sort_values(by='Profit', ascending=False)\n",
        "grouped"
      ],
      "metadata": {
        "id": "fhVqJozhdw17"
      },
      "execution_count": null,
      "outputs": []
    },
    {
      "cell_type": "code",
      "source": [
        "grouped.reset_index(drop=True, inplace=True)"
      ],
      "metadata": {
        "id": "E93fFn0UiwNM"
      },
      "execution_count": null,
      "outputs": []
    },
    {
      "cell_type": "code",
      "source": [
        "import numpy as np\n",
        "\n",
        "n_customer = grouped.shape[0]\n",
        "total_sales = grouped['Profit'].sum()\n",
        "\n",
        "grouped['cum_Profit'] = grouped[\"Profit\"].cumsum()\n",
        "grouped['cum_Pofit_%'] = grouped['cum_Profit']/total_sales * 100\n",
        "grouped[\"customer_%\"] =(grouped.index + 1)/n_customer * 100\n",
        "grouped"
      ],
      "metadata": {
        "id": "d97SmTStfvl-"
      },
      "execution_count": null,
      "outputs": []
    },
    {
      "cell_type": "code",
      "source": [
        "grouped = grouped[grouped['cum_Pofit_%'] >= 80].head(1)\n",
        "grouped"
      ],
      "metadata": {
        "id": "QsfXFT09jfBJ"
      },
      "execution_count": null,
      "outputs": []
    },
    {
      "cell_type": "markdown",
      "source": [
        "No, 20% of customers do not contribute to 80% of the profit"
      ],
      "metadata": {
        "id": "8BAvwuGtjsIa"
      }
    },
    {
      "cell_type": "markdown",
      "source": [
        "What are the Top 20 cities by Sales ?"
      ],
      "metadata": {
        "id": "paoukT2Qj89b"
      }
    },
    {
      "cell_type": "code",
      "source": [
        "grouped = df.groupby('City')['Sales'].sum().reset_index().sort_values(by = 'Sales', ascending=False).head(20)\n",
        "grouped.reset_index(drop=True, inplace=True)\n",
        "grouped"
      ],
      "metadata": {
        "id": "Wb4iqwGNjyHy"
      },
      "execution_count": null,
      "outputs": []
    },
    {
      "cell_type": "code",
      "source": [
        "grouped2 = df.groupby('City')['Profit'].sum().reset_index().sort_values(by = 'Profit', ascending=False).head(20)\n",
        "grouped2.reset_index(drop=True, inplace=True)\n",
        "grouped2"
      ],
      "metadata": {
        "id": "EXZCzVLelLeb"
      },
      "execution_count": null,
      "outputs": []
    },
    {
      "cell_type": "code",
      "source": [
        "import seaborn as sns\n",
        "import matplotlib.pyplot as plt\n",
        "\n",
        "f, (ax1, ax2) = plt.subplots(2,1, figsize=(10,9))\n",
        "ax1.scatter(x = 'City', y = 'Sales', data = grouped)\n",
        "ax1.set_title('Sales by City')\n",
        "ax1.tick_params(rotation=90)\n",
        "ax2.scatter(x = 'City', y = 'Profit', data = grouped2)\n",
        "ax2.set_title('Profit by City')\n",
        "ax2.tick_params(rotation=90)\n",
        "plt.subplots_adjust(hspace=0.5)\n",
        "plt.show()"
      ],
      "metadata": {
        "id": "TkYYSCzZtQyo"
      },
      "execution_count": null,
      "outputs": []
    },
    {
      "cell_type": "markdown",
      "source": [
        "These plots show that although Los Angeles generates the highest sales, it ranks only second in terms of profit, behind New York City. This pattern is observed in several other cities as well, where higher sales do not necessarily translate into higher profits — likely due to lower profit margins."
      ],
      "metadata": {
        "id": "tBmzmhvuwlFo"
      }
    },
    {
      "cell_type": "markdown",
      "source": [
        "What are the Top 20 customers by Sales?"
      ],
      "metadata": {
        "id": "h2bFksXpxPRR"
      }
    },
    {
      "cell_type": "code",
      "source": [
        "most_sales = df.groupby(\"Customer Name\")[\"Sales\"].sum().sort_values(ascending = False).head(20)\n",
        "most_sales"
      ],
      "metadata": {
        "id": "Xma3enOPv4Zp"
      },
      "execution_count": null,
      "outputs": []
    },
    {
      "cell_type": "markdown",
      "source": [
        "Plot the Cumulative curve in Sales by Customers. Can we apply Pareto principle to customers and Sales ?"
      ],
      "metadata": {
        "id": "mUBSDcv1xSE8"
      }
    },
    {
      "cell_type": "code",
      "source": [
        "plt.plot(most_sales)\n",
        "plt.title('Cumulative curve in Sales by Customers')\n",
        "plt.xlabel('Customers')\n",
        "plt.ylabel('Sales')\n",
        "plt.xticks(rotation=90)\n",
        "plt.show()"
      ],
      "metadata": {
        "id": "Qpp_PrTjxTX6"
      },
      "execution_count": null,
      "outputs": []
    },
    {
      "cell_type": "code",
      "source": [
        "grouped = df.groupby('Customer Name')['Sales'].sum().reset_index()\n",
        "grouped = grouped.sort_values(by='Sales', ascending=False)\n",
        "grouped"
      ],
      "metadata": {
        "id": "upZRQOBtzXWb"
      },
      "execution_count": null,
      "outputs": []
    },
    {
      "cell_type": "code",
      "source": [
        "grouped.reset_index(drop=True, inplace=True)"
      ],
      "metadata": {
        "id": "Aatr0JzuzaLs"
      },
      "execution_count": null,
      "outputs": []
    },
    {
      "cell_type": "code",
      "source": [
        "\n",
        "n_customer = grouped.shape[0]\n",
        "total_sales = grouped['Sales'].sum()\n",
        "\n",
        "grouped['cum_sales'] = grouped[\"Sales\"].cumsum()\n",
        "grouped['cum_sales_%'] = grouped['cum_sales']/total_sales * 100\n",
        "grouped[\"customer_%\"] =(grouped.index + 1)/n_customer * 100\n",
        "grouped"
      ],
      "metadata": {
        "id": "iiQjLAFazQLG"
      },
      "execution_count": null,
      "outputs": []
    },
    {
      "cell_type": "code",
      "source": [
        "grouped = grouped[grouped['cum_sales_%'] >= 80].head(1)\n",
        "grouped"
      ],
      "metadata": {
        "id": "RL581Weezdne"
      },
      "execution_count": null,
      "outputs": []
    },
    {
      "cell_type": "markdown",
      "source": [
        "No, 20% of customers do not contribute to 80% of the sales"
      ],
      "metadata": {
        "id": "BCNoqocf1HDT"
      }
    },
    {
      "cell_type": "markdown",
      "source": [
        "Based on the analysis, make decisions on which states and cities to prioritize for marketing strategies."
      ],
      "metadata": {
        "id": "wnkUp1xi1azz"
      }
    },
    {
      "cell_type": "markdown",
      "source": [
        "According to the analysis, it would be more effective from a marketing perspective to focus on New York, Los Angeles, San Francisco, and Seattle, as these cities generate the highest sales and profits."
      ],
      "metadata": {
        "id": "oBjFjn_x1euU"
      }
    }
  ]
}