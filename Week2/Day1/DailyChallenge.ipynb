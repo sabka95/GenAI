{
  "nbformat": 4,
  "nbformat_minor": 0,
  "metadata": {
    "colab": {
      "provenance": []
    },
    "kernelspec": {
      "name": "python3",
      "display_name": "Python 3"
    },
    "language_info": {
      "name": "python"
    }
  },
  "cells": [
    {
      "cell_type": "markdown",
      "source": [
        "Daily challenge: Real-world Data Analysis Scenarios"
      ],
      "metadata": {
        "id": "VRZZXDKMeH5T"
      }
    },
    {
      "cell_type": "markdown",
      "source": [
        "\n",
        "Instructions\n",
        "Task: Find and present in writing a recent news story or business case study where data analysis played a crucial role. This could involve situations where data analysis led to a breakthrough, influenced a major decision, or uncovered significant trends impacting the business or societal context.\n",
        "\n",
        "Step 1: Search for a relevant case or news story. Consider sources like business journals, news websites, or scientific publications.\n",
        "Step 2: Analyze the role of data analysis in the chosen story. Pay attention to what data was analyzed, the methods used, and the outcomes or decisions driven by the analysis.\n",
        "Step 3: Ask yourself how the data analysis impacted the situation. Consider questions like: What would have been different without data analysis? How did data analysis contribute to solving a problem or making a decision?\n",
        "Step 4: Present your findings in writing, Focus on explaining the significance of data analysis in the context of your chosen story."
      ],
      "metadata": {
        "id": "ABE4QG4weQD6"
      }
    },
    {
      "cell_type": "markdown",
      "source": [
        "Des chercheurs ont récemment développé un outil d’intelligence artificielle nommé FaceAge, capable de prédire la survie à six mois de patients atteints de cancer à partir de simples photos de leur visage. En analysant l’âge « perçu » d’un individu par rapport à son âge réel, l’algorithme identifie des signes visuels souvent imperceptibles à l’œil nu mais corrélés à l’état de santé général du patient. Entraîné sur plus de 59 000 images de personnes en bonne santé et testé sur 6 000 patients cancéreux, le modèle utilise des réseaux de neurones profonds pour estimer les chances de survie. L’intégration de FaceAge à l’évaluation médicale traditionnelle a permis d’augmenter la précision des prédictions de 61 % à 80 %, aidant ainsi les médecins à prendre des décisions plus éclairées concernant les soins palliatifs ou les traitements à proposer. Ce cas montre clairement comment l’analyse de données peut devenir un outil décisif dans la pratique clinique, en complétant l’intuition médicale par des éléments objectifs et mesurables. Il soulève néanmoins des questions éthiques, notamment sur les biais algorithmiques et la nécessité de tester ces modèles sur des populations diversifiées. Sans l’apport de l’analyse de données, un tel niveau de précision et d’aide à la décision aurait été difficilement atteignable."
      ],
      "metadata": {
        "id": "qrK-AWnAelNf"
      }
    }
  ]
}