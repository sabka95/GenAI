{
 "cells": [
  {
   "cell_type": "markdown",
   "id": "925281ac",
   "metadata": {},
   "source": [
    "Exercice 1"
   ]
  },
  {
   "cell_type": "code",
   "execution_count": 1,
   "id": "97dd1998",
   "metadata": {},
   "outputs": [],
   "source": [
    "first  = \"Hello World\""
   ]
  },
  {
   "cell_type": "code",
   "execution_count": 2,
   "id": "1928eb4a",
   "metadata": {},
   "outputs": [],
   "source": [
    "#This is a comment."
   ]
  },
  {
   "cell_type": "code",
   "execution_count": 3,
   "id": "370f86fe",
   "metadata": {},
   "outputs": [
    {
     "name": "stdout",
     "output_type": "stream",
     "text": [
      "I AM A COMPUTER !\n"
     ]
    }
   ],
   "source": [
    "print(\"I AM A COMPUTER !\")"
   ]
  },
  {
   "cell_type": "code",
   "execution_count": 4,
   "id": "9036a76a",
   "metadata": {},
   "outputs": [
    {
     "name": "stdout",
     "output_type": "stream",
     "text": [
      "Math is fun\n"
     ]
    }
   ],
   "source": [
    "if 1 < 2 and 4 > 2 : \n",
    "    print(\"Math is fun\")"
   ]
  },
  {
   "cell_type": "code",
   "execution_count": 6,
   "id": "2b765532",
   "metadata": {},
   "outputs": [
    {
     "data": {
      "text/plain": [
       "''"
      ]
     },
     "execution_count": 6,
     "metadata": {},
     "output_type": "execute_result"
    }
   ],
   "source": [
    "nope = \"\"\n",
    "nope"
   ]
  },
  {
   "cell_type": "code",
   "execution_count": 7,
   "id": "09f4338f",
   "metadata": {},
   "outputs": [
    {
     "data": {
      "text/plain": [
       "False"
      ]
     },
     "execution_count": 7,
     "metadata": {},
     "output_type": "execute_result"
    }
   ],
   "source": [
    "x = True and False\n",
    "x"
   ]
  },
  {
   "cell_type": "code",
   "execution_count": 8,
   "id": "7bac0e26",
   "metadata": {},
   "outputs": [
    {
     "data": {
      "text/plain": [
       "17"
      ]
     },
     "execution_count": 8,
     "metadata": {},
     "output_type": "execute_result"
    }
   ],
   "source": [
    "sentence = \"What's my length?\"\n",
    "length = len(sentence)\n",
    "length"
   ]
  },
  {
   "cell_type": "code",
   "execution_count": 9,
   "id": "bd9449b4",
   "metadata": {},
   "outputs": [
    {
     "data": {
      "text/plain": [
       "'I AM SHOUTING'"
      ]
     },
     "execution_count": 9,
     "metadata": {},
     "output_type": "execute_result"
    }
   ],
   "source": [
    "shout = \"i am shouting\"\n",
    "shout_upper = shout.upper()\n",
    "shout_upper"
   ]
  },
  {
   "cell_type": "code",
   "execution_count": 10,
   "id": "aaa4dc71",
   "metadata": {},
   "outputs": [
    {
     "data": {
      "text/plain": [
       "1000"
      ]
     },
     "execution_count": 10,
     "metadata": {},
     "output_type": "execute_result"
    }
   ],
   "source": [
    "num = \"1000\"\n",
    "num_int = int(num)\n",
    "num_int"
   ]
  },
  {
   "cell_type": "code",
   "execution_count": 13,
   "id": "2140739c",
   "metadata": {},
   "outputs": [
    {
     "name": "stdout",
     "output_type": "stream",
     "text": [
      "4real\n"
     ]
    }
   ],
   "source": [
    "number = 4 \n",
    "sentence2 = \"real\"\n",
    "print(str(number) + sentence2)"
   ]
  },
  {
   "cell_type": "code",
   "execution_count": 15,
   "id": "a09ae935",
   "metadata": {},
   "outputs": [
    {
     "name": "stdout",
     "output_type": "stream",
     "text": [
      "coolcoolcool\n"
     ]
    }
   ],
   "source": [
    "cool = 3 * \"cool\"\n",
    "print(cool)"
   ]
  },
  {
   "cell_type": "code",
   "execution_count": 18,
   "id": "a93459ef",
   "metadata": {},
   "outputs": [
    {
     "ename": "ZeroDivisionError",
     "evalue": "division by zero",
     "output_type": "error",
     "traceback": [
      "\u001b[1;31m---------------------------------------------------------------------------\u001b[0m",
      "\u001b[1;31mZeroDivisionError\u001b[0m                         Traceback (most recent call last)",
      "Cell \u001b[1;32mIn[18], line 1\u001b[0m\n\u001b[1;32m----> 1\u001b[0m divide \u001b[38;5;241m=\u001b[39m \u001b[38;5;241m1\u001b[39m \u001b[38;5;241m/\u001b[39m \u001b[38;5;241m0\u001b[39m\n\u001b[0;32m      2\u001b[0m \u001b[38;5;28mprint\u001b[39m(divide)\n",
      "\u001b[1;31mZeroDivisionError\u001b[0m: division by zero"
     ]
    }
   ],
   "source": [
    "divide = 1 / 0\n",
    "print(divide)"
   ]
  },
  {
   "cell_type": "code",
   "execution_count": 19,
   "id": "a8f7fab6",
   "metadata": {},
   "outputs": [
    {
     "data": {
      "text/plain": [
       "list"
      ]
     },
     "execution_count": 19,
     "metadata": {},
     "output_type": "execute_result"
    }
   ],
   "source": [
    "type([])"
   ]
  },
  {
   "cell_type": "code",
   "execution_count": 20,
   "id": "6f1fdcca",
   "metadata": {},
   "outputs": [
    {
     "name": "stdout",
     "output_type": "stream",
     "text": [
      "sabri\n"
     ]
    }
   ],
   "source": [
    "name = input(\"Enter your name : \")\n",
    "print(name)"
   ]
  },
  {
   "cell_type": "code",
   "execution_count": 26,
   "id": "78acd58c",
   "metadata": {},
   "outputs": [
    {
     "name": "stdout",
     "output_type": "stream",
     "text": [
      "You picked 0!.\n"
     ]
    }
   ],
   "source": [
    "number = float(input(\"Enter a number : \"))\n",
    "\n",
    "if number < 0 :\n",
    "    print(\"That number is less than 0!\")\n",
    "elif number > 0 : \n",
    "    print(\"That number is greater than 0!\")\n",
    "else : \n",
    "    print(\"You picked 0!.\")"
   ]
  },
  {
   "cell_type": "code",
   "execution_count": 28,
   "id": "6273c1a9",
   "metadata": {},
   "outputs": [
    {
     "name": "stdout",
     "output_type": "stream",
     "text": [
      "3\n"
     ]
    }
   ],
   "source": [
    "fruit = \"apple\"\n",
    "\n",
    "print(fruit.index('l'))"
   ]
  },
  {
   "cell_type": "code",
   "execution_count": 37,
   "id": "be25a627",
   "metadata": {},
   "outputs": [
    {
     "name": "stdout",
     "output_type": "stream",
     "text": [
      "there is an y in xylophone\n"
     ]
    }
   ],
   "source": [
    "instrument = \"xylophone\"\n",
    "\n",
    "if \"y\" in instrument : \n",
    "    print(f\"there is an y in {instrument}\")\n",
    "else : \n",
    "    print(f\"there isn't an y in {instrument}\")\n"
   ]
  },
  {
   "cell_type": "code",
   "execution_count": 41,
   "id": "e81aa0af",
   "metadata": {},
   "outputs": [
    {
     "name": "stdout",
     "output_type": "stream",
     "text": [
      "The string isn't all in lowercase.\n"
     ]
    }
   ],
   "source": [
    "word = \"boNjour\"\n",
    "\n",
    "if word.islower() : \n",
    "    print(\"The string is all in lowercase.\")\n",
    "else : \n",
    "    print(\"The string isn't all in lowercase.\")\n"
   ]
  },
  {
   "cell_type": "markdown",
   "id": "9b8453cb",
   "metadata": {},
   "source": [
    "Exercice 2"
   ]
  },
  {
   "cell_type": "code",
   "execution_count": 42,
   "id": "b51ede2b",
   "metadata": {},
   "outputs": [
    {
     "name": "stdout",
     "output_type": "stream",
     "text": [
      "[10, 56, 64]\n"
     ]
    }
   ],
   "source": [
    "human_years = 10 \n",
    "\n",
    "if human_years == 1 :\n",
    "    cat_years = 15\n",
    "    dog_years = 15\n",
    "    liste = [human_years, cat_years, dog_years]\n",
    "    print(liste)\n",
    "\n",
    "elif human_years == 2 : \n",
    "    cat_years = 24\n",
    "    dog_years = 24\n",
    "    liste = [human_years, cat_years, dog_years]\n",
    "    print(liste)\n",
    "\n",
    "else : \n",
    "    cat_years = 24 + ((human_years - 2) * 4)\n",
    "    dog_years = 24 + ((human_years - 2) * 5)\n",
    "    liste = [human_years, cat_years, dog_years]\n",
    "    print(liste)"
   ]
  },
  {
   "cell_type": "code",
   "execution_count": 43,
   "id": "0c629c6b",
   "metadata": {},
   "outputs": [
    {
     "name": "stdout",
     "output_type": "stream",
     "text": [
      "[1, 15, 15]\n"
     ]
    }
   ],
   "source": [
    "human_years = 1 \n",
    "\n",
    "if human_years == 1 :\n",
    "    cat_years = 15\n",
    "    dog_years = 15\n",
    "    liste = [human_years, cat_years, dog_years]\n",
    "    print(liste)\n",
    "\n",
    "elif human_years == 2 : \n",
    "    cat_years = 24\n",
    "    dog_years = 24\n",
    "    liste = [human_years, cat_years, dog_years]\n",
    "    print(liste)\n",
    "\n",
    "else : \n",
    "    cat_years = 24 + ((human_years - 2) * 4)\n",
    "    dog_years = 24 + ((human_years - 2) * 5)\n",
    "    liste = [human_years, cat_years, dog_years]\n",
    "    print(liste)"
   ]
  },
  {
   "cell_type": "code",
   "execution_count": 44,
   "id": "a729cf6a",
   "metadata": {},
   "outputs": [
    {
     "name": "stdout",
     "output_type": "stream",
     "text": [
      "[2, 24, 24]\n"
     ]
    }
   ],
   "source": [
    "human_years = 2 \n",
    "\n",
    "if human_years == 1 :\n",
    "    cat_years = 15\n",
    "    dog_years = 15\n",
    "    liste = [human_years, cat_years, dog_years]\n",
    "    print(liste)\n",
    "\n",
    "elif human_years == 2 : \n",
    "    cat_years = 24\n",
    "    dog_years = 24\n",
    "    liste = [human_years, cat_years, dog_years]\n",
    "    print(liste)\n",
    "\n",
    "else : \n",
    "    cat_years = 24 + ((human_years - 2) * 4)\n",
    "    dog_years = 24 + ((human_years - 2) * 5)\n",
    "    liste = [human_years, cat_years, dog_years]\n",
    "    print(liste)"
   ]
  },
  {
   "cell_type": "code",
   "execution_count": null,
   "id": "6e4c3500",
   "metadata": {},
   "outputs": [],
   "source": []
  }
 ],
 "metadata": {
  "kernelspec": {
   "display_name": "base",
   "language": "python",
   "name": "python3"
  },
  "language_info": {
   "codemirror_mode": {
    "name": "ipython",
    "version": 3
   },
   "file_extension": ".py",
   "mimetype": "text/x-python",
   "name": "python",
   "nbconvert_exporter": "python",
   "pygments_lexer": "ipython3",
   "version": "3.11.4"
  }
 },
 "nbformat": 4,
 "nbformat_minor": 5
}
