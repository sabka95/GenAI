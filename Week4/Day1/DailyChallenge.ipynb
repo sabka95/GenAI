{
  "nbformat": 4,
  "nbformat_minor": 0,
  "metadata": {
    "colab": {
      "provenance": []
    },
    "kernelspec": {
      "name": "python3",
      "display_name": "Python 3"
    },
    "language_info": {
      "name": "python"
    }
  },
  "cells": [
    {
      "cell_type": "markdown",
      "source": [
        "# **Introduction to Machine Learning**\n",
        "Machine Learning (ML) is a type of artificial intelligence that allows systems to learn from data and make predictions without being explicitly programmed. For data analysts, ML is important because it enables deeper insights, automates analysis, and supports predictive modeling.\n",
        "\n",
        "# **Applications of Machine Learning**\n",
        "ML is widely used across industries. In healthcare, it helps detect diseases and recommend treatments. In finance, it’s used for fraud detection and credit scoring. In retail, it powers recommendation systems that personalize the shopping experience.\n",
        "\n",
        "# **Types of Machine Learning**\n",
        "Supervised learning uses labeled data to predict outcomes, such as predicting house prices based on past sales. Unsupervised learning finds patterns in unlabeled data, like grouping customers by buying behavior. Reinforcement learning teaches an agent to make decisions through trial and error, as in training a robot to navigate a space.\n",
        "\n",
        "# **Developing a Machine Learning Model**\n",
        "Developing a machine learning model involves three essential steps. First, feature selection consists of identifying the most relevant variables in the dataset that have the most impact on the outcome. This step is crucial for reducing noise and improving the model’s accuracy and efficiency. Next comes model selection, where the most appropriate algorithm is chosen based on the problem type (classification, regression, etc.), the size and nature of the data, and the desired balance between interpretability and performance. Finally, model evaluation measures how well the trained model performs on new, unseen data. This involves splitting the data into training and test sets, and using metrics such as accuracy, precision, recall, or mean squared error to assess the results. A well-evaluated model should not only fit the training data but also generalize well to real-world situations.\n",
        "\n"
      ],
      "metadata": {
        "id": "CdQvxbTGwVEg"
      }
    }
  ]
}