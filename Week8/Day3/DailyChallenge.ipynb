{
  "nbformat": 4,
  "nbformat_minor": 0,
  "metadata": {
    "colab": {
      "provenance": []
    },
    "kernelspec": {
      "name": "python3",
      "display_name": "Python 3"
    },
    "language_info": {
      "name": "python"
    }
  },
  "cells": [
    {
      "cell_type": "markdown",
      "source": [
        "# **1. Understand the Scenario**"
      ],
      "metadata": {
        "id": "xVAlr9jChjif"
      }
    },
    {
      "cell_type": "markdown",
      "source": [
        "Objectif : Concevoir un agent intelligent qui trie les appels au 911, collecte les infos médicales critiques et déclenche l’envoi des secours appropriés.\n",
        "\n",
        "Rôles clés de l’agent :\n",
        "\n",
        "Percevoir : Symptômes, localisation, état du patient\n",
        "\n",
        "Raisonner : Évaluer l’urgence, décider de l’action\n",
        "\n",
        "Agir : Alerter les services et envoyer l’aide adaptée"
      ],
      "metadata": {
        "id": "Man7dG62i4cc"
      }
    },
    {
      "cell_type": "markdown",
      "source": [
        "# **2. Define the Agent’s Environment**"
      ],
      "metadata": {
        "id": "6aoKk_5ji8lr"
      }
    },
    {
      "cell_type": "markdown",
      "source": [
        "Transcription vocale ou texte des symptômes décrits par l’appelant\n",
        "\n",
        "Localisation de l’appelant (adresse ou coordonnées GPS)\n",
        "\n",
        "Identité de l’appelant (nom, âge, sexe)\n",
        "\n",
        "Antécédents médicaux (si disponibles)\n",
        "\n",
        "État de conscience (répond-il ? est-il confus ?)\n",
        "\n",
        "Signes vitaux décrits (respiration, saignement, douleur…)\n",
        "\n",
        "Contexte de la scène (accident, feu, violence, intoxication…)"
      ],
      "metadata": {
        "id": "KGfHaQSrjlsN"
      }
    },
    {
      "cell_type": "markdown",
      "source": [
        "# **3. Select and Describe Tools**"
      ],
      "metadata": {
        "id": "wODQl1N7k6DM"
      }
    },
    {
      "cell_type": "markdown",
      "source": [
        "1. Symptom Checker API (ex. : Infermedica)\n",
        "\n",
        "Consomme : Liste de symptômes textuels, âge, sexe du patient\n",
        "\n",
        "Retourne : Probables diagnostics, niveau de gravité, recommandations médicales initiales\n",
        "\n",
        "2. Ambulance Scheduling System (ex. : API de dispatch interne)\n",
        "\n",
        "Consomme : Localisation GPS/adresse, type d’urgence, niveau de priorité\n",
        "\n",
        "Retourne : Confirmation d’envoi d’une ambulance, ETA, équipe assignée\n",
        "\n",
        "3. Medical Triage Model (ex. : LLM fine-tuné)\n",
        "\n",
        "Consomme : Contexte complet de l’appel (symptômes, antécédents, situation)\n",
        "\n",
        "Retourne : Score de gravité, catégorie de tri (urgence vitale / modérée / non urgente), justification textuelle"
      ],
      "metadata": {
        "id": "ARG9c9bsk58H"
      }
    },
    {
      "cell_type": "markdown",
      "source": [
        "# **4. Outline State Management**"
      ],
      "metadata": {
        "id": "hxVwMO5HlAMZ"
      }
    },
    {
      "cell_type": "markdown",
      "source": [
        "\n",
        "\n",
        "```\n",
        "{\n",
        "  \"caller_info\": {\n",
        "    \"name\": \"John Doe\",\n",
        "    \"age\": 45,\n",
        "    \"sex\": \"male\",\n",
        "    \"phone_number\": \"+1234567890\",\n",
        "    \"location\": {\n",
        "      \"address\": \"123 Main St, City\",\n",
        "      \"gps\": {\n",
        "        \"lat\": 48.8566,\n",
        "        \"lon\": 2.3522\n",
        "      }\n",
        "    },\n",
        "    \"medical_history\": [\"diabetes\", \"hypertension\"]\n",
        "  },\n",
        "  \"symptoms_reported\": [\n",
        "    {\n",
        "      \"symptom\": \"chest pain\",\n",
        "      \"severity\": \"high\",\n",
        "      \"onset_time\": \"2025-07-31T10:15:00Z\"\n",
        "    },\n",
        "    {\n",
        "      \"symptom\": \"shortness of breath\",\n",
        "      \"severity\": \"moderate\"\n",
        "    }\n",
        "  ],\n",
        "  \"triage_decision\": {\n",
        "    \"urgency_level\": \"critical\",\n",
        "    \"triage_notes\": \"Possible heart attack. Immediate dispatch required.\"\n",
        "  },\n",
        "  \"actions_taken\": [\n",
        "    {\n",
        "      \"timestamp\": \"2025-07-31T10:16:30Z\",\n",
        "      \"action\": \"ambulance_dispatched\",\n",
        "      \"eta_minutes\": 8\n",
        "    },\n",
        "    {\n",
        "      \"timestamp\": \"2025-07-31T10:17:00Z\",\n",
        "      \"action\": \"caller_advised_to remain calm and lie down\"\n",
        "    }\n",
        "  ]\n",
        "}\n",
        "\n",
        "```\n",
        "\n"
      ],
      "metadata": {
        "id": "pE_MizRElAGr"
      }
    },
    {
      "cell_type": "markdown",
      "source": [
        "# **5. Design the Decision-Making Process**"
      ],
      "metadata": {
        "id": "BMQEAFmRmHZu"
      }
    },
    {
      "cell_type": "markdown",
      "source": [
        "## **1. Extraction initiale (LLM)**\n",
        "\n",
        "Reçoit l’appel en texte libre (symptômes, contexte)\n",
        "\n",
        "🔎 Nettoie et structure les infos (symptômes clairs, âge, sexe, antécédents)\n",
        "\n",
        "📥 Envoie les symptômes + infos à l’API Infermedica\n",
        "\n",
        "## **2. Diagnostic préliminaire (Infermedica)**\n",
        "\n",
        "Renvoie une liste de diagnostics probables et un niveau de gravité clinique (ex. : \"urgence possible\")\n",
        "\n",
        "Ces données sont renvoyées au LLM\n",
        "\n",
        "## **3. Triage final (LLM)**\n",
        "\n",
        "Analyse les résultats + contexte complet de l’appel\n",
        "\n",
        "Génère un score d’urgence (ex. de 0 à 100)\n",
        "\n",
        "Classe l’appel en :\n",
        "\n",
        "High (> 80)\n",
        "\n",
        "Medium (50–80)\n",
        "\n",
        "Low (< 50)\n",
        "\n",
        "## **4. Décision & action**\n",
        "\n",
        "High → 🚑 Appel ambulance + confirmation à l’appelant\n",
        "\n",
        "Medium → 🏥 Recommandation centre de soins + adresse\n",
        "\n",
        "Low → 🏡 Instructions d’auto-soins + monitoring éventuel\n",
        "\n"
      ],
      "metadata": {
        "id": "s_zn2aMOmHTo"
      }
    },
    {
      "cell_type": "markdown",
      "source": [
        "# **6. Classify Your Agent**"
      ],
      "metadata": {
        "id": "WmxjyZ-koD8G"
      }
    },
    {
      "cell_type": "markdown",
      "source": [
        "Hybrid Agent :\n",
        "Cet agent est hybride car il combine une réponse rapide aux urgences critiques (réactivité) avec un raisonnement plus profond basé sur l’analyse des symptômes et le contexte global (délibération). Il utilise la mémoire pour conserver l’historique des symptômes, les décisions prises et les informations du patient, ce qui lui permet d’adapter ses actions en fonction de l’évolution de la situation. Ainsi, il peut agir immédiatement en cas d’urgence tout en planifiant une réponse adaptée pour les cas moins graves."
      ],
      "metadata": {
        "id": "ZYowUK3loD2V"
      }
    },
    {
      "cell_type": "markdown",
      "source": [
        "# **7. Compare to a Second Agent Type**"
      ],
      "metadata": {
        "id": "X3ysl-zmo8QZ"
      }
    },
    {
      "cell_type": "markdown",
      "source": [
        "## **Différences clés :**\n",
        "\n",
        "Mémoire : Hybride stocke l’historique, le réactif non.\n",
        "\n",
        "Planification : Hybride analyse et anticipe, le réactif agit immédiatement.\n",
        "\n",
        "Outils : Hybride combine LLM + API selon le contexte, le réactif appelle directement l’API.\n",
        "\n",
        "## **Trade-offs :**\n",
        "\n",
        "Vitesse : Réactif plus rapide\n",
        "\n",
        "Fiabilité : Hybride plus précis\n",
        "\n",
        "Intelligence : Hybride plus avancé"
      ],
      "metadata": {
        "id": "qAqbgUhAo8JT"
      }
    },
    {
      "cell_type": "markdown",
      "source": [
        "# **8. Reflect on Critical Questions**"
      ],
      "metadata": {
        "id": "oFZ3CG6Uqn-g"
      }
    },
    {
      "cell_type": "markdown",
      "source": [
        "Que se passe-t-il si l’agent ne maintient pas d’état ?\n",
        "Sans mémoire, l’agent oublie les symptômes précédents, les actions déjà prises, ou les infos du patient. Cela peut entraîner des erreurs graves comme des décisions incohérentes, des doublons, ou un mauvais triage.\n",
        "\n",
        "Pourquoi les outils externes sont-ils essentiels ?\n",
        "Les APIs comme Infermedica ou les LLM spécialisés apportent une expertise médicale et une capacité de raisonnement que l’agent seul ne possède pas. Ils permettent une évaluation fiable, rapide et contextualisée, indispensable pour assurer la sécurité des"
      ],
      "metadata": {
        "id": "MbIFe_dUqn3v"
      }
    }
  ]
}