{
  "nbformat": 4,
  "nbformat_minor": 0,
  "metadata": {
    "colab": {
      "provenance": []
    },
    "kernelspec": {
      "name": "python3",
      "display_name": "Python 3"
    },
    "language_info": {
      "name": "python"
    }
  },
  "cells": [
    {
      "cell_type": "code",
      "execution_count": 1,
      "metadata": {
        "colab": {
          "base_uri": "https://localhost:8080/"
        },
        "id": "2DwK_ibnqUB8",
        "outputId": "fa716421-4d85-43b4-93c6-c606ba95ac07"
      },
      "outputs": [
        {
          "output_type": "stream",
          "name": "stdout",
          "text": [
            "Mounted at /content/drive\n"
          ]
        }
      ],
      "source": [
        "from google.colab import drive\n",
        "drive.mount('/content/drive')"
      ]
    },
    {
      "cell_type": "code",
      "source": [
        "!unzip \"/content/drive/MyDrive/GENAI/Week3/Day3/Airplane Crashes and Fatalities upto 2023.zip\""
      ],
      "metadata": {
        "colab": {
          "base_uri": "https://localhost:8080/"
        },
        "id": "hju9zI6hrD5k",
        "outputId": "bb1369f1-ae06-452e-d5f8-3415efdf126a"
      },
      "execution_count": 3,
      "outputs": [
        {
          "output_type": "stream",
          "name": "stdout",
          "text": [
            "Archive:  /content/drive/MyDrive/GENAI/Week3/Day3/Airplane Crashes and Fatalities upto 2023.zip\n",
            "  inflating: Airplane_Crashes_and_Fatalities_Since_1908_t0_2023.csv  \n"
          ]
        }
      ]
    },
    {
      "cell_type": "code",
      "source": [
        "import pandas as pd\n",
        "import numpy as np\n",
        "import matplotlib.pyplot as plt\n",
        "import seaborn as sns\n",
        "import scipy.stats as stats"
      ],
      "metadata": {
        "id": "Wz1ZQQzhrNUc"
      },
      "execution_count": 4,
      "outputs": []
    },
    {
      "cell_type": "markdown",
      "source": [
        "# **1. Data Import and Cleaning:**"
      ],
      "metadata": {
        "id": "vKWyLmxwrV-T"
      }
    },
    {
      "cell_type": "code",
      "source": [
        "file = pd.read_csv('/content/Airplane_Crashes_and_Fatalities_Since_1908_t0_2023.csv', encoding='latin-1')\n",
        "df = pd.DataFrame(file)\n",
        "df.head()"
      ],
      "metadata": {
        "colab": {
          "base_uri": "https://localhost:8080/",
          "height": 504
        },
        "id": "g-2cR6CjrbQH",
        "outputId": "e7bcb808-cf23-406c-fdd1-c5dfb24bf10f"
      },
      "execution_count": 198,
      "outputs": [
        {
          "output_type": "execute_result",
          "data": {
            "text/plain": [
              "        Date   Time                            Location  \\\n",
              "0  9/17/1908  17:18                 Fort Myer, Virginia   \n",
              "1   9/7/1909    NaN             Juvisy-sur-Orge, France   \n",
              "2  7/12/1912   6:30           Atlantic City, New Jersey   \n",
              "3   8/6/1913    NaN  Victoria, British Columbia, Canada   \n",
              "4   9/9/1913  18:30                  Over the North Sea   \n",
              "\n",
              "                 Operator Flight #          Route                 AC Type  \\\n",
              "0    Military - U.S. Army      NaN  Demonstration        Wright Flyer III   \n",
              "1                     NaN      NaN       Air show          Wright Byplane   \n",
              "2    Military - U.S. Navy      NaN    Test flight               Dirigible   \n",
              "3                 Private      NaN            NaN        Curtiss seaplane   \n",
              "4  Military - German Navy      NaN            NaN  Zeppelin L-1 (airship)   \n",
              "\n",
              "  Registration cn/ln  Aboard  Aboard Passangers  Aboard Crew  Fatalities  \\\n",
              "0          NaN     1     2.0                1.0          1.0         1.0   \n",
              "1          SC1   NaN     1.0                0.0          1.0         1.0   \n",
              "2          NaN   NaN     5.0                0.0          5.0         5.0   \n",
              "3          NaN   NaN     1.0                0.0          1.0         1.0   \n",
              "4          NaN   NaN    20.0                NaN          NaN        14.0   \n",
              "\n",
              "   Fatalities Passangers  Fatalities Crew  Ground  \\\n",
              "0                    1.0              0.0     0.0   \n",
              "1                    0.0              0.0     0.0   \n",
              "2                    0.0              5.0     0.0   \n",
              "3                    0.0              1.0     0.0   \n",
              "4                    NaN              NaN     0.0   \n",
              "\n",
              "                                             Summary  \n",
              "0  During a demonstration flight, a U.S. Army fly...  \n",
              "1  Eugene Lefebvre was the first pilot to ever be...  \n",
              "2  First U.S. dirigible Akron exploded just offsh...  \n",
              "3  The first fatal airplane accident in Canada oc...  \n",
              "4  The airship flew into a thunderstorm and encou...  "
            ],
            "text/html": [
              "\n",
              "  <div id=\"df-60f288f4-4cb2-4ed2-9d5c-8620ebcce99b\" class=\"colab-df-container\">\n",
              "    <div>\n",
              "<style scoped>\n",
              "    .dataframe tbody tr th:only-of-type {\n",
              "        vertical-align: middle;\n",
              "    }\n",
              "\n",
              "    .dataframe tbody tr th {\n",
              "        vertical-align: top;\n",
              "    }\n",
              "\n",
              "    .dataframe thead th {\n",
              "        text-align: right;\n",
              "    }\n",
              "</style>\n",
              "<table border=\"1\" class=\"dataframe\">\n",
              "  <thead>\n",
              "    <tr style=\"text-align: right;\">\n",
              "      <th></th>\n",
              "      <th>Date</th>\n",
              "      <th>Time</th>\n",
              "      <th>Location</th>\n",
              "      <th>Operator</th>\n",
              "      <th>Flight #</th>\n",
              "      <th>Route</th>\n",
              "      <th>AC Type</th>\n",
              "      <th>Registration</th>\n",
              "      <th>cn/ln</th>\n",
              "      <th>Aboard</th>\n",
              "      <th>Aboard Passangers</th>\n",
              "      <th>Aboard Crew</th>\n",
              "      <th>Fatalities</th>\n",
              "      <th>Fatalities Passangers</th>\n",
              "      <th>Fatalities Crew</th>\n",
              "      <th>Ground</th>\n",
              "      <th>Summary</th>\n",
              "    </tr>\n",
              "  </thead>\n",
              "  <tbody>\n",
              "    <tr>\n",
              "      <th>0</th>\n",
              "      <td>9/17/1908</td>\n",
              "      <td>17:18</td>\n",
              "      <td>Fort Myer, Virginia</td>\n",
              "      <td>Military - U.S. Army</td>\n",
              "      <td>NaN</td>\n",
              "      <td>Demonstration</td>\n",
              "      <td>Wright Flyer III</td>\n",
              "      <td>NaN</td>\n",
              "      <td>1</td>\n",
              "      <td>2.0</td>\n",
              "      <td>1.0</td>\n",
              "      <td>1.0</td>\n",
              "      <td>1.0</td>\n",
              "      <td>1.0</td>\n",
              "      <td>0.0</td>\n",
              "      <td>0.0</td>\n",
              "      <td>During a demonstration flight, a U.S. Army fly...</td>\n",
              "    </tr>\n",
              "    <tr>\n",
              "      <th>1</th>\n",
              "      <td>9/7/1909</td>\n",
              "      <td>NaN</td>\n",
              "      <td>Juvisy-sur-Orge, France</td>\n",
              "      <td>NaN</td>\n",
              "      <td>NaN</td>\n",
              "      <td>Air show</td>\n",
              "      <td>Wright Byplane</td>\n",
              "      <td>SC1</td>\n",
              "      <td>NaN</td>\n",
              "      <td>1.0</td>\n",
              "      <td>0.0</td>\n",
              "      <td>1.0</td>\n",
              "      <td>1.0</td>\n",
              "      <td>0.0</td>\n",
              "      <td>0.0</td>\n",
              "      <td>0.0</td>\n",
              "      <td>Eugene Lefebvre was the first pilot to ever be...</td>\n",
              "    </tr>\n",
              "    <tr>\n",
              "      <th>2</th>\n",
              "      <td>7/12/1912</td>\n",
              "      <td>6:30</td>\n",
              "      <td>Atlantic City, New Jersey</td>\n",
              "      <td>Military - U.S. Navy</td>\n",
              "      <td>NaN</td>\n",
              "      <td>Test flight</td>\n",
              "      <td>Dirigible</td>\n",
              "      <td>NaN</td>\n",
              "      <td>NaN</td>\n",
              "      <td>5.0</td>\n",
              "      <td>0.0</td>\n",
              "      <td>5.0</td>\n",
              "      <td>5.0</td>\n",
              "      <td>0.0</td>\n",
              "      <td>5.0</td>\n",
              "      <td>0.0</td>\n",
              "      <td>First U.S. dirigible Akron exploded just offsh...</td>\n",
              "    </tr>\n",
              "    <tr>\n",
              "      <th>3</th>\n",
              "      <td>8/6/1913</td>\n",
              "      <td>NaN</td>\n",
              "      <td>Victoria, British Columbia, Canada</td>\n",
              "      <td>Private</td>\n",
              "      <td>NaN</td>\n",
              "      <td>NaN</td>\n",
              "      <td>Curtiss seaplane</td>\n",
              "      <td>NaN</td>\n",
              "      <td>NaN</td>\n",
              "      <td>1.0</td>\n",
              "      <td>0.0</td>\n",
              "      <td>1.0</td>\n",
              "      <td>1.0</td>\n",
              "      <td>0.0</td>\n",
              "      <td>1.0</td>\n",
              "      <td>0.0</td>\n",
              "      <td>The first fatal airplane accident in Canada oc...</td>\n",
              "    </tr>\n",
              "    <tr>\n",
              "      <th>4</th>\n",
              "      <td>9/9/1913</td>\n",
              "      <td>18:30</td>\n",
              "      <td>Over the North Sea</td>\n",
              "      <td>Military - German Navy</td>\n",
              "      <td>NaN</td>\n",
              "      <td>NaN</td>\n",
              "      <td>Zeppelin L-1 (airship)</td>\n",
              "      <td>NaN</td>\n",
              "      <td>NaN</td>\n",
              "      <td>20.0</td>\n",
              "      <td>NaN</td>\n",
              "      <td>NaN</td>\n",
              "      <td>14.0</td>\n",
              "      <td>NaN</td>\n",
              "      <td>NaN</td>\n",
              "      <td>0.0</td>\n",
              "      <td>The airship flew into a thunderstorm and encou...</td>\n",
              "    </tr>\n",
              "  </tbody>\n",
              "</table>\n",
              "</div>\n",
              "    <div class=\"colab-df-buttons\">\n",
              "\n",
              "  <div class=\"colab-df-container\">\n",
              "    <button class=\"colab-df-convert\" onclick=\"convertToInteractive('df-60f288f4-4cb2-4ed2-9d5c-8620ebcce99b')\"\n",
              "            title=\"Convert this dataframe to an interactive table.\"\n",
              "            style=\"display:none;\">\n",
              "\n",
              "  <svg xmlns=\"http://www.w3.org/2000/svg\" height=\"24px\" viewBox=\"0 -960 960 960\">\n",
              "    <path d=\"M120-120v-720h720v720H120Zm60-500h600v-160H180v160Zm220 220h160v-160H400v160Zm0 220h160v-160H400v160ZM180-400h160v-160H180v160Zm440 0h160v-160H620v160ZM180-180h160v-160H180v160Zm440 0h160v-160H620v160Z\"/>\n",
              "  </svg>\n",
              "    </button>\n",
              "\n",
              "  <style>\n",
              "    .colab-df-container {\n",
              "      display:flex;\n",
              "      gap: 12px;\n",
              "    }\n",
              "\n",
              "    .colab-df-convert {\n",
              "      background-color: #E8F0FE;\n",
              "      border: none;\n",
              "      border-radius: 50%;\n",
              "      cursor: pointer;\n",
              "      display: none;\n",
              "      fill: #1967D2;\n",
              "      height: 32px;\n",
              "      padding: 0 0 0 0;\n",
              "      width: 32px;\n",
              "    }\n",
              "\n",
              "    .colab-df-convert:hover {\n",
              "      background-color: #E2EBFA;\n",
              "      box-shadow: 0px 1px 2px rgba(60, 64, 67, 0.3), 0px 1px 3px 1px rgba(60, 64, 67, 0.15);\n",
              "      fill: #174EA6;\n",
              "    }\n",
              "\n",
              "    .colab-df-buttons div {\n",
              "      margin-bottom: 4px;\n",
              "    }\n",
              "\n",
              "    [theme=dark] .colab-df-convert {\n",
              "      background-color: #3B4455;\n",
              "      fill: #D2E3FC;\n",
              "    }\n",
              "\n",
              "    [theme=dark] .colab-df-convert:hover {\n",
              "      background-color: #434B5C;\n",
              "      box-shadow: 0px 1px 3px 1px rgba(0, 0, 0, 0.15);\n",
              "      filter: drop-shadow(0px 1px 2px rgba(0, 0, 0, 0.3));\n",
              "      fill: #FFFFFF;\n",
              "    }\n",
              "  </style>\n",
              "\n",
              "    <script>\n",
              "      const buttonEl =\n",
              "        document.querySelector('#df-60f288f4-4cb2-4ed2-9d5c-8620ebcce99b button.colab-df-convert');\n",
              "      buttonEl.style.display =\n",
              "        google.colab.kernel.accessAllowed ? 'block' : 'none';\n",
              "\n",
              "      async function convertToInteractive(key) {\n",
              "        const element = document.querySelector('#df-60f288f4-4cb2-4ed2-9d5c-8620ebcce99b');\n",
              "        const dataTable =\n",
              "          await google.colab.kernel.invokeFunction('convertToInteractive',\n",
              "                                                    [key], {});\n",
              "        if (!dataTable) return;\n",
              "\n",
              "        const docLinkHtml = 'Like what you see? Visit the ' +\n",
              "          '<a target=\"_blank\" href=https://colab.research.google.com/notebooks/data_table.ipynb>data table notebook</a>'\n",
              "          + ' to learn more about interactive tables.';\n",
              "        element.innerHTML = '';\n",
              "        dataTable['output_type'] = 'display_data';\n",
              "        await google.colab.output.renderOutput(dataTable, element);\n",
              "        const docLink = document.createElement('div');\n",
              "        docLink.innerHTML = docLinkHtml;\n",
              "        element.appendChild(docLink);\n",
              "      }\n",
              "    </script>\n",
              "  </div>\n",
              "\n",
              "\n",
              "    <div id=\"df-c07c8c21-7c5b-4f83-a1e2-4d39f5863901\">\n",
              "      <button class=\"colab-df-quickchart\" onclick=\"quickchart('df-c07c8c21-7c5b-4f83-a1e2-4d39f5863901')\"\n",
              "                title=\"Suggest charts\"\n",
              "                style=\"display:none;\">\n",
              "\n",
              "<svg xmlns=\"http://www.w3.org/2000/svg\" height=\"24px\"viewBox=\"0 0 24 24\"\n",
              "     width=\"24px\">\n",
              "    <g>\n",
              "        <path d=\"M19 3H5c-1.1 0-2 .9-2 2v14c0 1.1.9 2 2 2h14c1.1 0 2-.9 2-2V5c0-1.1-.9-2-2-2zM9 17H7v-7h2v7zm4 0h-2V7h2v10zm4 0h-2v-4h2v4z\"/>\n",
              "    </g>\n",
              "</svg>\n",
              "      </button>\n",
              "\n",
              "<style>\n",
              "  .colab-df-quickchart {\n",
              "      --bg-color: #E8F0FE;\n",
              "      --fill-color: #1967D2;\n",
              "      --hover-bg-color: #E2EBFA;\n",
              "      --hover-fill-color: #174EA6;\n",
              "      --disabled-fill-color: #AAA;\n",
              "      --disabled-bg-color: #DDD;\n",
              "  }\n",
              "\n",
              "  [theme=dark] .colab-df-quickchart {\n",
              "      --bg-color: #3B4455;\n",
              "      --fill-color: #D2E3FC;\n",
              "      --hover-bg-color: #434B5C;\n",
              "      --hover-fill-color: #FFFFFF;\n",
              "      --disabled-bg-color: #3B4455;\n",
              "      --disabled-fill-color: #666;\n",
              "  }\n",
              "\n",
              "  .colab-df-quickchart {\n",
              "    background-color: var(--bg-color);\n",
              "    border: none;\n",
              "    border-radius: 50%;\n",
              "    cursor: pointer;\n",
              "    display: none;\n",
              "    fill: var(--fill-color);\n",
              "    height: 32px;\n",
              "    padding: 0;\n",
              "    width: 32px;\n",
              "  }\n",
              "\n",
              "  .colab-df-quickchart:hover {\n",
              "    background-color: var(--hover-bg-color);\n",
              "    box-shadow: 0 1px 2px rgba(60, 64, 67, 0.3), 0 1px 3px 1px rgba(60, 64, 67, 0.15);\n",
              "    fill: var(--button-hover-fill-color);\n",
              "  }\n",
              "\n",
              "  .colab-df-quickchart-complete:disabled,\n",
              "  .colab-df-quickchart-complete:disabled:hover {\n",
              "    background-color: var(--disabled-bg-color);\n",
              "    fill: var(--disabled-fill-color);\n",
              "    box-shadow: none;\n",
              "  }\n",
              "\n",
              "  .colab-df-spinner {\n",
              "    border: 2px solid var(--fill-color);\n",
              "    border-color: transparent;\n",
              "    border-bottom-color: var(--fill-color);\n",
              "    animation:\n",
              "      spin 1s steps(1) infinite;\n",
              "  }\n",
              "\n",
              "  @keyframes spin {\n",
              "    0% {\n",
              "      border-color: transparent;\n",
              "      border-bottom-color: var(--fill-color);\n",
              "      border-left-color: var(--fill-color);\n",
              "    }\n",
              "    20% {\n",
              "      border-color: transparent;\n",
              "      border-left-color: var(--fill-color);\n",
              "      border-top-color: var(--fill-color);\n",
              "    }\n",
              "    30% {\n",
              "      border-color: transparent;\n",
              "      border-left-color: var(--fill-color);\n",
              "      border-top-color: var(--fill-color);\n",
              "      border-right-color: var(--fill-color);\n",
              "    }\n",
              "    40% {\n",
              "      border-color: transparent;\n",
              "      border-right-color: var(--fill-color);\n",
              "      border-top-color: var(--fill-color);\n",
              "    }\n",
              "    60% {\n",
              "      border-color: transparent;\n",
              "      border-right-color: var(--fill-color);\n",
              "    }\n",
              "    80% {\n",
              "      border-color: transparent;\n",
              "      border-right-color: var(--fill-color);\n",
              "      border-bottom-color: var(--fill-color);\n",
              "    }\n",
              "    90% {\n",
              "      border-color: transparent;\n",
              "      border-bottom-color: var(--fill-color);\n",
              "    }\n",
              "  }\n",
              "</style>\n",
              "\n",
              "      <script>\n",
              "        async function quickchart(key) {\n",
              "          const quickchartButtonEl =\n",
              "            document.querySelector('#' + key + ' button');\n",
              "          quickchartButtonEl.disabled = true;  // To prevent multiple clicks.\n",
              "          quickchartButtonEl.classList.add('colab-df-spinner');\n",
              "          try {\n",
              "            const charts = await google.colab.kernel.invokeFunction(\n",
              "                'suggestCharts', [key], {});\n",
              "          } catch (error) {\n",
              "            console.error('Error during call to suggestCharts:', error);\n",
              "          }\n",
              "          quickchartButtonEl.classList.remove('colab-df-spinner');\n",
              "          quickchartButtonEl.classList.add('colab-df-quickchart-complete');\n",
              "        }\n",
              "        (() => {\n",
              "          let quickchartButtonEl =\n",
              "            document.querySelector('#df-c07c8c21-7c5b-4f83-a1e2-4d39f5863901 button');\n",
              "          quickchartButtonEl.style.display =\n",
              "            google.colab.kernel.accessAllowed ? 'block' : 'none';\n",
              "        })();\n",
              "      </script>\n",
              "    </div>\n",
              "\n",
              "    </div>\n",
              "  </div>\n"
            ],
            "application/vnd.google.colaboratory.intrinsic+json": {
              "type": "dataframe",
              "variable_name": "df",
              "summary": "{\n  \"name\": \"df\",\n  \"rows\": 4998,\n  \"fields\": [\n    {\n      \"column\": \"Date\",\n      \"properties\": {\n        \"dtype\": \"object\",\n        \"num_unique_values\": 4570,\n        \"samples\": [\n          \"6/2/1958\",\n          \"12/16/1918\",\n          \"11/23/1931\"\n        ],\n        \"semantic_type\": \"\",\n        \"description\": \"\"\n      }\n    },\n    {\n      \"column\": \"Time\",\n      \"properties\": {\n        \"dtype\": \"category\",\n        \"num_unique_values\": 1060,\n        \"samples\": [\n          \"2:08\",\n          \"13:53\",\n          \"22:35\"\n        ],\n        \"semantic_type\": \"\",\n        \"description\": \"\"\n      }\n    },\n    {\n      \"column\": \"Location\",\n      \"properties\": {\n        \"dtype\": \"string\",\n        \"num_unique_values\": 4122,\n        \"samples\": [\n          \"Cachimbo, Brazil\",\n          \"Montenegrin Mountains, Yugoslavia\",\n          \"Petersburg, Illinois\"\n        ],\n        \"semantic_type\": \"\",\n        \"description\": \"\"\n      }\n    },\n    {\n      \"column\": \"Operator\",\n      \"properties\": {\n        \"dtype\": \"category\",\n        \"num_unique_values\": 2264,\n        \"samples\": [\n          \"Binter Mediterr\\u00c3\\u00a1neo\",\n          \"Wasa Wings\",\n          \"Aigle Azur\"\n        ],\n        \"semantic_type\": \"\",\n        \"description\": \"\"\n      }\n    },\n    {\n      \"column\": \"Flight #\",\n      \"properties\": {\n        \"dtype\": \"category\",\n        \"num_unique_values\": 880,\n        \"samples\": [\n          \"228/129\",\n          \"297\",\n          \"5191\"\n        ],\n        \"semantic_type\": \"\",\n        \"description\": \"\"\n      }\n    },\n    {\n      \"column\": \"Route\",\n      \"properties\": {\n        \"dtype\": \"string\",\n        \"num_unique_values\": 3825,\n        \"samples\": [\n          \"Fort Norman - Fort Franklin\",\n          \"Maputo, Mozambique - Luanda, Angola\",\n          \"Bamiyan - Kabul\"\n        ],\n        \"semantic_type\": \"\",\n        \"description\": \"\"\n      }\n    },\n    {\n      \"column\": \"AC Type\",\n      \"properties\": {\n        \"dtype\": \"category\",\n        \"num_unique_values\": 2463,\n        \"samples\": [\n          \"Boeing B-747-412\",\n          \"Sukhoi Superjet 100-95\",\n          \"Antonov An-12AP\"\n        ],\n        \"semantic_type\": \"\",\n        \"description\": \"\"\n      }\n    },\n    {\n      \"column\": \"Registration\",\n      \"properties\": {\n        \"dtype\": \"string\",\n        \"num_unique_values\": 4689,\n        \"samples\": [\n          \"PP-LEQ\",\n          \"N180AL\",\n          \"CP-1440\"\n        ],\n        \"semantic_type\": \"\",\n        \"description\": \"\"\n      }\n    },\n    {\n      \"column\": \"cn/ln\",\n      \"properties\": {\n        \"dtype\": \"string\",\n        \"num_unique_values\": 3818,\n        \"samples\": [\n          \"9492\",\n          \"17633/12\",\n          \"45534\"\n        ],\n        \"semantic_type\": \"\",\n        \"description\": \"\"\n      }\n    },\n    {\n      \"column\": \"Aboard\",\n      \"properties\": {\n        \"dtype\": \"number\",\n        \"std\": 45.53478774403481,\n        \"min\": 0.0,\n        \"max\": 644.0,\n        \"num_unique_values\": 244,\n        \"samples\": [\n          11.0,\n          19.0,\n          213.0\n        ],\n        \"semantic_type\": \"\",\n        \"description\": \"\"\n      }\n    },\n    {\n      \"column\": \"Aboard Passangers\",\n      \"properties\": {\n        \"dtype\": \"number\",\n        \"std\": 44.111608687889486,\n        \"min\": 0.0,\n        \"max\": 614.0,\n        \"num_unique_values\": 234,\n        \"samples\": [\n          95.0,\n          222.0,\n          243.0\n        ],\n        \"semantic_type\": \"\",\n        \"description\": \"\"\n      }\n    },\n    {\n      \"column\": \"Aboard Crew\",\n      \"properties\": {\n        \"dtype\": \"number\",\n        \"std\": 3.483859424858684,\n        \"min\": 0.0,\n        \"max\": 61.0,\n        \"num_unique_values\": 31,\n        \"samples\": [\n          30.0,\n          9.0,\n          23.0\n        ],\n        \"semantic_type\": \"\",\n        \"description\": \"\"\n      }\n    },\n    {\n      \"column\": \"Fatalities\",\n      \"properties\": {\n        \"dtype\": \"number\",\n        \"std\": 35.06174065974314,\n        \"min\": 0.0,\n        \"max\": 583.0,\n        \"num_unique_values\": 199,\n        \"samples\": [\n          95.0,\n          4.0,\n          109.0\n        ],\n        \"semantic_type\": \"\",\n        \"description\": \"\"\n      }\n    },\n    {\n      \"column\": \"Fatalities Passangers\",\n      \"properties\": {\n        \"dtype\": \"number\",\n        \"std\": 34.146126945129936,\n        \"min\": 0.0,\n        \"max\": 560.0,\n        \"num_unique_values\": 190,\n        \"samples\": [\n          222.0,\n          257.0,\n          164.0\n        ],\n        \"semantic_type\": \"\",\n        \"description\": \"\"\n      }\n    },\n    {\n      \"column\": \"Fatalities Crew\",\n      \"properties\": {\n        \"dtype\": \"number\",\n        \"std\": 3.1679217810514664,\n        \"min\": 0.0,\n        \"max\": 46.0,\n        \"num_unique_values\": 28,\n        \"samples\": [\n          14.0,\n          27.0,\n          4.0\n        ],\n        \"semantic_type\": \"\",\n        \"description\": \"\"\n      }\n    },\n    {\n      \"column\": \"Ground\",\n      \"properties\": {\n        \"dtype\": \"number\",\n        \"std\": 55.54027279775341,\n        \"min\": 0.0,\n        \"max\": 2750.0,\n        \"num_unique_values\": 51,\n        \"samples\": [\n          50.0,\n          44.0,\n          30.0\n        ],\n        \"semantic_type\": \"\",\n        \"description\": \"\"\n      }\n    },\n    {\n      \"column\": \"Summary\",\n      \"properties\": {\n        \"dtype\": \"string\",\n        \"num_unique_values\": 4839,\n        \"samples\": [\n          \"Crashed into the Amazon jungle in poor weather, after the crew reported a fire in the No. 3 engine. The last words from the aircraft was \\\"We're falling.\\\"\",\n          \"The plane was on a flight from Anchorage to Juneau when it disappeared as it was approaching the Chugach Mountain range.  The weather along the prescribed route was not condusive to VFR flight.  Louisiana Congressman and House Majority Leader Hale Boggs, Alaska Congressman Nick Begich and his aide killed. Cause unknown.\",\n          \"A hijacker robbed passengers, jumped out of the plane with a homemade parachute and was killed in the jump.\"\n        ],\n        \"semantic_type\": \"\",\n        \"description\": \"\"\n      }\n    }\n  ]\n}"
            }
          },
          "metadata": {},
          "execution_count": 198
        }
      ]
    },
    {
      "cell_type": "code",
      "source": [
        "df.drop_duplicates(inplace=True)"
      ],
      "metadata": {
        "id": "O-TEZqdXLD6p"
      },
      "execution_count": 199,
      "outputs": []
    },
    {
      "cell_type": "code",
      "source": [
        "df.shape[0]"
      ],
      "metadata": {
        "colab": {
          "base_uri": "https://localhost:8080/"
        },
        "id": "cmOnfSeaFcRw",
        "outputId": "6fce9437-2ab4-49fc-9294-4f7c82e61924"
      },
      "execution_count": 200,
      "outputs": [
        {
          "output_type": "execute_result",
          "data": {
            "text/plain": [
              "4998"
            ]
          },
          "metadata": {},
          "execution_count": 200
        }
      ]
    },
    {
      "cell_type": "code",
      "source": [
        "df.info()"
      ],
      "metadata": {
        "colab": {
          "base_uri": "https://localhost:8080/"
        },
        "id": "yOw2o26uDMlQ",
        "outputId": "4a27ca7a-88ea-4a85-f67a-4784d263fe23"
      },
      "execution_count": 201,
      "outputs": [
        {
          "output_type": "stream",
          "name": "stdout",
          "text": [
            "<class 'pandas.core.frame.DataFrame'>\n",
            "RangeIndex: 4998 entries, 0 to 4997\n",
            "Data columns (total 17 columns):\n",
            " #   Column                 Non-Null Count  Dtype  \n",
            "---  ------                 --------------  -----  \n",
            " 0   Date                   4998 non-null   object \n",
            " 1   Time                   3486 non-null   object \n",
            " 2   Location               4994 non-null   object \n",
            " 3   Operator               4988 non-null   object \n",
            " 4   Flight #               1329 non-null   object \n",
            " 5   Route                  4221 non-null   object \n",
            " 6   AC Type                4983 non-null   object \n",
            " 7   Registration           4724 non-null   object \n",
            " 8   cn/ln                  4330 non-null   object \n",
            " 9   Aboard                 4980 non-null   float64\n",
            " 10  Aboard Passangers      4769 non-null   float64\n",
            " 11  Aboard Crew            4772 non-null   float64\n",
            " 12  Fatalities             4990 non-null   float64\n",
            " 13  Fatalities Passangers  4756 non-null   float64\n",
            " 14  Fatalities Crew        4757 non-null   float64\n",
            " 15  Ground                 4956 non-null   float64\n",
            " 16  Summary                4934 non-null   object \n",
            "dtypes: float64(7), object(10)\n",
            "memory usage: 663.9+ KB\n"
          ]
        }
      ]
    },
    {
      "cell_type": "code",
      "source": [
        "df.describe()"
      ],
      "metadata": {
        "colab": {
          "base_uri": "https://localhost:8080/",
          "height": 300
        },
        "id": "Kcft32IVBkoc",
        "outputId": "67a61df2-88af-4f09-fb13-957a80415644"
      },
      "execution_count": 202,
      "outputs": [
        {
          "output_type": "execute_result",
          "data": {
            "text/plain": [
              "            Aboard  Aboard Passangers  Aboard Crew   Fatalities  \\\n",
              "count  4980.000000        4769.000000  4772.000000  4990.000000   \n",
              "mean     31.195984          27.009017     4.479254    22.373547   \n",
              "std      45.534788          44.111609     3.483859    35.061741   \n",
              "min       0.000000           0.000000     0.000000     0.000000   \n",
              "25%       7.000000           3.000000     2.000000     4.000000   \n",
              "50%      16.000000          12.000000     4.000000    11.000000   \n",
              "75%      35.000000          30.000000     6.000000    25.000000   \n",
              "max     644.000000         614.000000    61.000000   583.000000   \n",
              "\n",
              "       Fatalities Passangers  Fatalities Crew       Ground  \n",
              "count            4756.000000      4757.000000  4956.000000  \n",
              "mean               19.053827         3.578516     1.719128  \n",
              "std                34.146127         3.167922    55.540273  \n",
              "min                 0.000000         0.000000     0.000000  \n",
              "25%                 1.000000         2.000000     0.000000  \n",
              "50%                 8.000000         3.000000     0.000000  \n",
              "75%                21.000000         5.000000     0.000000  \n",
              "max               560.000000        46.000000  2750.000000  "
            ],
            "text/html": [
              "\n",
              "  <div id=\"df-356aec87-90bd-4bcc-a625-49700c37aba8\" class=\"colab-df-container\">\n",
              "    <div>\n",
              "<style scoped>\n",
              "    .dataframe tbody tr th:only-of-type {\n",
              "        vertical-align: middle;\n",
              "    }\n",
              "\n",
              "    .dataframe tbody tr th {\n",
              "        vertical-align: top;\n",
              "    }\n",
              "\n",
              "    .dataframe thead th {\n",
              "        text-align: right;\n",
              "    }\n",
              "</style>\n",
              "<table border=\"1\" class=\"dataframe\">\n",
              "  <thead>\n",
              "    <tr style=\"text-align: right;\">\n",
              "      <th></th>\n",
              "      <th>Aboard</th>\n",
              "      <th>Aboard Passangers</th>\n",
              "      <th>Aboard Crew</th>\n",
              "      <th>Fatalities</th>\n",
              "      <th>Fatalities Passangers</th>\n",
              "      <th>Fatalities Crew</th>\n",
              "      <th>Ground</th>\n",
              "    </tr>\n",
              "  </thead>\n",
              "  <tbody>\n",
              "    <tr>\n",
              "      <th>count</th>\n",
              "      <td>4980.000000</td>\n",
              "      <td>4769.000000</td>\n",
              "      <td>4772.000000</td>\n",
              "      <td>4990.000000</td>\n",
              "      <td>4756.000000</td>\n",
              "      <td>4757.000000</td>\n",
              "      <td>4956.000000</td>\n",
              "    </tr>\n",
              "    <tr>\n",
              "      <th>mean</th>\n",
              "      <td>31.195984</td>\n",
              "      <td>27.009017</td>\n",
              "      <td>4.479254</td>\n",
              "      <td>22.373547</td>\n",
              "      <td>19.053827</td>\n",
              "      <td>3.578516</td>\n",
              "      <td>1.719128</td>\n",
              "    </tr>\n",
              "    <tr>\n",
              "      <th>std</th>\n",
              "      <td>45.534788</td>\n",
              "      <td>44.111609</td>\n",
              "      <td>3.483859</td>\n",
              "      <td>35.061741</td>\n",
              "      <td>34.146127</td>\n",
              "      <td>3.167922</td>\n",
              "      <td>55.540273</td>\n",
              "    </tr>\n",
              "    <tr>\n",
              "      <th>min</th>\n",
              "      <td>0.000000</td>\n",
              "      <td>0.000000</td>\n",
              "      <td>0.000000</td>\n",
              "      <td>0.000000</td>\n",
              "      <td>0.000000</td>\n",
              "      <td>0.000000</td>\n",
              "      <td>0.000000</td>\n",
              "    </tr>\n",
              "    <tr>\n",
              "      <th>25%</th>\n",
              "      <td>7.000000</td>\n",
              "      <td>3.000000</td>\n",
              "      <td>2.000000</td>\n",
              "      <td>4.000000</td>\n",
              "      <td>1.000000</td>\n",
              "      <td>2.000000</td>\n",
              "      <td>0.000000</td>\n",
              "    </tr>\n",
              "    <tr>\n",
              "      <th>50%</th>\n",
              "      <td>16.000000</td>\n",
              "      <td>12.000000</td>\n",
              "      <td>4.000000</td>\n",
              "      <td>11.000000</td>\n",
              "      <td>8.000000</td>\n",
              "      <td>3.000000</td>\n",
              "      <td>0.000000</td>\n",
              "    </tr>\n",
              "    <tr>\n",
              "      <th>75%</th>\n",
              "      <td>35.000000</td>\n",
              "      <td>30.000000</td>\n",
              "      <td>6.000000</td>\n",
              "      <td>25.000000</td>\n",
              "      <td>21.000000</td>\n",
              "      <td>5.000000</td>\n",
              "      <td>0.000000</td>\n",
              "    </tr>\n",
              "    <tr>\n",
              "      <th>max</th>\n",
              "      <td>644.000000</td>\n",
              "      <td>614.000000</td>\n",
              "      <td>61.000000</td>\n",
              "      <td>583.000000</td>\n",
              "      <td>560.000000</td>\n",
              "      <td>46.000000</td>\n",
              "      <td>2750.000000</td>\n",
              "    </tr>\n",
              "  </tbody>\n",
              "</table>\n",
              "</div>\n",
              "    <div class=\"colab-df-buttons\">\n",
              "\n",
              "  <div class=\"colab-df-container\">\n",
              "    <button class=\"colab-df-convert\" onclick=\"convertToInteractive('df-356aec87-90bd-4bcc-a625-49700c37aba8')\"\n",
              "            title=\"Convert this dataframe to an interactive table.\"\n",
              "            style=\"display:none;\">\n",
              "\n",
              "  <svg xmlns=\"http://www.w3.org/2000/svg\" height=\"24px\" viewBox=\"0 -960 960 960\">\n",
              "    <path d=\"M120-120v-720h720v720H120Zm60-500h600v-160H180v160Zm220 220h160v-160H400v160Zm0 220h160v-160H400v160ZM180-400h160v-160H180v160Zm440 0h160v-160H620v160ZM180-180h160v-160H180v160Zm440 0h160v-160H620v160Z\"/>\n",
              "  </svg>\n",
              "    </button>\n",
              "\n",
              "  <style>\n",
              "    .colab-df-container {\n",
              "      display:flex;\n",
              "      gap: 12px;\n",
              "    }\n",
              "\n",
              "    .colab-df-convert {\n",
              "      background-color: #E8F0FE;\n",
              "      border: none;\n",
              "      border-radius: 50%;\n",
              "      cursor: pointer;\n",
              "      display: none;\n",
              "      fill: #1967D2;\n",
              "      height: 32px;\n",
              "      padding: 0 0 0 0;\n",
              "      width: 32px;\n",
              "    }\n",
              "\n",
              "    .colab-df-convert:hover {\n",
              "      background-color: #E2EBFA;\n",
              "      box-shadow: 0px 1px 2px rgba(60, 64, 67, 0.3), 0px 1px 3px 1px rgba(60, 64, 67, 0.15);\n",
              "      fill: #174EA6;\n",
              "    }\n",
              "\n",
              "    .colab-df-buttons div {\n",
              "      margin-bottom: 4px;\n",
              "    }\n",
              "\n",
              "    [theme=dark] .colab-df-convert {\n",
              "      background-color: #3B4455;\n",
              "      fill: #D2E3FC;\n",
              "    }\n",
              "\n",
              "    [theme=dark] .colab-df-convert:hover {\n",
              "      background-color: #434B5C;\n",
              "      box-shadow: 0px 1px 3px 1px rgba(0, 0, 0, 0.15);\n",
              "      filter: drop-shadow(0px 1px 2px rgba(0, 0, 0, 0.3));\n",
              "      fill: #FFFFFF;\n",
              "    }\n",
              "  </style>\n",
              "\n",
              "    <script>\n",
              "      const buttonEl =\n",
              "        document.querySelector('#df-356aec87-90bd-4bcc-a625-49700c37aba8 button.colab-df-convert');\n",
              "      buttonEl.style.display =\n",
              "        google.colab.kernel.accessAllowed ? 'block' : 'none';\n",
              "\n",
              "      async function convertToInteractive(key) {\n",
              "        const element = document.querySelector('#df-356aec87-90bd-4bcc-a625-49700c37aba8');\n",
              "        const dataTable =\n",
              "          await google.colab.kernel.invokeFunction('convertToInteractive',\n",
              "                                                    [key], {});\n",
              "        if (!dataTable) return;\n",
              "\n",
              "        const docLinkHtml = 'Like what you see? Visit the ' +\n",
              "          '<a target=\"_blank\" href=https://colab.research.google.com/notebooks/data_table.ipynb>data table notebook</a>'\n",
              "          + ' to learn more about interactive tables.';\n",
              "        element.innerHTML = '';\n",
              "        dataTable['output_type'] = 'display_data';\n",
              "        await google.colab.output.renderOutput(dataTable, element);\n",
              "        const docLink = document.createElement('div');\n",
              "        docLink.innerHTML = docLinkHtml;\n",
              "        element.appendChild(docLink);\n",
              "      }\n",
              "    </script>\n",
              "  </div>\n",
              "\n",
              "\n",
              "    <div id=\"df-ee50c91c-deb9-44ab-95f2-20910889dbed\">\n",
              "      <button class=\"colab-df-quickchart\" onclick=\"quickchart('df-ee50c91c-deb9-44ab-95f2-20910889dbed')\"\n",
              "                title=\"Suggest charts\"\n",
              "                style=\"display:none;\">\n",
              "\n",
              "<svg xmlns=\"http://www.w3.org/2000/svg\" height=\"24px\"viewBox=\"0 0 24 24\"\n",
              "     width=\"24px\">\n",
              "    <g>\n",
              "        <path d=\"M19 3H5c-1.1 0-2 .9-2 2v14c0 1.1.9 2 2 2h14c1.1 0 2-.9 2-2V5c0-1.1-.9-2-2-2zM9 17H7v-7h2v7zm4 0h-2V7h2v10zm4 0h-2v-4h2v4z\"/>\n",
              "    </g>\n",
              "</svg>\n",
              "      </button>\n",
              "\n",
              "<style>\n",
              "  .colab-df-quickchart {\n",
              "      --bg-color: #E8F0FE;\n",
              "      --fill-color: #1967D2;\n",
              "      --hover-bg-color: #E2EBFA;\n",
              "      --hover-fill-color: #174EA6;\n",
              "      --disabled-fill-color: #AAA;\n",
              "      --disabled-bg-color: #DDD;\n",
              "  }\n",
              "\n",
              "  [theme=dark] .colab-df-quickchart {\n",
              "      --bg-color: #3B4455;\n",
              "      --fill-color: #D2E3FC;\n",
              "      --hover-bg-color: #434B5C;\n",
              "      --hover-fill-color: #FFFFFF;\n",
              "      --disabled-bg-color: #3B4455;\n",
              "      --disabled-fill-color: #666;\n",
              "  }\n",
              "\n",
              "  .colab-df-quickchart {\n",
              "    background-color: var(--bg-color);\n",
              "    border: none;\n",
              "    border-radius: 50%;\n",
              "    cursor: pointer;\n",
              "    display: none;\n",
              "    fill: var(--fill-color);\n",
              "    height: 32px;\n",
              "    padding: 0;\n",
              "    width: 32px;\n",
              "  }\n",
              "\n",
              "  .colab-df-quickchart:hover {\n",
              "    background-color: var(--hover-bg-color);\n",
              "    box-shadow: 0 1px 2px rgba(60, 64, 67, 0.3), 0 1px 3px 1px rgba(60, 64, 67, 0.15);\n",
              "    fill: var(--button-hover-fill-color);\n",
              "  }\n",
              "\n",
              "  .colab-df-quickchart-complete:disabled,\n",
              "  .colab-df-quickchart-complete:disabled:hover {\n",
              "    background-color: var(--disabled-bg-color);\n",
              "    fill: var(--disabled-fill-color);\n",
              "    box-shadow: none;\n",
              "  }\n",
              "\n",
              "  .colab-df-spinner {\n",
              "    border: 2px solid var(--fill-color);\n",
              "    border-color: transparent;\n",
              "    border-bottom-color: var(--fill-color);\n",
              "    animation:\n",
              "      spin 1s steps(1) infinite;\n",
              "  }\n",
              "\n",
              "  @keyframes spin {\n",
              "    0% {\n",
              "      border-color: transparent;\n",
              "      border-bottom-color: var(--fill-color);\n",
              "      border-left-color: var(--fill-color);\n",
              "    }\n",
              "    20% {\n",
              "      border-color: transparent;\n",
              "      border-left-color: var(--fill-color);\n",
              "      border-top-color: var(--fill-color);\n",
              "    }\n",
              "    30% {\n",
              "      border-color: transparent;\n",
              "      border-left-color: var(--fill-color);\n",
              "      border-top-color: var(--fill-color);\n",
              "      border-right-color: var(--fill-color);\n",
              "    }\n",
              "    40% {\n",
              "      border-color: transparent;\n",
              "      border-right-color: var(--fill-color);\n",
              "      border-top-color: var(--fill-color);\n",
              "    }\n",
              "    60% {\n",
              "      border-color: transparent;\n",
              "      border-right-color: var(--fill-color);\n",
              "    }\n",
              "    80% {\n",
              "      border-color: transparent;\n",
              "      border-right-color: var(--fill-color);\n",
              "      border-bottom-color: var(--fill-color);\n",
              "    }\n",
              "    90% {\n",
              "      border-color: transparent;\n",
              "      border-bottom-color: var(--fill-color);\n",
              "    }\n",
              "  }\n",
              "</style>\n",
              "\n",
              "      <script>\n",
              "        async function quickchart(key) {\n",
              "          const quickchartButtonEl =\n",
              "            document.querySelector('#' + key + ' button');\n",
              "          quickchartButtonEl.disabled = true;  // To prevent multiple clicks.\n",
              "          quickchartButtonEl.classList.add('colab-df-spinner');\n",
              "          try {\n",
              "            const charts = await google.colab.kernel.invokeFunction(\n",
              "                'suggestCharts', [key], {});\n",
              "          } catch (error) {\n",
              "            console.error('Error during call to suggestCharts:', error);\n",
              "          }\n",
              "          quickchartButtonEl.classList.remove('colab-df-spinner');\n",
              "          quickchartButtonEl.classList.add('colab-df-quickchart-complete');\n",
              "        }\n",
              "        (() => {\n",
              "          let quickchartButtonEl =\n",
              "            document.querySelector('#df-ee50c91c-deb9-44ab-95f2-20910889dbed button');\n",
              "          quickchartButtonEl.style.display =\n",
              "            google.colab.kernel.accessAllowed ? 'block' : 'none';\n",
              "        })();\n",
              "      </script>\n",
              "    </div>\n",
              "\n",
              "    </div>\n",
              "  </div>\n"
            ],
            "application/vnd.google.colaboratory.intrinsic+json": {
              "type": "dataframe",
              "summary": "{\n  \"name\": \"df\",\n  \"rows\": 8,\n  \"fields\": [\n    {\n      \"column\": \"Aboard\",\n      \"properties\": {\n        \"dtype\": \"number\",\n        \"std\": 1735.1138329772143,\n        \"min\": 0.0,\n        \"max\": 4980.0,\n        \"num_unique_values\": 8,\n        \"samples\": [\n          31.195983935742973,\n          16.0,\n          4980.0\n        ],\n        \"semantic_type\": \"\",\n        \"description\": \"\"\n      }\n    },\n    {\n      \"column\": \"Aboard Passangers\",\n      \"properties\": {\n        \"dtype\": \"number\",\n        \"std\": 1662.358237333389,\n        \"min\": 0.0,\n        \"max\": 4769.0,\n        \"num_unique_values\": 8,\n        \"samples\": [\n          27.009016565317676,\n          12.0,\n          4769.0\n        ],\n        \"semantic_type\": \"\",\n        \"description\": \"\"\n      }\n    },\n    {\n      \"column\": \"Aboard Crew\",\n      \"properties\": {\n        \"dtype\": \"number\",\n        \"std\": 1683.1894396600717,\n        \"min\": 0.0,\n        \"max\": 4772.0,\n        \"num_unique_values\": 8,\n        \"samples\": [\n          4.479253981559094,\n          4.0,\n          4772.0\n        ],\n        \"semantic_type\": \"\",\n        \"description\": \"\"\n      }\n    },\n    {\n      \"column\": \"Fatalities\",\n      \"properties\": {\n        \"dtype\": \"number\",\n        \"std\": 1741.2331983474912,\n        \"min\": 0.0,\n        \"max\": 4990.0,\n        \"num_unique_values\": 8,\n        \"samples\": [\n          22.37354709418838,\n          11.0,\n          4990.0\n        ],\n        \"semantic_type\": \"\",\n        \"description\": \"\"\n      }\n    },\n    {\n      \"column\": \"Fatalities Passangers\",\n      \"properties\": {\n        \"dtype\": \"number\",\n        \"std\": 1660.0882501846454,\n        \"min\": 0.0,\n        \"max\": 4756.0,\n        \"num_unique_values\": 8,\n        \"samples\": [\n          19.053826745164002,\n          8.0,\n          4756.0\n        ],\n        \"semantic_type\": \"\",\n        \"description\": \"\"\n      }\n    },\n    {\n      \"column\": \"Fatalities Crew\",\n      \"properties\": {\n        \"dtype\": \"number\",\n        \"std\": 1678.7529970655676,\n        \"min\": 0.0,\n        \"max\": 4757.0,\n        \"num_unique_values\": 8,\n        \"samples\": [\n          3.578515871347488,\n          3.0,\n          4757.0\n        ],\n        \"semantic_type\": \"\",\n        \"description\": \"\"\n      }\n    },\n    {\n      \"column\": \"Ground\",\n      \"properties\": {\n        \"dtype\": \"number\",\n        \"std\": 1874.4141603314054,\n        \"min\": 0.0,\n        \"max\": 4956.0,\n        \"num_unique_values\": 5,\n        \"samples\": [\n          1.7191283292978208,\n          2750.0,\n          55.54027279775341\n        ],\n        \"semantic_type\": \"\",\n        \"description\": \"\"\n      }\n    }\n  ]\n}"
            }
          },
          "metadata": {},
          "execution_count": 202
        }
      ]
    },
    {
      "cell_type": "code",
      "source": [
        "df.isna().mean() * 100"
      ],
      "metadata": {
        "colab": {
          "base_uri": "https://localhost:8080/",
          "height": 617
        },
        "id": "F9HHsFuYBo26",
        "outputId": "911eb4ef-6afa-42e7-e06a-0f5029f46fe6"
      },
      "execution_count": 203,
      "outputs": [
        {
          "output_type": "execute_result",
          "data": {
            "text/plain": [
              "Date                      0.000000\n",
              "Time                     30.252101\n",
              "Location                  0.080032\n",
              "Operator                  0.200080\n",
              "Flight #                 73.409364\n",
              "Route                    15.546218\n",
              "AC Type                   0.300120\n",
              "Registration              5.482193\n",
              "cn/ln                    13.365346\n",
              "Aboard                    0.360144\n",
              "Aboard Passangers         4.581833\n",
              "Aboard Crew               4.521809\n",
              "Fatalities                0.160064\n",
              "Fatalities Passangers     4.841937\n",
              "Fatalities Crew           4.821929\n",
              "Ground                    0.840336\n",
              "Summary                   1.280512\n",
              "dtype: float64"
            ],
            "text/html": [
              "<div>\n",
              "<style scoped>\n",
              "    .dataframe tbody tr th:only-of-type {\n",
              "        vertical-align: middle;\n",
              "    }\n",
              "\n",
              "    .dataframe tbody tr th {\n",
              "        vertical-align: top;\n",
              "    }\n",
              "\n",
              "    .dataframe thead th {\n",
              "        text-align: right;\n",
              "    }\n",
              "</style>\n",
              "<table border=\"1\" class=\"dataframe\">\n",
              "  <thead>\n",
              "    <tr style=\"text-align: right;\">\n",
              "      <th></th>\n",
              "      <th>0</th>\n",
              "    </tr>\n",
              "  </thead>\n",
              "  <tbody>\n",
              "    <tr>\n",
              "      <th>Date</th>\n",
              "      <td>0.000000</td>\n",
              "    </tr>\n",
              "    <tr>\n",
              "      <th>Time</th>\n",
              "      <td>30.252101</td>\n",
              "    </tr>\n",
              "    <tr>\n",
              "      <th>Location</th>\n",
              "      <td>0.080032</td>\n",
              "    </tr>\n",
              "    <tr>\n",
              "      <th>Operator</th>\n",
              "      <td>0.200080</td>\n",
              "    </tr>\n",
              "    <tr>\n",
              "      <th>Flight #</th>\n",
              "      <td>73.409364</td>\n",
              "    </tr>\n",
              "    <tr>\n",
              "      <th>Route</th>\n",
              "      <td>15.546218</td>\n",
              "    </tr>\n",
              "    <tr>\n",
              "      <th>AC Type</th>\n",
              "      <td>0.300120</td>\n",
              "    </tr>\n",
              "    <tr>\n",
              "      <th>Registration</th>\n",
              "      <td>5.482193</td>\n",
              "    </tr>\n",
              "    <tr>\n",
              "      <th>cn/ln</th>\n",
              "      <td>13.365346</td>\n",
              "    </tr>\n",
              "    <tr>\n",
              "      <th>Aboard</th>\n",
              "      <td>0.360144</td>\n",
              "    </tr>\n",
              "    <tr>\n",
              "      <th>Aboard Passangers</th>\n",
              "      <td>4.581833</td>\n",
              "    </tr>\n",
              "    <tr>\n",
              "      <th>Aboard Crew</th>\n",
              "      <td>4.521809</td>\n",
              "    </tr>\n",
              "    <tr>\n",
              "      <th>Fatalities</th>\n",
              "      <td>0.160064</td>\n",
              "    </tr>\n",
              "    <tr>\n",
              "      <th>Fatalities Passangers</th>\n",
              "      <td>4.841937</td>\n",
              "    </tr>\n",
              "    <tr>\n",
              "      <th>Fatalities Crew</th>\n",
              "      <td>4.821929</td>\n",
              "    </tr>\n",
              "    <tr>\n",
              "      <th>Ground</th>\n",
              "      <td>0.840336</td>\n",
              "    </tr>\n",
              "    <tr>\n",
              "      <th>Summary</th>\n",
              "      <td>1.280512</td>\n",
              "    </tr>\n",
              "  </tbody>\n",
              "</table>\n",
              "</div><br><label><b>dtype:</b> float64</label>"
            ]
          },
          "metadata": {},
          "execution_count": 203
        }
      ]
    },
    {
      "cell_type": "markdown",
      "source": [
        "On supprime ces colonnes car elles comportent trop de valeurs manquantes (>10%) ou ne sont pas utiles pour notre analyse."
      ],
      "metadata": {
        "id": "vIx6P_P2Cn5T"
      }
    },
    {
      "cell_type": "code",
      "source": [
        "df.drop(columns=[\"Flight #\", \"Route\", \"cn/ln\", \"Registration\"], inplace=True)"
      ],
      "metadata": {
        "id": "Dmq1vSt7CGui"
      },
      "execution_count": 204,
      "outputs": []
    },
    {
      "cell_type": "code",
      "source": [
        "df.isna().mean() * 100"
      ],
      "metadata": {
        "colab": {
          "base_uri": "https://localhost:8080/",
          "height": 492
        },
        "id": "SZb1nHVODHSj",
        "outputId": "0b26104d-6454-4a15-cbbf-b56976eafbe8"
      },
      "execution_count": 205,
      "outputs": [
        {
          "output_type": "execute_result",
          "data": {
            "text/plain": [
              "Date                      0.000000\n",
              "Time                     30.252101\n",
              "Location                  0.080032\n",
              "Operator                  0.200080\n",
              "AC Type                   0.300120\n",
              "Aboard                    0.360144\n",
              "Aboard Passangers         4.581833\n",
              "Aboard Crew               4.521809\n",
              "Fatalities                0.160064\n",
              "Fatalities Passangers     4.841937\n",
              "Fatalities Crew           4.821929\n",
              "Ground                    0.840336\n",
              "Summary                   1.280512\n",
              "dtype: float64"
            ],
            "text/html": [
              "<div>\n",
              "<style scoped>\n",
              "    .dataframe tbody tr th:only-of-type {\n",
              "        vertical-align: middle;\n",
              "    }\n",
              "\n",
              "    .dataframe tbody tr th {\n",
              "        vertical-align: top;\n",
              "    }\n",
              "\n",
              "    .dataframe thead th {\n",
              "        text-align: right;\n",
              "    }\n",
              "</style>\n",
              "<table border=\"1\" class=\"dataframe\">\n",
              "  <thead>\n",
              "    <tr style=\"text-align: right;\">\n",
              "      <th></th>\n",
              "      <th>0</th>\n",
              "    </tr>\n",
              "  </thead>\n",
              "  <tbody>\n",
              "    <tr>\n",
              "      <th>Date</th>\n",
              "      <td>0.000000</td>\n",
              "    </tr>\n",
              "    <tr>\n",
              "      <th>Time</th>\n",
              "      <td>30.252101</td>\n",
              "    </tr>\n",
              "    <tr>\n",
              "      <th>Location</th>\n",
              "      <td>0.080032</td>\n",
              "    </tr>\n",
              "    <tr>\n",
              "      <th>Operator</th>\n",
              "      <td>0.200080</td>\n",
              "    </tr>\n",
              "    <tr>\n",
              "      <th>AC Type</th>\n",
              "      <td>0.300120</td>\n",
              "    </tr>\n",
              "    <tr>\n",
              "      <th>Aboard</th>\n",
              "      <td>0.360144</td>\n",
              "    </tr>\n",
              "    <tr>\n",
              "      <th>Aboard Passangers</th>\n",
              "      <td>4.581833</td>\n",
              "    </tr>\n",
              "    <tr>\n",
              "      <th>Aboard Crew</th>\n",
              "      <td>4.521809</td>\n",
              "    </tr>\n",
              "    <tr>\n",
              "      <th>Fatalities</th>\n",
              "      <td>0.160064</td>\n",
              "    </tr>\n",
              "    <tr>\n",
              "      <th>Fatalities Passangers</th>\n",
              "      <td>4.841937</td>\n",
              "    </tr>\n",
              "    <tr>\n",
              "      <th>Fatalities Crew</th>\n",
              "      <td>4.821929</td>\n",
              "    </tr>\n",
              "    <tr>\n",
              "      <th>Ground</th>\n",
              "      <td>0.840336</td>\n",
              "    </tr>\n",
              "    <tr>\n",
              "      <th>Summary</th>\n",
              "      <td>1.280512</td>\n",
              "    </tr>\n",
              "  </tbody>\n",
              "</table>\n",
              "</div><br><label><b>dtype:</b> float64</label>"
            ]
          },
          "metadata": {},
          "execution_count": 205
        }
      ]
    },
    {
      "cell_type": "code",
      "source": [
        "from sklearn.impute import SimpleImputer\n",
        "\n",
        "Se = SimpleImputer(strategy='most_frequent')\n",
        "df[\"Location\"] = Se.fit_transform(df[[\"Location\"]]).ravel()\n",
        "df[\"Operator\"] = Se.fit_transform(df[[\"Operator\"]]).ravel()\n",
        "df[\"AC Type\"] = Se.fit_transform(df[[\"AC Type\"]]).ravel()"
      ],
      "metadata": {
        "id": "93mfrCXzEgqj"
      },
      "execution_count": 206,
      "outputs": []
    },
    {
      "cell_type": "code",
      "source": [
        "Se2 = SimpleImputer(strategy='mean')\n",
        "df[\"Aboard Passangers\"] = np.round(Se2.fit_transform(df[[\"Aboard Passangers\"]])).ravel()\n",
        "df[\"Aboard Crew\"] = np.round(Se2.fit_transform(df[[\"Aboard Crew\"]])).ravel()\n",
        "df[\"Fatalities Passangers\"] = np.round(Se2.fit_transform(df[[\"Fatalities Passangers\"]])).ravel()\n",
        "df[\"Fatalities Crew\"] = np.round(Se2.fit_transform(df[[\"Fatalities Crew\"]])).ravel()\n",
        "df[\"Ground\"] = np.round(Se2.fit_transform(df[[\"Ground\"]])).ravel()"
      ],
      "metadata": {
        "id": "11qbtx_kHp8I"
      },
      "execution_count": 207,
      "outputs": []
    },
    {
      "cell_type": "code",
      "source": [
        "df[\"Aboard\"] = df[\"Aboard Passangers\"] + df[\"Aboard Crew\"]\n",
        "df[\"Fatalities\"] = df[\"Fatalities Passangers\"] + df[\"Fatalities Crew\"]"
      ],
      "metadata": {
        "id": "i6GHTRlVI1Q9"
      },
      "execution_count": 208,
      "outputs": []
    },
    {
      "cell_type": "code",
      "source": [
        "df.dropna(inplace=True)"
      ],
      "metadata": {
        "id": "vs8Enb2VJZjl"
      },
      "execution_count": 209,
      "outputs": []
    },
    {
      "cell_type": "code",
      "source": [
        "df.isna().mean() * 100"
      ],
      "metadata": {
        "colab": {
          "base_uri": "https://localhost:8080/",
          "height": 492
        },
        "id": "Hv8U_fVBHlcV",
        "outputId": "4378e0d1-08c2-405d-89aa-a3500c76c587"
      },
      "execution_count": 210,
      "outputs": [
        {
          "output_type": "execute_result",
          "data": {
            "text/plain": [
              "Date                     0.0\n",
              "Time                     0.0\n",
              "Location                 0.0\n",
              "Operator                 0.0\n",
              "AC Type                  0.0\n",
              "Aboard                   0.0\n",
              "Aboard Passangers        0.0\n",
              "Aboard Crew              0.0\n",
              "Fatalities               0.0\n",
              "Fatalities Passangers    0.0\n",
              "Fatalities Crew          0.0\n",
              "Ground                   0.0\n",
              "Summary                  0.0\n",
              "dtype: float64"
            ],
            "text/html": [
              "<div>\n",
              "<style scoped>\n",
              "    .dataframe tbody tr th:only-of-type {\n",
              "        vertical-align: middle;\n",
              "    }\n",
              "\n",
              "    .dataframe tbody tr th {\n",
              "        vertical-align: top;\n",
              "    }\n",
              "\n",
              "    .dataframe thead th {\n",
              "        text-align: right;\n",
              "    }\n",
              "</style>\n",
              "<table border=\"1\" class=\"dataframe\">\n",
              "  <thead>\n",
              "    <tr style=\"text-align: right;\">\n",
              "      <th></th>\n",
              "      <th>0</th>\n",
              "    </tr>\n",
              "  </thead>\n",
              "  <tbody>\n",
              "    <tr>\n",
              "      <th>Date</th>\n",
              "      <td>0.0</td>\n",
              "    </tr>\n",
              "    <tr>\n",
              "      <th>Time</th>\n",
              "      <td>0.0</td>\n",
              "    </tr>\n",
              "    <tr>\n",
              "      <th>Location</th>\n",
              "      <td>0.0</td>\n",
              "    </tr>\n",
              "    <tr>\n",
              "      <th>Operator</th>\n",
              "      <td>0.0</td>\n",
              "    </tr>\n",
              "    <tr>\n",
              "      <th>AC Type</th>\n",
              "      <td>0.0</td>\n",
              "    </tr>\n",
              "    <tr>\n",
              "      <th>Aboard</th>\n",
              "      <td>0.0</td>\n",
              "    </tr>\n",
              "    <tr>\n",
              "      <th>Aboard Passangers</th>\n",
              "      <td>0.0</td>\n",
              "    </tr>\n",
              "    <tr>\n",
              "      <th>Aboard Crew</th>\n",
              "      <td>0.0</td>\n",
              "    </tr>\n",
              "    <tr>\n",
              "      <th>Fatalities</th>\n",
              "      <td>0.0</td>\n",
              "    </tr>\n",
              "    <tr>\n",
              "      <th>Fatalities Passangers</th>\n",
              "      <td>0.0</td>\n",
              "    </tr>\n",
              "    <tr>\n",
              "      <th>Fatalities Crew</th>\n",
              "      <td>0.0</td>\n",
              "    </tr>\n",
              "    <tr>\n",
              "      <th>Ground</th>\n",
              "      <td>0.0</td>\n",
              "    </tr>\n",
              "    <tr>\n",
              "      <th>Summary</th>\n",
              "      <td>0.0</td>\n",
              "    </tr>\n",
              "  </tbody>\n",
              "</table>\n",
              "</div><br><label><b>dtype:</b> float64</label>"
            ]
          },
          "metadata": {},
          "execution_count": 210
        }
      ]
    },
    {
      "cell_type": "code",
      "source": [
        "df[\"Date\"] = pd.to_datetime(df[\"Date\"])"
      ],
      "metadata": {
        "id": "_Rw8K8mqD-aG"
      },
      "execution_count": 211,
      "outputs": []
    },
    {
      "cell_type": "code",
      "source": [
        "df.head()"
      ],
      "metadata": {
        "colab": {
          "base_uri": "https://localhost:8080/",
          "height": 504
        },
        "id": "shqgcE72Jf02",
        "outputId": "2f3fe90a-b09c-416b-d9db-bc4a0645a394"
      },
      "execution_count": 212,
      "outputs": [
        {
          "output_type": "execute_result",
          "data": {
            "text/plain": [
              "        Date   Time                    Location                Operator  \\\n",
              "0 1908-09-17  17:18         Fort Myer, Virginia    Military - U.S. Army   \n",
              "2 1912-07-12   6:30   Atlantic City, New Jersey    Military - U.S. Navy   \n",
              "4 1913-09-09  18:30          Over the North Sea  Military - German Navy   \n",
              "5 1913-10-17  10:30  Near Johannisthal, Germany  Military - German Navy   \n",
              "6 1915-03-05   1:00             Tienen, Belgium  Military - German Navy   \n",
              "\n",
              "                  AC Type  Aboard  Aboard Passangers  Aboard Crew  Fatalities  \\\n",
              "0        Wright Flyer III     2.0                1.0          1.0         1.0   \n",
              "2               Dirigible     5.0                0.0          5.0         5.0   \n",
              "4  Zeppelin L-1 (airship)    31.0               27.0          4.0        23.0   \n",
              "5  Zeppelin L-2 (airship)    31.0               27.0          4.0        23.0   \n",
              "6  Zeppelin L-8 (airship)    31.0               27.0          4.0        23.0   \n",
              "\n",
              "   Fatalities Passangers  Fatalities Crew  Ground  \\\n",
              "0                    1.0              0.0     0.0   \n",
              "2                    0.0              5.0     0.0   \n",
              "4                   19.0              4.0     0.0   \n",
              "5                   19.0              4.0     0.0   \n",
              "6                   19.0              4.0     0.0   \n",
              "\n",
              "                                             Summary  \n",
              "0  During a demonstration flight, a U.S. Army fly...  \n",
              "2  First U.S. dirigible Akron exploded just offsh...  \n",
              "4  The airship flew into a thunderstorm and encou...  \n",
              "5  Hydrogen gas which was being vented was sucked...  \n",
              "6  Crashed into trees while attempting to land af...  "
            ],
            "text/html": [
              "\n",
              "  <div id=\"df-c4fe4010-4e21-48fe-a020-1551c2ebbbb5\" class=\"colab-df-container\">\n",
              "    <div>\n",
              "<style scoped>\n",
              "    .dataframe tbody tr th:only-of-type {\n",
              "        vertical-align: middle;\n",
              "    }\n",
              "\n",
              "    .dataframe tbody tr th {\n",
              "        vertical-align: top;\n",
              "    }\n",
              "\n",
              "    .dataframe thead th {\n",
              "        text-align: right;\n",
              "    }\n",
              "</style>\n",
              "<table border=\"1\" class=\"dataframe\">\n",
              "  <thead>\n",
              "    <tr style=\"text-align: right;\">\n",
              "      <th></th>\n",
              "      <th>Date</th>\n",
              "      <th>Time</th>\n",
              "      <th>Location</th>\n",
              "      <th>Operator</th>\n",
              "      <th>AC Type</th>\n",
              "      <th>Aboard</th>\n",
              "      <th>Aboard Passangers</th>\n",
              "      <th>Aboard Crew</th>\n",
              "      <th>Fatalities</th>\n",
              "      <th>Fatalities Passangers</th>\n",
              "      <th>Fatalities Crew</th>\n",
              "      <th>Ground</th>\n",
              "      <th>Summary</th>\n",
              "    </tr>\n",
              "  </thead>\n",
              "  <tbody>\n",
              "    <tr>\n",
              "      <th>0</th>\n",
              "      <td>1908-09-17</td>\n",
              "      <td>17:18</td>\n",
              "      <td>Fort Myer, Virginia</td>\n",
              "      <td>Military - U.S. Army</td>\n",
              "      <td>Wright Flyer III</td>\n",
              "      <td>2.0</td>\n",
              "      <td>1.0</td>\n",
              "      <td>1.0</td>\n",
              "      <td>1.0</td>\n",
              "      <td>1.0</td>\n",
              "      <td>0.0</td>\n",
              "      <td>0.0</td>\n",
              "      <td>During a demonstration flight, a U.S. Army fly...</td>\n",
              "    </tr>\n",
              "    <tr>\n",
              "      <th>2</th>\n",
              "      <td>1912-07-12</td>\n",
              "      <td>6:30</td>\n",
              "      <td>Atlantic City, New Jersey</td>\n",
              "      <td>Military - U.S. Navy</td>\n",
              "      <td>Dirigible</td>\n",
              "      <td>5.0</td>\n",
              "      <td>0.0</td>\n",
              "      <td>5.0</td>\n",
              "      <td>5.0</td>\n",
              "      <td>0.0</td>\n",
              "      <td>5.0</td>\n",
              "      <td>0.0</td>\n",
              "      <td>First U.S. dirigible Akron exploded just offsh...</td>\n",
              "    </tr>\n",
              "    <tr>\n",
              "      <th>4</th>\n",
              "      <td>1913-09-09</td>\n",
              "      <td>18:30</td>\n",
              "      <td>Over the North Sea</td>\n",
              "      <td>Military - German Navy</td>\n",
              "      <td>Zeppelin L-1 (airship)</td>\n",
              "      <td>31.0</td>\n",
              "      <td>27.0</td>\n",
              "      <td>4.0</td>\n",
              "      <td>23.0</td>\n",
              "      <td>19.0</td>\n",
              "      <td>4.0</td>\n",
              "      <td>0.0</td>\n",
              "      <td>The airship flew into a thunderstorm and encou...</td>\n",
              "    </tr>\n",
              "    <tr>\n",
              "      <th>5</th>\n",
              "      <td>1913-10-17</td>\n",
              "      <td>10:30</td>\n",
              "      <td>Near Johannisthal, Germany</td>\n",
              "      <td>Military - German Navy</td>\n",
              "      <td>Zeppelin L-2 (airship)</td>\n",
              "      <td>31.0</td>\n",
              "      <td>27.0</td>\n",
              "      <td>4.0</td>\n",
              "      <td>23.0</td>\n",
              "      <td>19.0</td>\n",
              "      <td>4.0</td>\n",
              "      <td>0.0</td>\n",
              "      <td>Hydrogen gas which was being vented was sucked...</td>\n",
              "    </tr>\n",
              "    <tr>\n",
              "      <th>6</th>\n",
              "      <td>1915-03-05</td>\n",
              "      <td>1:00</td>\n",
              "      <td>Tienen, Belgium</td>\n",
              "      <td>Military - German Navy</td>\n",
              "      <td>Zeppelin L-8 (airship)</td>\n",
              "      <td>31.0</td>\n",
              "      <td>27.0</td>\n",
              "      <td>4.0</td>\n",
              "      <td>23.0</td>\n",
              "      <td>19.0</td>\n",
              "      <td>4.0</td>\n",
              "      <td>0.0</td>\n",
              "      <td>Crashed into trees while attempting to land af...</td>\n",
              "    </tr>\n",
              "  </tbody>\n",
              "</table>\n",
              "</div>\n",
              "    <div class=\"colab-df-buttons\">\n",
              "\n",
              "  <div class=\"colab-df-container\">\n",
              "    <button class=\"colab-df-convert\" onclick=\"convertToInteractive('df-c4fe4010-4e21-48fe-a020-1551c2ebbbb5')\"\n",
              "            title=\"Convert this dataframe to an interactive table.\"\n",
              "            style=\"display:none;\">\n",
              "\n",
              "  <svg xmlns=\"http://www.w3.org/2000/svg\" height=\"24px\" viewBox=\"0 -960 960 960\">\n",
              "    <path d=\"M120-120v-720h720v720H120Zm60-500h600v-160H180v160Zm220 220h160v-160H400v160Zm0 220h160v-160H400v160ZM180-400h160v-160H180v160Zm440 0h160v-160H620v160ZM180-180h160v-160H180v160Zm440 0h160v-160H620v160Z\"/>\n",
              "  </svg>\n",
              "    </button>\n",
              "\n",
              "  <style>\n",
              "    .colab-df-container {\n",
              "      display:flex;\n",
              "      gap: 12px;\n",
              "    }\n",
              "\n",
              "    .colab-df-convert {\n",
              "      background-color: #E8F0FE;\n",
              "      border: none;\n",
              "      border-radius: 50%;\n",
              "      cursor: pointer;\n",
              "      display: none;\n",
              "      fill: #1967D2;\n",
              "      height: 32px;\n",
              "      padding: 0 0 0 0;\n",
              "      width: 32px;\n",
              "    }\n",
              "\n",
              "    .colab-df-convert:hover {\n",
              "      background-color: #E2EBFA;\n",
              "      box-shadow: 0px 1px 2px rgba(60, 64, 67, 0.3), 0px 1px 3px 1px rgba(60, 64, 67, 0.15);\n",
              "      fill: #174EA6;\n",
              "    }\n",
              "\n",
              "    .colab-df-buttons div {\n",
              "      margin-bottom: 4px;\n",
              "    }\n",
              "\n",
              "    [theme=dark] .colab-df-convert {\n",
              "      background-color: #3B4455;\n",
              "      fill: #D2E3FC;\n",
              "    }\n",
              "\n",
              "    [theme=dark] .colab-df-convert:hover {\n",
              "      background-color: #434B5C;\n",
              "      box-shadow: 0px 1px 3px 1px rgba(0, 0, 0, 0.15);\n",
              "      filter: drop-shadow(0px 1px 2px rgba(0, 0, 0, 0.3));\n",
              "      fill: #FFFFFF;\n",
              "    }\n",
              "  </style>\n",
              "\n",
              "    <script>\n",
              "      const buttonEl =\n",
              "        document.querySelector('#df-c4fe4010-4e21-48fe-a020-1551c2ebbbb5 button.colab-df-convert');\n",
              "      buttonEl.style.display =\n",
              "        google.colab.kernel.accessAllowed ? 'block' : 'none';\n",
              "\n",
              "      async function convertToInteractive(key) {\n",
              "        const element = document.querySelector('#df-c4fe4010-4e21-48fe-a020-1551c2ebbbb5');\n",
              "        const dataTable =\n",
              "          await google.colab.kernel.invokeFunction('convertToInteractive',\n",
              "                                                    [key], {});\n",
              "        if (!dataTable) return;\n",
              "\n",
              "        const docLinkHtml = 'Like what you see? Visit the ' +\n",
              "          '<a target=\"_blank\" href=https://colab.research.google.com/notebooks/data_table.ipynb>data table notebook</a>'\n",
              "          + ' to learn more about interactive tables.';\n",
              "        element.innerHTML = '';\n",
              "        dataTable['output_type'] = 'display_data';\n",
              "        await google.colab.output.renderOutput(dataTable, element);\n",
              "        const docLink = document.createElement('div');\n",
              "        docLink.innerHTML = docLinkHtml;\n",
              "        element.appendChild(docLink);\n",
              "      }\n",
              "    </script>\n",
              "  </div>\n",
              "\n",
              "\n",
              "    <div id=\"df-b79e312e-73a0-424e-bf03-b4da45a47c17\">\n",
              "      <button class=\"colab-df-quickchart\" onclick=\"quickchart('df-b79e312e-73a0-424e-bf03-b4da45a47c17')\"\n",
              "                title=\"Suggest charts\"\n",
              "                style=\"display:none;\">\n",
              "\n",
              "<svg xmlns=\"http://www.w3.org/2000/svg\" height=\"24px\"viewBox=\"0 0 24 24\"\n",
              "     width=\"24px\">\n",
              "    <g>\n",
              "        <path d=\"M19 3H5c-1.1 0-2 .9-2 2v14c0 1.1.9 2 2 2h14c1.1 0 2-.9 2-2V5c0-1.1-.9-2-2-2zM9 17H7v-7h2v7zm4 0h-2V7h2v10zm4 0h-2v-4h2v4z\"/>\n",
              "    </g>\n",
              "</svg>\n",
              "      </button>\n",
              "\n",
              "<style>\n",
              "  .colab-df-quickchart {\n",
              "      --bg-color: #E8F0FE;\n",
              "      --fill-color: #1967D2;\n",
              "      --hover-bg-color: #E2EBFA;\n",
              "      --hover-fill-color: #174EA6;\n",
              "      --disabled-fill-color: #AAA;\n",
              "      --disabled-bg-color: #DDD;\n",
              "  }\n",
              "\n",
              "  [theme=dark] .colab-df-quickchart {\n",
              "      --bg-color: #3B4455;\n",
              "      --fill-color: #D2E3FC;\n",
              "      --hover-bg-color: #434B5C;\n",
              "      --hover-fill-color: #FFFFFF;\n",
              "      --disabled-bg-color: #3B4455;\n",
              "      --disabled-fill-color: #666;\n",
              "  }\n",
              "\n",
              "  .colab-df-quickchart {\n",
              "    background-color: var(--bg-color);\n",
              "    border: none;\n",
              "    border-radius: 50%;\n",
              "    cursor: pointer;\n",
              "    display: none;\n",
              "    fill: var(--fill-color);\n",
              "    height: 32px;\n",
              "    padding: 0;\n",
              "    width: 32px;\n",
              "  }\n",
              "\n",
              "  .colab-df-quickchart:hover {\n",
              "    background-color: var(--hover-bg-color);\n",
              "    box-shadow: 0 1px 2px rgba(60, 64, 67, 0.3), 0 1px 3px 1px rgba(60, 64, 67, 0.15);\n",
              "    fill: var(--button-hover-fill-color);\n",
              "  }\n",
              "\n",
              "  .colab-df-quickchart-complete:disabled,\n",
              "  .colab-df-quickchart-complete:disabled:hover {\n",
              "    background-color: var(--disabled-bg-color);\n",
              "    fill: var(--disabled-fill-color);\n",
              "    box-shadow: none;\n",
              "  }\n",
              "\n",
              "  .colab-df-spinner {\n",
              "    border: 2px solid var(--fill-color);\n",
              "    border-color: transparent;\n",
              "    border-bottom-color: var(--fill-color);\n",
              "    animation:\n",
              "      spin 1s steps(1) infinite;\n",
              "  }\n",
              "\n",
              "  @keyframes spin {\n",
              "    0% {\n",
              "      border-color: transparent;\n",
              "      border-bottom-color: var(--fill-color);\n",
              "      border-left-color: var(--fill-color);\n",
              "    }\n",
              "    20% {\n",
              "      border-color: transparent;\n",
              "      border-left-color: var(--fill-color);\n",
              "      border-top-color: var(--fill-color);\n",
              "    }\n",
              "    30% {\n",
              "      border-color: transparent;\n",
              "      border-left-color: var(--fill-color);\n",
              "      border-top-color: var(--fill-color);\n",
              "      border-right-color: var(--fill-color);\n",
              "    }\n",
              "    40% {\n",
              "      border-color: transparent;\n",
              "      border-right-color: var(--fill-color);\n",
              "      border-top-color: var(--fill-color);\n",
              "    }\n",
              "    60% {\n",
              "      border-color: transparent;\n",
              "      border-right-color: var(--fill-color);\n",
              "    }\n",
              "    80% {\n",
              "      border-color: transparent;\n",
              "      border-right-color: var(--fill-color);\n",
              "      border-bottom-color: var(--fill-color);\n",
              "    }\n",
              "    90% {\n",
              "      border-color: transparent;\n",
              "      border-bottom-color: var(--fill-color);\n",
              "    }\n",
              "  }\n",
              "</style>\n",
              "\n",
              "      <script>\n",
              "        async function quickchart(key) {\n",
              "          const quickchartButtonEl =\n",
              "            document.querySelector('#' + key + ' button');\n",
              "          quickchartButtonEl.disabled = true;  // To prevent multiple clicks.\n",
              "          quickchartButtonEl.classList.add('colab-df-spinner');\n",
              "          try {\n",
              "            const charts = await google.colab.kernel.invokeFunction(\n",
              "                'suggestCharts', [key], {});\n",
              "          } catch (error) {\n",
              "            console.error('Error during call to suggestCharts:', error);\n",
              "          }\n",
              "          quickchartButtonEl.classList.remove('colab-df-spinner');\n",
              "          quickchartButtonEl.classList.add('colab-df-quickchart-complete');\n",
              "        }\n",
              "        (() => {\n",
              "          let quickchartButtonEl =\n",
              "            document.querySelector('#df-b79e312e-73a0-424e-bf03-b4da45a47c17 button');\n",
              "          quickchartButtonEl.style.display =\n",
              "            google.colab.kernel.accessAllowed ? 'block' : 'none';\n",
              "        })();\n",
              "      </script>\n",
              "    </div>\n",
              "\n",
              "    </div>\n",
              "  </div>\n"
            ],
            "application/vnd.google.colaboratory.intrinsic+json": {
              "type": "dataframe",
              "variable_name": "df",
              "summary": "{\n  \"name\": \"df\",\n  \"rows\": 3482,\n  \"fields\": [\n    {\n      \"column\": \"Date\",\n      \"properties\": {\n        \"dtype\": \"date\",\n        \"min\": \"1908-09-17 00:00:00\",\n        \"max\": \"2023-11-01 00:00:00\",\n        \"num_unique_values\": 3256,\n        \"samples\": [\n          \"1994-06-26 00:00:00\",\n          \"1935-12-31 00:00:00\",\n          \"1993-01-06 00:00:00\"\n        ],\n        \"semantic_type\": \"\",\n        \"description\": \"\"\n      }\n    },\n    {\n      \"column\": \"Time\",\n      \"properties\": {\n        \"dtype\": \"category\",\n        \"num_unique_values\": 1060,\n        \"samples\": [\n          \"2:08\",\n          \"13:53\",\n          \"18:15\"\n        ],\n        \"semantic_type\": \"\",\n        \"description\": \"\"\n      }\n    },\n    {\n      \"column\": \"Location\",\n      \"properties\": {\n        \"dtype\": \"string\",\n        \"num_unique_values\": 2932,\n        \"samples\": [\n          \"Stockholm, Sweden\",\n          \"Turtkul, Uzbekistan\",\n          \"Near Kyzyltu, Kazakhstan\"\n        ],\n        \"semantic_type\": \"\",\n        \"description\": \"\"\n      }\n    },\n    {\n      \"column\": \"Operator\",\n      \"properties\": {\n        \"dtype\": \"string\",\n        \"num_unique_values\": 1742,\n        \"samples\": [\n          \"Slick Airways - Cargo\",\n          \"Aerogulf\",\n          \"China Southern Airlines / Xiamen Airlines\"\n        ],\n        \"semantic_type\": \"\",\n        \"description\": \"\"\n      }\n    },\n    {\n      \"column\": \"AC Type\",\n      \"properties\": {\n        \"dtype\": \"string\",\n        \"num_unique_values\": 1964,\n        \"samples\": [\n          \"Boeing B-737-2A8\",\n          \"Antonov AN-24 / Yakovlev Yak-40\",\n          \"Boeing 40\"\n        ],\n        \"semantic_type\": \"\",\n        \"description\": \"\"\n      }\n    },\n    {\n      \"column\": \"Aboard\",\n      \"properties\": {\n        \"dtype\": \"number\",\n        \"std\": 51.0396517047387,\n        \"min\": 0.0,\n        \"max\": 644.0,\n        \"num_unique_values\": 240,\n        \"samples\": [\n          0.0,\n          6.0,\n          111.0\n        ],\n        \"semantic_type\": \"\",\n        \"description\": \"\"\n      }\n    },\n    {\n      \"column\": \"Aboard Passangers\",\n      \"properties\": {\n        \"dtype\": \"number\",\n        \"std\": 48.83891068685739,\n        \"min\": 0.0,\n        \"max\": 614.0,\n        \"num_unique_values\": 231,\n        \"samples\": [\n          157.0,\n          74.0,\n          10.0\n        ],\n        \"semantic_type\": \"\",\n        \"description\": \"\"\n      }\n    },\n    {\n      \"column\": \"Aboard Crew\",\n      \"properties\": {\n        \"dtype\": \"number\",\n        \"std\": 3.691956325389719,\n        \"min\": 0.0,\n        \"max\": 61.0,\n        \"num_unique_values\": 31,\n        \"samples\": [\n          23.0,\n          11.0,\n          16.0\n        ],\n        \"semantic_type\": \"\",\n        \"description\": \"\"\n      }\n    },\n    {\n      \"column\": \"Fatalities\",\n      \"properties\": {\n        \"dtype\": \"number\",\n        \"std\": 40.09522459285528,\n        \"min\": 0.0,\n        \"max\": 583.0,\n        \"num_unique_values\": 198,\n        \"samples\": [\n          47.0,\n          104.0,\n          15.0\n        ],\n        \"semantic_type\": \"\",\n        \"description\": \"\"\n      }\n    },\n    {\n      \"column\": \"Fatalities Passangers\",\n      \"properties\": {\n        \"dtype\": \"number\",\n        \"std\": 38.19340516410945,\n        \"min\": 0.0,\n        \"max\": 560.0,\n        \"num_unique_values\": 190,\n        \"samples\": [\n          222.0,\n          257.0,\n          62.0\n        ],\n        \"semantic_type\": \"\",\n        \"description\": \"\"\n      }\n    },\n    {\n      \"column\": \"Fatalities Crew\",\n      \"properties\": {\n        \"dtype\": \"number\",\n        \"std\": 3.3485795060724177,\n        \"min\": 0.0,\n        \"max\": 46.0,\n        \"num_unique_values\": 28,\n        \"samples\": [\n          13.0,\n          27.0,\n          14.0\n        ],\n        \"semantic_type\": \"\",\n        \"description\": \"\"\n      }\n    },\n    {\n      \"column\": \"Ground\",\n      \"properties\": {\n        \"dtype\": \"number\",\n        \"std\": 66.22743285835017,\n        \"min\": 0.0,\n        \"max\": 2750.0,\n        \"num_unique_values\": 45,\n        \"samples\": [\n          2750.0,\n          25.0,\n          113.0\n        ],\n        \"semantic_type\": \"\",\n        \"description\": \"\"\n      }\n    },\n    {\n      \"column\": \"Summary\",\n      \"properties\": {\n        \"dtype\": \"string\",\n        \"num_unique_values\": 3476,\n        \"samples\": [\n          \"Crashed near an ammo depot.\",\n          \"Crashed into a mountain south of Dong Ha airfield.\",\n          \"A midair collision occurred while on a cross-country flight flying in formation. Twelve kiled aboard 4207183 and thirteen aboard 42-7408. Faulty flying technique displayed by the pilot of 42-7183.\"\n        ],\n        \"semantic_type\": \"\",\n        \"description\": \"\"\n      }\n    }\n  ]\n}"
            }
          },
          "metadata": {},
          "execution_count": 212
        }
      ]
    },
    {
      "cell_type": "code",
      "source": [
        "df.info()"
      ],
      "metadata": {
        "colab": {
          "base_uri": "https://localhost:8080/"
        },
        "id": "iLQFLDqnJkqz",
        "outputId": "1d1e096e-8aed-4b82-b887-2ccbabd78f8a"
      },
      "execution_count": 213,
      "outputs": [
        {
          "output_type": "stream",
          "name": "stdout",
          "text": [
            "<class 'pandas.core.frame.DataFrame'>\n",
            "Index: 3482 entries, 0 to 4997\n",
            "Data columns (total 13 columns):\n",
            " #   Column                 Non-Null Count  Dtype         \n",
            "---  ------                 --------------  -----         \n",
            " 0   Date                   3482 non-null   datetime64[ns]\n",
            " 1   Time                   3482 non-null   object        \n",
            " 2   Location               3482 non-null   object        \n",
            " 3   Operator               3482 non-null   object        \n",
            " 4   AC Type                3482 non-null   object        \n",
            " 5   Aboard                 3482 non-null   float64       \n",
            " 6   Aboard Passangers      3482 non-null   float64       \n",
            " 7   Aboard Crew            3482 non-null   float64       \n",
            " 8   Fatalities             3482 non-null   float64       \n",
            " 9   Fatalities Passangers  3482 non-null   float64       \n",
            " 10  Fatalities Crew        3482 non-null   float64       \n",
            " 11  Ground                 3482 non-null   float64       \n",
            " 12  Summary                3482 non-null   object        \n",
            "dtypes: datetime64[ns](1), float64(7), object(5)\n",
            "memory usage: 380.8+ KB\n"
          ]
        }
      ]
    },
    {
      "cell_type": "code",
      "source": [
        "df.shape[0]"
      ],
      "metadata": {
        "colab": {
          "base_uri": "https://localhost:8080/"
        },
        "id": "92luMYqFJl2K",
        "outputId": "5527e840-03dd-43d7-9e61-34de5fe05873"
      },
      "execution_count": 214,
      "outputs": [
        {
          "output_type": "execute_result",
          "data": {
            "text/plain": [
              "3482"
            ]
          },
          "metadata": {},
          "execution_count": 214
        }
      ]
    },
    {
      "cell_type": "markdown",
      "source": [
        "# **2. Exploratory Data Analysis:**"
      ],
      "metadata": {
        "id": "_u38lAJ2J1LR"
      }
    },
    {
      "cell_type": "markdown",
      "source": [
        "Number of crashes\n"
      ],
      "metadata": {
        "id": "Ndl7GHOfLKgs"
      }
    },
    {
      "cell_type": "code",
      "source": [
        "number_flights = df.shape[0]\n",
        "number_flights"
      ],
      "metadata": {
        "colab": {
          "base_uri": "https://localhost:8080/"
        },
        "id": "zWgXBzmMJpcS",
        "outputId": "c8fb5da7-9f81-4518-d944-8040ca459db3"
      },
      "execution_count": 215,
      "outputs": [
        {
          "output_type": "execute_result",
          "data": {
            "text/plain": [
              "3482"
            ]
          },
          "metadata": {},
          "execution_count": 215
        }
      ]
    },
    {
      "cell_type": "markdown",
      "source": [
        "number of fatalities"
      ],
      "metadata": {
        "id": "MBKSEPE3Lb79"
      }
    },
    {
      "cell_type": "code",
      "source": [
        "number_fatalities = df[\"Fatalities\"].sum()\n",
        "number_fatalities"
      ],
      "metadata": {
        "colab": {
          "base_uri": "https://localhost:8080/"
        },
        "id": "p9tYLfdZLRY0",
        "outputId": "719dd5fa-25ef-48de-a191-bb52dc38c838"
      },
      "execution_count": 216,
      "outputs": [
        {
          "output_type": "execute_result",
          "data": {
            "text/plain": [
              "np.float64(94162.0)"
            ]
          },
          "metadata": {},
          "execution_count": 216
        }
      ]
    },
    {
      "cell_type": "markdown",
      "source": [
        "survival rates"
      ],
      "metadata": {
        "id": "9kmErJBGMZxq"
      }
    },
    {
      "cell_type": "code",
      "source": [
        "number_survivors = df[\"Aboard\"].sum() - df[\"Fatalities\"].sum()\n",
        "survival_rate = number_survivors / df[\"Aboard\"].sum() * 100\n",
        "survival_rate"
      ],
      "metadata": {
        "colab": {
          "base_uri": "https://localhost:8080/"
        },
        "id": "jePyqo2OLWxm",
        "outputId": "95562f2f-2ef9-4b29-9b51-6ff321294c29"
      },
      "execution_count": 217,
      "outputs": [
        {
          "output_type": "execute_result",
          "data": {
            "text/plain": [
              "np.float64(27.850739406941997)"
            ]
          },
          "metadata": {},
          "execution_count": 217
        }
      ]
    },
    {
      "cell_type": "code",
      "source": [
        "crashes_per_year = df.groupby(df[\"Date\"].dt.year)[\"Date\"].count()"
      ],
      "metadata": {
        "id": "gTZXcRNsNzJM"
      },
      "execution_count": 236,
      "outputs": []
    },
    {
      "cell_type": "code",
      "source": [
        "plt.figure(figsize=(10, 10))\n",
        "plt.plot(crashes_per_year)\n",
        "plt.title(\"Number of crashes per year\")\n",
        "plt.xlabel(\"Year\")\n",
        "plt.ylabel(\"Number of crashes\")\n",
        "plt.show()"
      ],
      "metadata": {
        "colab": {
          "base_uri": "https://localhost:8080/",
          "height": 872
        },
        "id": "MmO0ESVcQELE",
        "outputId": "470fe2cf-c6f6-4ab0-9f62-747db5493d75"
      },
      "execution_count": 219,
      "outputs": [
        {
          "output_type": "display_data",
          "data": {
            "text/plain": [
              "<Figure size 1000x1000 with 1 Axes>"
            ],
            "image/png": "[encoded data removed]"
          },
          "metadata": {}
        }
      ]
    },
    {
      "cell_type": "markdown",
      "source": [
        "# **3. Statistical Analysis:**"
      ],
      "metadata": {
        "id": "wU9x5VugQZqV"
      }
    },
    {
      "cell_type": "code",
      "source": [
        "fatalities_mean = stats.tmean(df[\"Fatalities\"])\n",
        "fatalities_median = np.median(df[\"Fatalities\"])\n",
        "fatalities_std = stats.tstd(df[\"Fatalities\"])\n",
        "\n",
        "print(f\"Mean: {fatalities_mean}\")\n",
        "print(f\"Median: {fatalities_median}\")\n",
        "print(f\"Standard deviation: {fatalities_std}\")"
      ],
      "metadata": {
        "colab": {
          "base_uri": "https://localhost:8080/"
        },
        "id": "6V2Wdx0lQc8R",
        "outputId": "0c85dfde-ce27-459b-99d0-01aa20a68038"
      },
      "execution_count": 220,
      "outputs": [
        {
          "output_type": "stream",
          "name": "stdout",
          "text": [
            "Mean: 27.04250430786904\n",
            "Median: 14.0\n",
            "Standard deviation: 40.09522459285542\n"
          ]
        }
      ]
    },
    {
      "cell_type": "code",
      "source": [
        "df.dropna(inplace=True)"
      ],
      "metadata": {
        "id": "SJN7x4XoT-Pk"
      },
      "execution_count": 221,
      "outputs": []
    },
    {
      "cell_type": "code",
      "source": [
        "df[\"Survival Rate\"] = (df[\"Aboard\"] - df[\"Fatalities\"]) / df[\"Aboard\"] * 100"
      ],
      "metadata": {
        "id": "_Cc2P2SuR4g_"
      },
      "execution_count": 222,
      "outputs": []
    },
    {
      "cell_type": "code",
      "source": [
        "df = df[df[\"Survival Rate\"] >= 0]"
      ],
      "metadata": {
        "id": "dpOX_ra_UvQd"
      },
      "execution_count": 225,
      "outputs": []
    },
    {
      "cell_type": "code",
      "source": [
        "survival_mean = stats.tmean(df[\"Survival Rate\"])\n",
        "survival_median = np.median(df[\"Survival Rate\"])\n",
        "survival_std = stats.tstd(df[\"Survival Rate\"])\n",
        "\n",
        "print(f\"Mean: {survival_mean}\")\n",
        "print(f\"Median: {survival_median}\")\n",
        "print(f\"Standard deviation: {survival_std}\")"
      ],
      "metadata": {
        "colab": {
          "base_uri": "https://localhost:8080/"
        },
        "id": "JWmi4oPhStIB",
        "outputId": "cd8d94c8-8902-400d-8b16-40b464b78b87"
      },
      "execution_count": 226,
      "outputs": [
        {
          "output_type": "stream",
          "name": "stdout",
          "text": [
            "Mean: 18.608632526488496\n",
            "Median: 0.0\n",
            "Standard deviation: 31.17620834175657\n"
          ]
        }
      ]
    },
    {
      "cell_type": "code",
      "source": [
        "df[\"Decade\"] = (df[\"Date\"].dt.year // 10) * 10"
      ],
      "metadata": {
        "id": "eUFt_G1sV0bo"
      },
      "execution_count": 227,
      "outputs": []
    },
    {
      "cell_type": "code",
      "source": [
        "groups = [group[\"Fatalities\"] for i, group in df.groupby(\"Decade\") if len(group) > 1]"
      ],
      "metadata": {
        "id": "gdQoujHuYyn-"
      },
      "execution_count": 240,
      "outputs": []
    },
    {
      "cell_type": "code",
      "source": [
        "from scipy.stats import f_oneway\n",
        "\n",
        "stat, p = f_oneway(*groups)\n",
        "\n",
        "if p < 0.05:\n",
        "    print(\"There is a significant difference in the number of fatalities between the decades.\")\n",
        "else:\n",
        "    print(\"There is no significant difference in the number of fatalities between the decades.\")"
      ],
      "metadata": {
        "colab": {
          "base_uri": "https://localhost:8080/"
        },
        "id": "ZisvLg-4Zhi1",
        "outputId": "d6700ea0-0079-4969-dbac-739f17e8e429"
      },
      "execution_count": 241,
      "outputs": [
        {
          "output_type": "stream",
          "name": "stdout",
          "text": [
            "There is a significant difference in the number of fatalities between the decades.\n"
          ]
        }
      ]
    },
    {
      "cell_type": "code",
      "source": [
        "plt.figure(figsize=(8, 8))\n",
        "sns.histplot(data = df, x = \"Fatalities\", hue = \"Decade\", multiple=\"dodge\", bins = 1)\n",
        "plt.title(\"Fatalities by Decade\")\n",
        "plt.xlabel(\"Fatalities\")\n",
        "plt.show()"
      ],
      "metadata": {
        "colab": {
          "base_uri": "https://localhost:8080/",
          "height": 718
        },
        "id": "UVz_gW1uZ3L_",
        "outputId": "ffdff931-7714-4606-9269-70572d0de733"
      },
      "execution_count": 275,
      "outputs": [
        {
          "output_type": "display_data",
          "data": {
            "text/plain": [
              "<Figure size 800x800 with 1 Axes>"
            ],
            "image/png": "[encoded data removed]"
          },
          "metadata": {}
        }
      ]
    },
    {
      "cell_type": "code",
      "source": [
        "decade_df = df.groupby(\"Location\")[\"Fatalities\"].sum().sort_values(ascending=False).head(10)\n",
        "\n",
        "plt.figure(figsize=(10, 10))\n",
        "plt.bar(decade_df.index, decade_df.values, width = 0.5)\n",
        "plt.title(\"Fatalities by Location\")\n",
        "plt.xlabel(\"Location\")\n",
        "plt.ylabel(\"Fatalities\")\n",
        "plt.xticks(rotation=45)\n",
        "plt.show()"
      ],
      "metadata": {
        "colab": {
          "base_uri": "https://localhost:8080/",
          "height": 1000
        },
        "id": "dCqcI9n8aMsE",
        "outputId": "37f0472a-7e46-4e8a-b128-6fc59a581b99"
      },
      "execution_count": 281,
      "outputs": [
        {
          "output_type": "display_data",
          "data": {
            "text/plain": [
              "<Figure size 1000x1000 with 1 Axes>"
            ],
            "image/png": "[encoded data removed]"
          },
          "metadata": {}
        }
      ]
    },
    {
      "cell_type": "markdown",
      "source": [
        "# **5. Insight and Report:**"
      ],
      "metadata": {
        "id": "5ilEVN2SWbKE"
      }
    },
    {
      "cell_type": "markdown",
      "source": [
        "The analysis reveals strong historical trends, a progressive improvement in aviation safety, and a marked variability in the severity of accidents."
      ],
      "metadata": {
        "id": "vQhvkkAoifp4"
      }
    }
  ]
}