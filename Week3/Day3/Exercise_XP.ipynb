{
  "nbformat": 4,
  "nbformat_minor": 0,
  "metadata": {
    "colab": {
      "provenance": []
    },
    "kernelspec": {
      "name": "python3",
      "display_name": "Python 3"
    },
    "language_info": {
      "name": "python"
    }
  },
  "cells": [
    {
      "cell_type": "code",
      "execution_count": 1,
      "metadata": {
        "colab": {
          "base_uri": "https://localhost:8080/"
        },
        "id": "yDrdoqCKMl4a",
        "outputId": "b1c7f494-eb71-486b-d738-4719c175c3b2"
      },
      "outputs": [
        {
          "output_type": "stream",
          "name": "stdout",
          "text": [
            "Drive already mounted at /content/drive; to attempt to forcibly remount, call drive.mount(\"/content/drive\", force_remount=True).\n"
          ]
        }
      ],
      "source": [
        "from google.colab import drive\n",
        "drive.mount('/content/drive')"
      ]
    },
    {
      "cell_type": "code",
      "source": [
        "import pandas as pd\n",
        "import numpy as np\n",
        "import matplotlib.pyplot as plt\n",
        "import seaborn as sns"
      ],
      "metadata": {
        "id": "J3ul0VgDN-vJ"
      },
      "execution_count": 2,
      "outputs": []
    },
    {
      "cell_type": "markdown",
      "source": [
        "🌟 Exercise 1: Basic Usage of SciPy"
      ],
      "metadata": {
        "id": "P2HrBbZfN6zy"
      }
    },
    {
      "cell_type": "code",
      "source": [
        "import scipy"
      ],
      "metadata": {
        "id": "aF0QDc-pN8--"
      },
      "execution_count": 5,
      "outputs": []
    },
    {
      "cell_type": "code",
      "source": [
        "!pip install --upgrade scipy"
      ],
      "metadata": {
        "colab": {
          "base_uri": "https://localhost:8080/",
          "height": 356
        },
        "id": "Da0uhea9TTvE",
        "outputId": "7e049aeb-1b20-41b3-f451-4df2daf7eb08"
      },
      "execution_count": 18,
      "outputs": [
        {
          "output_type": "stream",
          "name": "stdout",
          "text": [
            "Requirement already satisfied: scipy in /usr/local/lib/python3.11/dist-packages (1.15.3)\n",
            "Collecting scipy\n",
            "  Downloading scipy-1.16.0-cp311-cp311-manylinux2014_x86_64.manylinux_2_17_x86_64.whl.metadata (61 kB)\n",
            "\u001b[2K     \u001b[90m━━━━━━━━━━━━━━━━━━━━━━━━━━━━━━━━━━━━━━━━\u001b[0m \u001b[32m61.9/61.9 kB\u001b[0m \u001b[31m1.7 MB/s\u001b[0m eta \u001b[36m0:00:00\u001b[0m\n",
            "\u001b[?25hRequirement already satisfied: numpy<2.6,>=1.25.2 in /usr/local/lib/python3.11/dist-packages (from scipy) (2.0.2)\n",
            "Downloading scipy-1.16.0-cp311-cp311-manylinux2014_x86_64.manylinux_2_17_x86_64.whl (35.3 MB)\n",
            "\u001b[2K   \u001b[90m━━━━━━━━━━━━━━━━━━━━━━━━━━━━━━━━━━━━━━━━\u001b[0m \u001b[32m35.3/35.3 MB\u001b[0m \u001b[31m52.4 MB/s\u001b[0m eta \u001b[36m0:00:00\u001b[0m\n",
            "\u001b[?25hInstalling collected packages: scipy\n",
            "  Attempting uninstall: scipy\n",
            "    Found existing installation: scipy 1.15.3\n",
            "    Uninstalling scipy-1.15.3:\n",
            "      Successfully uninstalled scipy-1.15.3\n",
            "Successfully installed scipy-1.16.0\n"
          ]
        },
        {
          "output_type": "display_data",
          "data": {
            "application/vnd.colab-display-data+json": {
              "pip_warning": {
                "packages": [
                  "scipy"
                ]
              },
              "id": "abeac295692c4ee4b372c79e1955e0e4"
            }
          },
          "metadata": {}
        }
      ]
    },
    {
      "cell_type": "code",
      "source": [
        "scipy.__version__"
      ],
      "metadata": {
        "colab": {
          "base_uri": "https://localhost:8080/",
          "height": 36
        },
        "id": "TXIqWWBjTY4o",
        "outputId": "877b1580-68bc-4541-d2e2-5da1566140c3"
      },
      "execution_count": 6,
      "outputs": [
        {
          "output_type": "execute_result",
          "data": {
            "text/plain": [
              "'1.16.0'"
            ],
            "application/vnd.google.colaboratory.intrinsic+json": {
              "type": "string"
            }
          },
          "metadata": {},
          "execution_count": 6
        }
      ]
    },
    {
      "cell_type": "markdown",
      "source": [
        "🌟 Exercise 2: Descriptive Statistics"
      ],
      "metadata": {
        "id": "7hhtLszsQLzc"
      }
    },
    {
      "cell_type": "code",
      "source": [
        "from scipy import stats"
      ],
      "metadata": {
        "id": "wymODHJVRQ-f"
      },
      "execution_count": 7,
      "outputs": []
    },
    {
      "cell_type": "code",
      "source": [
        "data = [12, 15, 13, 12, 18, 20, 22, 21]\n",
        "\n",
        "mean = stats.tmean(data)\n",
        "median = np.median(data)\n",
        "std_dev = stats.tstd(data)\n",
        "\n",
        "print(\"Mean:\", mean)\n",
        "print(\"Median:\", median)\n",
        "print(\"Standard Deviation:\", std_dev)"
      ],
      "metadata": {
        "colab": {
          "base_uri": "https://localhost:8080/"
        },
        "id": "Wtx5_tU4QMhC",
        "outputId": "179e4200-8950-464e-b1e6-21079b018ec9"
      },
      "execution_count": 12,
      "outputs": [
        {
          "output_type": "stream",
          "name": "stdout",
          "text": [
            "Mean: 16.625\n",
            "Median: 16.5\n",
            "Standard Deviation: 4.138236339311712\n"
          ]
        }
      ]
    },
    {
      "cell_type": "markdown",
      "source": [
        "🌟 Exercise 3: Understanding Distributions"
      ],
      "metadata": {
        "id": "vtQAMOoIUe0K"
      }
    },
    {
      "cell_type": "code",
      "source": [
        "norm_dist = stats.norm(50, 10)\n",
        "x = np.linspace(norm_dist.ppf(0.01), norm_dist.ppf(0.99), 100)\n",
        "y = norm_dist.pdf(x)\n",
        "plt.figure(figsize=(10, 10))\n",
        "plt.plot(x, y, label='Normal Distribution')\n",
        "plt.xlabel('valeurs')\n",
        "plt.ylabel('Densité de probabilité')\n",
        "plt.show()"
      ],
      "metadata": {
        "colab": {
          "base_uri": "https://localhost:8080/",
          "height": 850
        },
        "id": "-kjG8rysUi_a",
        "outputId": "59f3b66c-71f9-4be1-eadd-01766c07b728"
      },
      "execution_count": 16,
      "outputs": [
        {
          "output_type": "display_data",
          "data": {
            "text/plain": [
              "<Figure size 1000x1000 with 1 Axes>"
            ],
            "image/png": "[encoded data removed]"
          },
          "metadata": {}
        }
      ]
    },
    {
      "cell_type": "markdown",
      "source": [
        "🌟 Exercise 4: T-Test Application"
      ],
      "metadata": {
        "id": "B4Bm0oWdYzq6"
      }
    },
    {
      "cell_type": "code",
      "source": [
        "data1 = np.random.normal(50, 10, 100)\n",
        "data2 = np.random.normal(60, 10, 100)\n",
        "\n",
        "\n",
        "t_statistic, p_value = stats.ttest_ind(data1, data2)\n",
        "\n",
        "alpha = 0.05\n",
        "critical_value = stats.t.ppf(1  - alpha / 2, df=len(data1) + len(data2) - 2)\n",
        "\n",
        "if abs(t_statistic) > critical_value and p_value < alpha :\n",
        "    print(\"The difference is statistically significant.\")\n",
        "else:\n",
        "    print(\"The difference is not statistically significant.\")"
      ],
      "metadata": {
        "colab": {
          "base_uri": "https://localhost:8080/"
        },
        "id": "U4EM9GqDY3Yf",
        "outputId": "03b87c8c-efb3-4239-fa86-2c30c7100ffb"
      },
      "execution_count": 22,
      "outputs": [
        {
          "output_type": "stream",
          "name": "stdout",
          "text": [
            "The difference is statistically significant.\n"
          ]
        }
      ]
    },
    {
      "cell_type": "markdown",
      "source": [
        "🌟 Exercise 5: Linear Regression Analysis"
      ],
      "metadata": {
        "id": "h3APIPOadGJQ"
      }
    },
    {
      "cell_type": "code",
      "source": [
        "house_sizes = np.array([50, 70, 80, 100, 120])\n",
        "house_prices = np.array([150.000, 200.000, 210.000, 250.000, 280.000])\n",
        "\n",
        "slope, intercept, r_value, p_value, std_err = stats.linregress(house_sizes, house_prices)\n",
        "\n",
        "print(\"Slope:\", slope)\n",
        "print(\"Intercept:\", intercept)"
      ],
      "metadata": {
        "colab": {
          "base_uri": "https://localhost:8080/"
        },
        "id": "gI8HUmYZdJTe",
        "outputId": "44fa2db9-5e10-4520-e7fd-0df3f7b9c640"
      },
      "execution_count": 27,
      "outputs": [
        {
          "output_type": "stream",
          "name": "stdout",
          "text": [
            "Slope: 1.8287671232876712\n",
            "Intercept: 64.3835616438356\n"
          ]
        }
      ]
    },
    {
      "cell_type": "code",
      "source": [
        "price_90 = slope * 90 + intercept\n",
        "print(f\"Prix d'une maison de 90 m²: {price_90} k€\")"
      ],
      "metadata": {
        "colab": {
          "base_uri": "https://localhost:8080/"
        },
        "id": "1WVMuNSbjV0t",
        "outputId": "f4991e9b-ad2e-4c22-a494-ac5b0003792f"
      },
      "execution_count": 30,
      "outputs": [
        {
          "output_type": "stream",
          "name": "stdout",
          "text": [
            "Prix d'une maison de 90 m²: 228.97260273972603 k€\n"
          ]
        }
      ]
    },
    {
      "cell_type": "markdown",
      "source": [
        "The slope represents the increase in price for each additional square meter of surface area."
      ],
      "metadata": {
        "id": "OJokSX59kH3C"
      }
    },
    {
      "cell_type": "markdown",
      "source": [
        "🌟 Exercise 6: Understanding ANOVA"
      ],
      "metadata": {
        "id": "C52fnYzBkgAu"
      }
    },
    {
      "cell_type": "code",
      "source": [
        "from scipy.stats import f_oneway"
      ],
      "metadata": {
        "id": "Ss4VQPEAkx2B"
      },
      "execution_count": 31,
      "outputs": []
    },
    {
      "cell_type": "code",
      "source": [
        "fertilizer_1 = [5, 6, 7, 6, 5]\n",
        "fertilizer_2 = [7, 8, 7, 9, 8]\n",
        "fertilizer_3 = [4, 5, 4, 3, 4]\n",
        "\n",
        "F = f_oneway(fertilizer_1, fertilizer_2, fertilizer_3)"
      ],
      "metadata": {
        "id": "9mYEx9NzkfKQ"
      },
      "execution_count": 35,
      "outputs": []
    },
    {
      "cell_type": "code",
      "source": [
        "F.pvalue"
      ],
      "metadata": {
        "colab": {
          "base_uri": "https://localhost:8080/"
        },
        "id": "kEw9noSIlI2u",
        "outputId": "ecc59feb-1f4d-404c-e8a6-25c026284fe6"
      },
      "execution_count": 36,
      "outputs": [
        {
          "output_type": "execute_result",
          "data": {
            "text/plain": [
              "np.float64(2.754267209804844e-05)"
            ]
          },
          "metadata": {},
          "execution_count": 36
        }
      ]
    },
    {
      "cell_type": "code",
      "source": [
        "F.statistic"
      ],
      "metadata": {
        "colab": {
          "base_uri": "https://localhost:8080/"
        },
        "id": "8rAQtypglLSe",
        "outputId": "6620adb2-c022-42ef-b79f-75a026f4ad4e"
      },
      "execution_count": 37,
      "outputs": [
        {
          "output_type": "execute_result",
          "data": {
            "text/plain": [
              "np.float64(28.52631578947368)"
            ]
          },
          "metadata": {},
          "execution_count": 37
        }
      ]
    },
    {
      "cell_type": "markdown",
      "source": [
        "Since the P-value < 0.05, we reject the null hypothesis. This means there is a statistically significant difference in the effects of the three fertilizers on plant growth"
      ],
      "metadata": {
        "id": "yyJJqLxBqAjj"
      }
    },
    {
      "cell_type": "markdown",
      "source": [
        "If the P-value > 0.05, we would fail to reject the null hypothesis, suggesting that the differences in plant growth between the fertilizers are not statistically significant. In other words, we would conclude that the fertilizers likely have similar effects on growth."
      ],
      "metadata": {
        "id": "PheDi3gDqIk_"
      }
    }
  ]
}