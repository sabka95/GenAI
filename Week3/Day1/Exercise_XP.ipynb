{
  "nbformat": 4,
  "nbformat_minor": 0,
  "metadata": {
    "colab": {
      "provenance": []
    },
    "kernelspec": {
      "name": "python3",
      "display_name": "Python 3"
    },
    "language_info": {
      "name": "python"
    }
  },
  "cells": [
    {
      "cell_type": "code",
      "execution_count": 11,
      "metadata": {
        "colab": {
          "base_uri": "https://localhost:8080/"
        },
        "id": "YpSWxMEt1Z6g",
        "outputId": "2ccce13c-b226-408c-eb39-8197cdda438f"
      },
      "outputs": [
        {
          "output_type": "stream",
          "name": "stdout",
          "text": [
            "Drive already mounted at /content/drive; to attempt to forcibly remount, call drive.mount(\"/content/drive\", force_remount=True).\n"
          ]
        }
      ],
      "source": [
        "from google.colab import drive\n",
        "drive.mount('/content/drive')"
      ]
    },
    {
      "cell_type": "markdown",
      "source": [
        "🌟 Exercise 1 : Array Creation and Manipulation"
      ],
      "metadata": {
        "id": "Jxjs4nct1z19"
      }
    },
    {
      "cell_type": "code",
      "source": [
        "import numpy as np"
      ],
      "metadata": {
        "id": "X6QY2YYM1-zW"
      },
      "execution_count": 12,
      "outputs": []
    },
    {
      "cell_type": "code",
      "source": [
        "array_1D = np.arange(10)\n",
        "array_1D"
      ],
      "metadata": {
        "colab": {
          "base_uri": "https://localhost:8080/"
        },
        "id": "DbvOnhde15BU",
        "outputId": "5264d8ae-f91e-47b3-d248-64c8fe1993a5"
      },
      "execution_count": 13,
      "outputs": [
        {
          "output_type": "execute_result",
          "data": {
            "text/plain": [
              "array([0, 1, 2, 3, 4, 5, 6, 7, 8, 9])"
            ]
          },
          "metadata": {},
          "execution_count": 13
        }
      ]
    },
    {
      "cell_type": "markdown",
      "source": [
        "🌟 Exercise 2 : Type Conversion and Array Operations"
      ],
      "metadata": {
        "id": "Dg77PqXK2PMn"
      }
    },
    {
      "cell_type": "code",
      "source": [
        "liste = [3.14, 2.17, 0, 1, 2]\n",
        "array = np.array(liste)\n",
        "array"
      ],
      "metadata": {
        "colab": {
          "base_uri": "https://localhost:8080/"
        },
        "id": "jmDFDlZT2RU_",
        "outputId": "662cc90c-5c7c-4469-c91e-593b5ee10ab8"
      },
      "execution_count": 14,
      "outputs": [
        {
          "output_type": "execute_result",
          "data": {
            "text/plain": [
              "array([3.14, 2.17, 0.  , 1.  , 2.  ])"
            ]
          },
          "metadata": {},
          "execution_count": 14
        }
      ]
    },
    {
      "cell_type": "markdown",
      "source": [
        "🌟 Exercise 3 : Working with Multi-Dimensional Arrays"
      ],
      "metadata": {
        "id": "_yp7qRM62eFI"
      }
    },
    {
      "cell_type": "code",
      "source": [
        "array_2D = np.array([range(1,4), range(4,7), range(7, 10)])\n",
        "array_2D"
      ],
      "metadata": {
        "colab": {
          "base_uri": "https://localhost:8080/"
        },
        "id": "fICQwooj2gos",
        "outputId": "76964966-afea-4861-cff9-99baaadd579c"
      },
      "execution_count": 15,
      "outputs": [
        {
          "output_type": "execute_result",
          "data": {
            "text/plain": [
              "array([[1, 2, 3],\n",
              "       [4, 5, 6],\n",
              "       [7, 8, 9]])"
            ]
          },
          "metadata": {},
          "execution_count": 15
        }
      ]
    },
    {
      "cell_type": "markdown",
      "source": [
        "🌟 Exercise 4 : Creating Multi-Dimensional Array with Random Numbers"
      ],
      "metadata": {
        "id": "kM87xXsj3Ns8"
      }
    },
    {
      "cell_type": "code",
      "source": [
        "random_array = np.random.rand(4, 5)\n",
        "random_array"
      ],
      "metadata": {
        "colab": {
          "base_uri": "https://localhost:8080/"
        },
        "id": "_aaUKLCe3Pnn",
        "outputId": "1415753b-fb79-4792-9ecc-80ad06b9a4e3"
      },
      "execution_count": 16,
      "outputs": [
        {
          "output_type": "execute_result",
          "data": {
            "text/plain": [
              "array([[0.93560099, 0.84353632, 0.96029729, 0.49674404, 0.85550439],\n",
              "       [0.35866189, 0.20622805, 0.11500672, 0.8043844 , 0.56570291],\n",
              "       [0.45107222, 0.07795584, 0.01542397, 0.31440486, 0.98863347],\n",
              "       [0.78084323, 0.62221312, 0.52281333, 0.79110227, 0.027832  ]])"
            ]
          },
          "metadata": {},
          "execution_count": 16
        }
      ]
    },
    {
      "cell_type": "markdown",
      "source": [
        "🌟 Exercise 5 : Indexing Arrays"
      ],
      "metadata": {
        "id": "ISSZwOWf3eXH"
      }
    },
    {
      "cell_type": "code",
      "source": [
        "array_2D[1]"
      ],
      "metadata": {
        "colab": {
          "base_uri": "https://localhost:8080/"
        },
        "id": "2nk37WXl35nR",
        "outputId": "0cb98db9-a81c-4bc3-af3f-c29d114c571b"
      },
      "execution_count": 17,
      "outputs": [
        {
          "output_type": "execute_result",
          "data": {
            "text/plain": [
              "array([4, 5, 6])"
            ]
          },
          "metadata": {},
          "execution_count": 17
        }
      ]
    },
    {
      "cell_type": "markdown",
      "source": [
        "🌟 Exercise 6 : Reversing elements"
      ],
      "metadata": {
        "id": "ReIcuHoP4FJH"
      }
    },
    {
      "cell_type": "code",
      "source": [
        "reversed_array = array_1D[::-1]\n",
        "reversed_array"
      ],
      "metadata": {
        "colab": {
          "base_uri": "https://localhost:8080/"
        },
        "id": "RCqZsFQ24GzP",
        "outputId": "1069f933-5a08-4ff4-ab16-4a21611c6f64"
      },
      "execution_count": 25,
      "outputs": [
        {
          "output_type": "execute_result",
          "data": {
            "text/plain": [
              "array([9, 8, 7, 6, 5, 4, 3, 2, 1, 0])"
            ]
          },
          "metadata": {},
          "execution_count": 25
        }
      ]
    },
    {
      "cell_type": "markdown",
      "source": [
        "🌟 Exercise 7 : Identity Matrix"
      ],
      "metadata": {
        "id": "4UmkA5O54r3I"
      }
    },
    {
      "cell_type": "code",
      "source": [
        "identity_matrix = np.eye(4)\n",
        "identity_matrix"
      ],
      "metadata": {
        "colab": {
          "base_uri": "https://localhost:8080/"
        },
        "id": "LF6_Xhon4uy4",
        "outputId": "483d82df-0065-455a-aaac-2bfa59f24fe4"
      },
      "execution_count": 19,
      "outputs": [
        {
          "output_type": "execute_result",
          "data": {
            "text/plain": [
              "array([[1., 0., 0., 0.],\n",
              "       [0., 1., 0., 0.],\n",
              "       [0., 0., 1., 0.],\n",
              "       [0., 0., 0., 1.]])"
            ]
          },
          "metadata": {},
          "execution_count": 19
        }
      ]
    },
    {
      "cell_type": "markdown",
      "source": [
        "🌟 Exercise 8 : Simple Aggregate Funcs"
      ],
      "metadata": {
        "id": "MTUFAP8E45jR"
      }
    },
    {
      "cell_type": "code",
      "source": [
        "array_1D_sum = array_1D.sum()\n",
        "array_1D_mean = array_1D.mean()\n",
        "print(f\"Sum: {array_1D_sum}, Average: {array_1D_mean}\")"
      ],
      "metadata": {
        "colab": {
          "base_uri": "https://localhost:8080/"
        },
        "id": "myKRQDor47pG",
        "outputId": "0de99936-42f2-42af-faf5-c5e98ee3619a"
      },
      "execution_count": 20,
      "outputs": [
        {
          "output_type": "stream",
          "name": "stdout",
          "text": [
            "Sum: 45, Average: 4.5\n"
          ]
        }
      ]
    },
    {
      "cell_type": "markdown",
      "source": [
        "🌟 Exercise 9 : Create Array and Change its Structure"
      ],
      "metadata": {
        "id": "G28C6kUa5ku6"
      }
    },
    {
      "cell_type": "code",
      "source": [
        "reshaped_array = np.arange(1,21).reshape(4,5)\n",
        "reshaped_array"
      ],
      "metadata": {
        "colab": {
          "base_uri": "https://localhost:8080/"
        },
        "id": "p_eE49dn5oCk",
        "outputId": "8339a669-33c2-4a11-f30f-3b7e4349fc00"
      },
      "execution_count": 21,
      "outputs": [
        {
          "output_type": "execute_result",
          "data": {
            "text/plain": [
              "array([[ 1,  2,  3,  4,  5],\n",
              "       [ 6,  7,  8,  9, 10],\n",
              "       [11, 12, 13, 14, 15],\n",
              "       [16, 17, 18, 19, 20]])"
            ]
          },
          "metadata": {},
          "execution_count": 21
        }
      ]
    },
    {
      "cell_type": "markdown",
      "source": [
        "🌟 Exercise 10 : Conditional Selection of Values"
      ],
      "metadata": {
        "id": "zcS5C1-T6FNE"
      }
    },
    {
      "cell_type": "code",
      "source": [
        "odd_number = array_1D[1::2]\n",
        "odd_number"
      ],
      "metadata": {
        "colab": {
          "base_uri": "https://localhost:8080/"
        },
        "id": "A8US4SSj6IMN",
        "outputId": "ca34ddf9-b043-4dd3-906d-232f81459a9f"
      },
      "execution_count": 26,
      "outputs": [
        {
          "output_type": "execute_result",
          "data": {
            "text/plain": [
              "array([1, 3, 5, 7, 9])"
            ]
          },
          "metadata": {},
          "execution_count": 26
        }
      ]
    }
  ]
}