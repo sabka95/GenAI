{
  "nbformat": 4,
  "nbformat_minor": 0,
  "metadata": {
    "colab": {
      "provenance": []
    },
    "kernelspec": {
      "name": "python3",
      "display_name": "Python 3"
    },
    "language_info": {
      "name": "python"
    }
  },
  "cells": [
    {
      "cell_type": "code",
      "execution_count": 1,
      "metadata": {
        "colab": {
          "base_uri": "https://localhost:8080/"
        },
        "id": "YpSWxMEt1Z6g",
        "outputId": "682da609-b70c-4bb2-f68e-72802043c181"
      },
      "outputs": [
        {
          "output_type": "stream",
          "name": "stdout",
          "text": [
            "Mounted at /content/drive\n"
          ]
        }
      ],
      "source": [
        "from google.colab import drive\n",
        "drive.mount('/content/drive')"
      ]
    },
    {
      "cell_type": "markdown",
      "source": [
        "🌟 Exercise 1 : Array Creation and Manipulation"
      ],
      "metadata": {
        "id": "Jxjs4nct1z19"
      }
    },
    {
      "cell_type": "code",
      "source": [
        "import numpy as np"
      ],
      "metadata": {
        "id": "X6QY2YYM1-zW"
      },
      "execution_count": 2,
      "outputs": []
    },
    {
      "cell_type": "code",
      "source": [
        "array_1D = np.array(range(10))\n",
        "array_1D"
      ],
      "metadata": {
        "colab": {
          "base_uri": "https://localhost:8080/"
        },
        "id": "DbvOnhde15BU",
        "outputId": "113c90be-8c96-4eae-f9c5-9fead39d0da5"
      },
      "execution_count": 3,
      "outputs": [
        {
          "output_type": "execute_result",
          "data": {
            "text/plain": [
              "array([0, 1, 2, 3, 4, 5, 6, 7, 8, 9])"
            ]
          },
          "metadata": {},
          "execution_count": 3
        }
      ]
    },
    {
      "cell_type": "markdown",
      "source": [
        "🌟 Exercise 2 : Type Conversion and Array Operations"
      ],
      "metadata": {
        "id": "Dg77PqXK2PMn"
      }
    },
    {
      "cell_type": "code",
      "source": [
        "liste = [3.14, 2.17, 0, 1, 2]\n",
        "array = np.array(liste)\n",
        "array"
      ],
      "metadata": {
        "colab": {
          "base_uri": "https://localhost:8080/"
        },
        "id": "jmDFDlZT2RU_",
        "outputId": "419165a3-f0c3-4dda-bd27-9717e9b83ee0"
      },
      "execution_count": 4,
      "outputs": [
        {
          "output_type": "execute_result",
          "data": {
            "text/plain": [
              "array([3.14, 2.17, 0.  , 1.  , 2.  ])"
            ]
          },
          "metadata": {},
          "execution_count": 4
        }
      ]
    },
    {
      "cell_type": "markdown",
      "source": [
        "🌟 Exercise 3 : Working with Multi-Dimensional Arrays"
      ],
      "metadata": {
        "id": "_yp7qRM62eFI"
      }
    },
    {
      "cell_type": "code",
      "source": [
        "array_2D = np.array([range(1,4), range(4,7), range(7, 10)])\n",
        "array_2D"
      ],
      "metadata": {
        "colab": {
          "base_uri": "https://localhost:8080/"
        },
        "id": "fICQwooj2gos",
        "outputId": "bf14e074-989f-47f9-8828-4a13df28cc2e"
      },
      "execution_count": 5,
      "outputs": [
        {
          "output_type": "execute_result",
          "data": {
            "text/plain": [
              "array([[1, 2, 3],\n",
              "       [4, 5, 6],\n",
              "       [7, 8, 9]])"
            ]
          },
          "metadata": {},
          "execution_count": 5
        }
      ]
    },
    {
      "cell_type": "markdown",
      "source": [
        "🌟 Exercise 4 : Creating Multi-Dimensional Array with Random Numbers"
      ],
      "metadata": {
        "id": "kM87xXsj3Ns8"
      }
    },
    {
      "cell_type": "code",
      "source": [
        "random_array = np.random.rand(4, 5)\n",
        "random_array"
      ],
      "metadata": {
        "colab": {
          "base_uri": "https://localhost:8080/"
        },
        "id": "_aaUKLCe3Pnn",
        "outputId": "248b3cb8-65d4-4e79-e043-e3b884bbe777"
      },
      "execution_count": 6,
      "outputs": [
        {
          "output_type": "execute_result",
          "data": {
            "text/plain": [
              "array([[0.94747283, 0.63768853, 0.54852132, 0.91544908, 0.61947696],\n",
              "       [0.37866857, 0.11272076, 0.70187741, 0.87384491, 0.33052865],\n",
              "       [0.36513232, 0.50638035, 0.39805128, 0.80233256, 0.52311215],\n",
              "       [0.87306676, 0.44747518, 0.06622939, 0.89228048, 0.17022073]])"
            ]
          },
          "metadata": {},
          "execution_count": 6
        }
      ]
    },
    {
      "cell_type": "markdown",
      "source": [
        "🌟 Exercise 5 : Indexing Arrays"
      ],
      "metadata": {
        "id": "ISSZwOWf3eXH"
      }
    },
    {
      "cell_type": "code",
      "source": [
        "array_2D[1]"
      ],
      "metadata": {
        "colab": {
          "base_uri": "https://localhost:8080/"
        },
        "id": "2nk37WXl35nR",
        "outputId": "6c2fb038-4336-4868-c27c-e8a3830a90a3"
      },
      "execution_count": 7,
      "outputs": [
        {
          "output_type": "execute_result",
          "data": {
            "text/plain": [
              "array([4, 5, 6])"
            ]
          },
          "metadata": {},
          "execution_count": 7
        }
      ]
    },
    {
      "cell_type": "markdown",
      "source": [
        "🌟 Exercise 6 : Reversing elements"
      ],
      "metadata": {
        "id": "ReIcuHoP4FJH"
      }
    },
    {
      "cell_type": "code",
      "source": [
        "reversed_array = array_1D[::-1]\n",
        "reversed_array"
      ],
      "metadata": {
        "colab": {
          "base_uri": "https://localhost:8080/"
        },
        "id": "RCqZsFQ24GzP",
        "outputId": "d3b5b757-b9d7-4fc4-bfb7-7df6cb257896"
      },
      "execution_count": 8,
      "outputs": [
        {
          "output_type": "execute_result",
          "data": {
            "text/plain": [
              "array([9, 8, 7, 6, 5, 4, 3, 2, 1, 0])"
            ]
          },
          "metadata": {},
          "execution_count": 8
        }
      ]
    },
    {
      "cell_type": "markdown",
      "source": [
        "🌟 Exercise 7 : Identity Matrix"
      ],
      "metadata": {
        "id": "4UmkA5O54r3I"
      }
    },
    {
      "cell_type": "code",
      "source": [
        "identity_matrix = np.eye(4)\n",
        "identity_matrix"
      ],
      "metadata": {
        "colab": {
          "base_uri": "https://localhost:8080/"
        },
        "id": "LF6_Xhon4uy4",
        "outputId": "3c79f570-f1a8-4c27-930d-7f7db2f5a0d6"
      },
      "execution_count": 9,
      "outputs": [
        {
          "output_type": "execute_result",
          "data": {
            "text/plain": [
              "array([[1., 0., 0., 0.],\n",
              "       [0., 1., 0., 0.],\n",
              "       [0., 0., 1., 0.],\n",
              "       [0., 0., 0., 1.]])"
            ]
          },
          "metadata": {},
          "execution_count": 9
        }
      ]
    },
    {
      "cell_type": "markdown",
      "source": [
        "🌟 Exercise 8 : Simple Aggregate Funcs"
      ],
      "metadata": {
        "id": "MTUFAP8E45jR"
      }
    },
    {
      "cell_type": "code",
      "source": [
        "array_1D_sum = array_1D.sum()\n",
        "array_1D_mean = array_1D.mean()\n",
        "print(f\"Sum: {array_1D_sum}, Average: {array_1D_mean}\")"
      ],
      "metadata": {
        "colab": {
          "base_uri": "https://localhost:8080/"
        },
        "id": "myKRQDor47pG",
        "outputId": "1447405d-74fa-44cb-d66a-e40c303c3a62"
      },
      "execution_count": 10,
      "outputs": [
        {
          "output_type": "stream",
          "name": "stdout",
          "text": [
            "Sum: 45, Average: 4.5\n"
          ]
        }
      ]
    },
    {
      "cell_type": "markdown",
      "source": [
        "🌟 Exercise 9 : Create Array and Change its Structure"
      ],
      "metadata": {
        "id": "G28C6kUa5ku6"
      }
    },
    {
      "cell_type": "code",
      "source": [
        "reshaped_array = np.array(range(1,21)).reshape(4,5)\n",
        "reshaped_array"
      ],
      "metadata": {
        "colab": {
          "base_uri": "https://localhost:8080/"
        },
        "id": "p_eE49dn5oCk",
        "outputId": "20de2431-58bd-4ba5-be81-be8fd794584b"
      },
      "execution_count": 11,
      "outputs": [
        {
          "output_type": "execute_result",
          "data": {
            "text/plain": [
              "array([[ 1,  2,  3,  4,  5],\n",
              "       [ 6,  7,  8,  9, 10],\n",
              "       [11, 12, 13, 14, 15],\n",
              "       [16, 17, 18, 19, 20]])"
            ]
          },
          "metadata": {},
          "execution_count": 11
        }
      ]
    },
    {
      "cell_type": "markdown",
      "source": [
        "🌟 Exercise 10 : Conditional Selection of Values"
      ],
      "metadata": {
        "id": "zcS5C1-T6FNE"
      }
    },
    {
      "cell_type": "code",
      "source": [
        "odd_number = array_1D[1::2]\n",
        "odd_number"
      ],
      "metadata": {
        "colab": {
          "base_uri": "https://localhost:8080/"
        },
        "id": "A8US4SSj6IMN",
        "outputId": "8cce73ab-d81c-4881-faaf-273c308c8d3d"
      },
      "execution_count": 16,
      "outputs": [
        {
          "output_type": "execute_result",
          "data": {
            "text/plain": [
              "array([1, 3, 5, 7, 9])"
            ]
          },
          "metadata": {},
          "execution_count": 16
        }
      ]
    }
  ]
}