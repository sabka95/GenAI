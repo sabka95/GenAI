{
  "nbformat": 4,
  "nbformat_minor": 0,
  "metadata": {
    "colab": {
      "provenance": []
    },
    "kernelspec": {
      "name": "python3",
      "display_name": "Python 3"
    },
    "language_info": {
      "name": "python"
    }
  },
  "cells": [
    {
      "cell_type": "code",
      "execution_count": 1,
      "metadata": {
        "colab": {
          "base_uri": "https://localhost:8080/"
        },
        "id": "wOgOb3WdmZ24",
        "outputId": "04be5531-3ced-4e0b-f875-1e5a6f9125f1"
      },
      "outputs": [
        {
          "output_type": "stream",
          "name": "stdout",
          "text": [
            "{'history': \"Human: Hello, how are you?\\nAI: I'm fine, thank you. How can I assist you today?\\nHuman: Tell me a joke.\\nAI: Why did the chicken cross the road? To get to the other side.\"}\n"
          ]
        },
        {
          "output_type": "stream",
          "name": "stderr",
          "text": [
            "/tmp/ipython-input-2191200574.py:5: LangChainDeprecationWarning: Please see the migration guide at: https://python.langchain.com/docs/versions/migrating_memory/\n",
            "  memory = ConversationBufferMemory()\n"
          ]
        }
      ],
      "source": [
        "# 1. Import the Memory Module\n",
        "from langchain.memory import ConversationBufferMemory\n",
        "\n",
        "# 2. Initialize the Memory\n",
        "memory = ConversationBufferMemory()\n",
        "\n",
        "# 3. Simulate a First Interaction\n",
        "memory.save_context(\n",
        "    {\"input\": \"Hello, how are you?\"},\n",
        "    {\"output\": \"I'm fine, thank you. How can I assist you today?\"}\n",
        ")\n",
        "\n",
        "# 4. Simulate a Follow-up Message\n",
        "memory.save_context(\n",
        "    {\"input\": \"Tell me a joke.\"},\n",
        "    {\"output\": \"Why did the chicken cross the road? To get to the other side.\"}\n",
        ")\n",
        "\n",
        "# 5. Retrieve the Conversation History\n",
        "conversation_history = memory.load_memory_variables({})\n",
        "print(conversation_history)\n"
      ]
    }
  ]
}