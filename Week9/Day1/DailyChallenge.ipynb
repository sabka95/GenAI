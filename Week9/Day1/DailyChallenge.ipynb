{
  "nbformat": 4,
  "nbformat_minor": 0,
  "metadata": {
    "colab": {
      "provenance": []
    },
    "kernelspec": {
      "name": "python3",
      "display_name": "Python 3"
    },
    "language_info": {
      "name": "python"
    }
  },
  "cells": [
    {
      "cell_type": "markdown",
      "source": [
        "# **Step 1: Craft a Prompt That Controls Output Tone, Format, and Length**"
      ],
      "metadata": {
        "id": "Nwj_uFR8N6lh"
      }
    },
    {
      "cell_type": "markdown",
      "source": [
        "**Prompt:**\n",
        "Rewrite the following policy update in a friendly, clear tone for employees. Use bullet points to organize the information. Paraphrase the text instead of quoting it directly. Keep the total length under 75 words."
      ],
      "metadata": {
        "id": "q6vnOBhaNvl0"
      }
    },
    {
      "cell_type": "markdown",
      "source": [
        "# **Answer:**\n",
        "🔒 Working Securely from Anywhere\n",
        "\n",
        "* Always connect to company systems using the approved VPN.\n",
        "\n",
        "* Avoid logging in through public or unsecured networks.\n",
        "\n",
        "* Only use work-approved devices with security protection enabled.\n",
        "\n",
        "* This keeps our data and communications safe."
      ],
      "metadata": {
        "id": "qDZbOPCFOqxj"
      }
    },
    {
      "cell_type": "markdown",
      "source": [
        "# **Step 2: Evaluate the Output**"
      ],
      "metadata": {
        "id": "i43vNJDrOGGb"
      }
    },
    {
      "cell_type": "markdown",
      "source": [
        "# **Evaluation:**\n",
        "\n",
        "**Relevance**\n",
        "\n",
        "✔ Focuses only on VPN use, secure connections, and protected devices — exactly what the original policy said.\n",
        "\n",
        "**Clarity**\n",
        "\n",
        "✔ Jargon is removed, phrasing is simple and friendly.\n",
        "\n",
        "✔ Non-technical employees can easily follow.\n",
        "\n",
        "**Structure**\n",
        "\n",
        "✔ Clearly formatted into four short bullet points with a header.\n",
        "\n",
        "**Tone**\n",
        "\n",
        "✔ Friendly, encouraging tone.\n",
        "\n",
        "✔ Appropriate for an internal newsletter.\n",
        "\n",
        "**Length**\n",
        "\n",
        "✔ 55 words — comfortably under 75.\n",
        "\n",
        "**Factual Accuracy**\n",
        "\n",
        "✔ No new details invented.\n",
        "\n",
        "✔ No important instructions removed."
      ],
      "metadata": {
        "id": "If7RNy3HOQQQ"
      }
    },
    {
      "cell_type": "markdown",
      "source": [
        "# **Step 4: Paraphrasing Deep Dive**"
      ],
      "metadata": {
        "id": "Bx2gmT7pP1Yz"
      }
    },
    {
      "cell_type": "markdown",
      "source": [
        "**Prompt:**\n",
        "Paraphrase the following policy update for junior interns. Use simple, plain language with short phrases. Avoid corporate or legal jargon. Keep the tone supportive and informative. Use no more than 4 bullet points total."
      ],
      "metadata": {
        "id": "mYmqg1psP4KP"
      }
    },
    {
      "cell_type": "markdown",
      "source": [
        "# **Step 5: Quote Extraction Variant**"
      ],
      "metadata": {
        "id": "ePLDGmx6RIEP"
      }
    },
    {
      "cell_type": "markdown",
      "source": [
        "**Prompt:**\n",
        "From the text below, extract one direct quote that best captures the core security policy. Do not paraphrase or summarize. Only return the single most important sentence as written."
      ],
      "metadata": {
        "id": "yay9EKIvRLe7"
      }
    },
    {
      "cell_type": "markdown",
      "source": [
        "Quoting is more appropriate when exact wording or authority is required, such as in compliance or HR communications.\n",
        "\n",
        "The risk of quoting is that technical or legal language may confuse readers or make the message feel unapproachable."
      ],
      "metadata": {
        "id": "FC38hMYUSlij"
      }
    }
  ]
}