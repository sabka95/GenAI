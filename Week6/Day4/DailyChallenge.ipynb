{
  "nbformat": 4,
  "nbformat_minor": 0,
  "metadata": {
    "colab": {
      "provenance": [],
      "machine_shape": "hm",
      "gpuType": "T4"
    },
    "kernelspec": {
      "name": "python3",
      "display_name": "Python 3"
    },
    "language_info": {
      "name": "python"
    },
    "accelerator": "GPU",
    "widgets": {
      "application/vnd.jupyter.widget-state+json": {
        "664c2d42434e4236aedf432182cc2f21": {
          "model_module": "@jupyter-widgets/controls",
          "model_name": "HBoxModel",
          "model_module_version": "1.5.0",
          "state": {
            "_dom_classes": [],
            "_model_module": "@jupyter-widgets/controls",
            "_model_module_version": "1.5.0",
            "_model_name": "HBoxModel",
            "_view_count": null,
            "_view_module": "@jupyter-widgets/controls",
            "_view_module_version": "1.5.0",
            "_view_name": "HBoxView",
            "box_style": "",
            "children": [
              "IPY_MODEL_5e0355af91844ce1afc05537de0ec19b",
              "IPY_MODEL_554d44d416414364b15afc38d72f7acd",
              "IPY_MODEL_12136d2c408e466385f7ae8cf711a904"
            ],
            "layout": "IPY_MODEL_ae179b8074c74f5c8b66d947a4a82f6e"
          }
        },
        "5e0355af91844ce1afc05537de0ec19b": {
          "model_module": "@jupyter-widgets/controls",
          "model_name": "HTMLModel",
          "model_module_version": "1.5.0",
          "state": {
            "_dom_classes": [],
            "_model_module": "@jupyter-widgets/controls",
            "_model_module_version": "1.5.0",
            "_model_name": "HTMLModel",
            "_view_count": null,
            "_view_module": "@jupyter-widgets/controls",
            "_view_module_version": "1.5.0",
            "_view_name": "HTMLView",
            "description": "",
            "description_tooltip": null,
            "layout": "IPY_MODEL_db6af3ab4e5a49948ff853f17b332463",
            "placeholder": "​",
            "style": "IPY_MODEL_de7b82a0501542a78dc9b7403efeef73",
            "value": "sending upsert requests: 100%"
          }
        },
        "554d44d416414364b15afc38d72f7acd": {
          "model_module": "@jupyter-widgets/controls",
          "model_name": "FloatProgressModel",
          "model_module_version": "1.5.0",
          "state": {
            "_dom_classes": [],
            "_model_module": "@jupyter-widgets/controls",
            "_model_module_version": "1.5.0",
            "_model_name": "FloatProgressModel",
            "_view_count": null,
            "_view_module": "@jupyter-widgets/controls",
            "_view_module_version": "1.5.0",
            "_view_name": "ProgressView",
            "bar_style": "success",
            "description": "",
            "description_tooltip": null,
            "layout": "IPY_MODEL_8563df46eeba4af5917b736b44eec1e6",
            "max": 100,
            "min": 0,
            "orientation": "horizontal",
            "style": "IPY_MODEL_1d4a7114afca4e6fb3640f622295233a",
            "value": 100
          }
        },
        "12136d2c408e466385f7ae8cf711a904": {
          "model_module": "@jupyter-widgets/controls",
          "model_name": "HTMLModel",
          "model_module_version": "1.5.0",
          "state": {
            "_dom_classes": [],
            "_model_module": "@jupyter-widgets/controls",
            "_model_module_version": "1.5.0",
            "_model_name": "HTMLModel",
            "_view_count": null,
            "_view_module": "@jupyter-widgets/controls",
            "_view_module_version": "1.5.0",
            "_view_name": "HTMLView",
            "description": "",
            "description_tooltip": null,
            "layout": "IPY_MODEL_7e4f05dff02e41c08b530dbbb47096c8",
            "placeholder": "​",
            "style": "IPY_MODEL_ed864b6427034459945f85c1081b079c",
            "value": " 100/100 [05:10&lt;00:00, 192.25it/s]"
          }
        },
        "ae179b8074c74f5c8b66d947a4a82f6e": {
          "model_module": "@jupyter-widgets/base",
          "model_name": "LayoutModel",
          "model_module_version": "1.2.0",
          "state": {
            "_model_module": "@jupyter-widgets/base",
            "_model_module_version": "1.2.0",
            "_model_name": "LayoutModel",
            "_view_count": null,
            "_view_module": "@jupyter-widgets/base",
            "_view_module_version": "1.2.0",
            "_view_name": "LayoutView",
            "align_content": null,
            "align_items": null,
            "align_self": null,
            "border": null,
            "bottom": null,
            "display": null,
            "flex": null,
            "flex_flow": null,
            "grid_area": null,
            "grid_auto_columns": null,
            "grid_auto_flow": null,
            "grid_auto_rows": null,
            "grid_column": null,
            "grid_gap": null,
            "grid_row": null,
            "grid_template_areas": null,
            "grid_template_columns": null,
            "grid_template_rows": null,
            "height": null,
            "justify_content": null,
            "justify_items": null,
            "left": null,
            "margin": null,
            "max_height": null,
            "max_width": null,
            "min_height": null,
            "min_width": null,
            "object_fit": null,
            "object_position": null,
            "order": null,
            "overflow": null,
            "overflow_x": null,
            "overflow_y": null,
            "padding": null,
            "right": null,
            "top": null,
            "visibility": null,
            "width": null
          }
        },
        "db6af3ab4e5a49948ff853f17b332463": {
          "model_module": "@jupyter-widgets/base",
          "model_name": "LayoutModel",
          "model_module_version": "1.2.0",
          "state": {
            "_model_module": "@jupyter-widgets/base",
            "_model_module_version": "1.2.0",
            "_model_name": "LayoutModel",
            "_view_count": null,
            "_view_module": "@jupyter-widgets/base",
            "_view_module_version": "1.2.0",
            "_view_name": "LayoutView",
            "align_content": null,
            "align_items": null,
            "align_self": null,
            "border": null,
            "bottom": null,
            "display": null,
            "flex": null,
            "flex_flow": null,
            "grid_area": null,
            "grid_auto_columns": null,
            "grid_auto_flow": null,
            "grid_auto_rows": null,
            "grid_column": null,
            "grid_gap": null,
            "grid_row": null,
            "grid_template_areas": null,
            "grid_template_columns": null,
            "grid_template_rows": null,
            "height": null,
            "justify_content": null,
            "justify_items": null,
            "left": null,
            "margin": null,
            "max_height": null,
            "max_width": null,
            "min_height": null,
            "min_width": null,
            "object_fit": null,
            "object_position": null,
            "order": null,
            "overflow": null,
            "overflow_x": null,
            "overflow_y": null,
            "padding": null,
            "right": null,
            "top": null,
            "visibility": null,
            "width": null
          }
        },
        "de7b82a0501542a78dc9b7403efeef73": {
          "model_module": "@jupyter-widgets/controls",
          "model_name": "DescriptionStyleModel",
          "model_module_version": "1.5.0",
          "state": {
            "_model_module": "@jupyter-widgets/controls",
            "_model_module_version": "1.5.0",
            "_model_name": "DescriptionStyleModel",
            "_view_count": null,
            "_view_module": "@jupyter-widgets/base",
            "_view_module_version": "1.2.0",
            "_view_name": "StyleView",
            "description_width": ""
          }
        },
        "8563df46eeba4af5917b736b44eec1e6": {
          "model_module": "@jupyter-widgets/base",
          "model_name": "LayoutModel",
          "model_module_version": "1.2.0",
          "state": {
            "_model_module": "@jupyter-widgets/base",
            "_model_module_version": "1.2.0",
            "_model_name": "LayoutModel",
            "_view_count": null,
            "_view_module": "@jupyter-widgets/base",
            "_view_module_version": "1.2.0",
            "_view_name": "LayoutView",
            "align_content": null,
            "align_items": null,
            "align_self": null,
            "border": null,
            "bottom": null,
            "display": null,
            "flex": null,
            "flex_flow": null,
            "grid_area": null,
            "grid_auto_columns": null,
            "grid_auto_flow": null,
            "grid_auto_rows": null,
            "grid_column": null,
            "grid_gap": null,
            "grid_row": null,
            "grid_template_areas": null,
            "grid_template_columns": null,
            "grid_template_rows": null,
            "height": null,
            "justify_content": null,
            "justify_items": null,
            "left": null,
            "margin": null,
            "max_height": null,
            "max_width": null,
            "min_height": null,
            "min_width": null,
            "object_fit": null,
            "object_position": null,
            "order": null,
            "overflow": null,
            "overflow_x": null,
            "overflow_y": null,
            "padding": null,
            "right": null,
            "top": null,
            "visibility": null,
            "width": null
          }
        },
        "1d4a7114afca4e6fb3640f622295233a": {
          "model_module": "@jupyter-widgets/controls",
          "model_name": "ProgressStyleModel",
          "model_module_version": "1.5.0",
          "state": {
            "_model_module": "@jupyter-widgets/controls",
            "_model_module_version": "1.5.0",
            "_model_name": "ProgressStyleModel",
            "_view_count": null,
            "_view_module": "@jupyter-widgets/base",
            "_view_module_version": "1.2.0",
            "_view_name": "StyleView",
            "bar_color": null,
            "description_width": ""
          }
        },
        "7e4f05dff02e41c08b530dbbb47096c8": {
          "model_module": "@jupyter-widgets/base",
          "model_name": "LayoutModel",
          "model_module_version": "1.2.0",
          "state": {
            "_model_module": "@jupyter-widgets/base",
            "_model_module_version": "1.2.0",
            "_model_name": "LayoutModel",
            "_view_count": null,
            "_view_module": "@jupyter-widgets/base",
            "_view_module_version": "1.2.0",
            "_view_name": "LayoutView",
            "align_content": null,
            "align_items": null,
            "align_self": null,
            "border": null,
            "bottom": null,
            "display": null,
            "flex": null,
            "flex_flow": null,
            "grid_area": null,
            "grid_auto_columns": null,
            "grid_auto_flow": null,
            "grid_auto_rows": null,
            "grid_column": null,
            "grid_gap": null,
            "grid_row": null,
            "grid_template_areas": null,
            "grid_template_columns": null,
            "grid_template_rows": null,
            "height": null,
            "justify_content": null,
            "justify_items": null,
            "left": null,
            "margin": null,
            "max_height": null,
            "max_width": null,
            "min_height": null,
            "min_width": null,
            "object_fit": null,
            "object_position": null,
            "order": null,
            "overflow": null,
            "overflow_x": null,
            "overflow_y": null,
            "padding": null,
            "right": null,
            "top": null,
            "visibility": null,
            "width": null
          }
        },
        "ed864b6427034459945f85c1081b079c": {
          "model_module": "@jupyter-widgets/controls",
          "model_name": "DescriptionStyleModel",
          "model_module_version": "1.5.0",
          "state": {
            "_model_module": "@jupyter-widgets/controls",
            "_model_module_version": "1.5.0",
            "_model_name": "DescriptionStyleModel",
            "_view_count": null,
            "_view_module": "@jupyter-widgets/base",
            "_view_module_version": "1.2.0",
            "_view_name": "StyleView",
            "description_width": ""
          }
        }
      }
    }
  },
  "cells": [
    {
      "cell_type": "markdown",
      "source": [
        "# **Part 1: Load Documents & Execute Reranking Model**"
      ],
      "metadata": {
        "id": "QsBwWNe53G1r"
      }
    },
    {
      "cell_type": "markdown",
      "source": [
        "## **1. Install Pinecone libraries**"
      ],
      "metadata": {
        "id": "zND_AzGf3Ao1"
      }
    },
    {
      "cell_type": "code",
      "execution_count": 1,
      "metadata": {
        "colab": {
          "base_uri": "https://localhost:8080/"
        },
        "id": "81m8zseI2-l4",
        "outputId": "acec0a62-c2a2-42ee-fe0a-9f48d6092bb1"
      },
      "outputs": [
        {
          "output_type": "stream",
          "name": "stdout",
          "text": [
            "Collecting pinecone==6.0.1\n",
            "  Downloading pinecone-6.0.1-py3-none-any.whl.metadata (8.8 kB)\n",
            "Collecting pinecone-notebooks\n",
            "  Downloading pinecone_notebooks-0.1.1-py3-none-any.whl.metadata (2.6 kB)\n",
            "Requirement already satisfied: certifi>=2019.11.17 in /usr/local/lib/python3.11/dist-packages (from pinecone==6.0.1) (2025.7.14)\n",
            "Collecting pinecone-plugin-interface<0.0.8,>=0.0.7 (from pinecone==6.0.1)\n",
            "  Downloading pinecone_plugin_interface-0.0.7-py3-none-any.whl.metadata (1.2 kB)\n",
            "Requirement already satisfied: python-dateutil>=2.5.3 in /usr/local/lib/python3.11/dist-packages (from pinecone==6.0.1) (2.9.0.post0)\n",
            "Requirement already satisfied: typing-extensions>=3.7.4 in /usr/local/lib/python3.11/dist-packages (from pinecone==6.0.1) (4.14.1)\n",
            "Requirement already satisfied: urllib3>=1.26.0 in /usr/local/lib/python3.11/dist-packages (from pinecone==6.0.1) (2.4.0)\n",
            "Requirement already satisfied: six>=1.5 in /usr/local/lib/python3.11/dist-packages (from python-dateutil>=2.5.3->pinecone==6.0.1) (1.17.0)\n",
            "Downloading pinecone-6.0.1-py3-none-any.whl (421 kB)\n",
            "\u001b[2K   \u001b[90m━━━━━━━━━━━━━━━━━━━━━━━━━━━━━━━━━━━━━━━━\u001b[0m \u001b[32m421.4/421.4 kB\u001b[0m \u001b[31m8.2 MB/s\u001b[0m eta \u001b[36m0:00:00\u001b[0m\n",
            "\u001b[?25hDownloading pinecone_notebooks-0.1.1-py3-none-any.whl (7.3 kB)\n",
            "Downloading pinecone_plugin_interface-0.0.7-py3-none-any.whl (6.2 kB)\n",
            "Installing collected packages: pinecone-plugin-interface, pinecone-notebooks, pinecone\n",
            "Successfully installed pinecone-6.0.1 pinecone-notebooks-0.1.1 pinecone-plugin-interface-0.0.7\n"
          ]
        }
      ],
      "source": [
        "!pip install pinecone==6.0.1 pinecone-notebooks"
      ]
    },
    {
      "cell_type": "code",
      "source": [
        "import os\n",
        "if not os.environ.get(\"PINECONE_API_KEY\"):\n",
        "   from pinecone_notebooks.colab import Authenticate\n",
        "   Authenticate()"
      ],
      "metadata": {
        "colab": {
          "base_uri": "https://localhost:8080/",
          "height": 247
        },
        "id": "9zdXKcjB7ZE0",
        "outputId": "ede9e994-25cf-411a-dd37-e94056a6ea52"
      },
      "execution_count": 2,
      "outputs": [
        {
          "output_type": "display_data",
          "data": {
            "text/plain": [
              "<IPython.core.display.HTML object>"
            ],
            "text/html": [
              "<script type=\"text/javascript\" src=\"https://connect.pinecone.io/embed.js\"></script>"
            ]
          },
          "metadata": {}
        }
      ]
    },
    {
      "cell_type": "markdown",
      "source": [
        "## **3. Instantiate the Pinecone client**"
      ],
      "metadata": {
        "id": "OHUreSIl8sej"
      }
    },
    {
      "cell_type": "code",
      "source": [
        "from pinecone import Pinecone\n",
        "api_key = os.environ[\"PINECONE_API_KEY\"]\n",
        "environment = \"us-east-1\"  # e.g., \"us-west1-gcp\"\n",
        "pc = Pinecone(api_key=api_key, environment=environment)"
      ],
      "metadata": {
        "id": "mUoQLBwaQMT_"
      },
      "execution_count": 4,
      "outputs": []
    },
    {
      "cell_type": "markdown",
      "source": [
        "## **4. Define your query & documents**"
      ],
      "metadata": {
        "id": "95G2c7_MSg3j"
      }
    },
    {
      "cell_type": "code",
      "source": [
        "query = \"Tell me about Apple's products\"\n",
        "documents = [\n",
        "    \"Apple Inc. released the new iPhone with improved camera features.\",\n",
        "    \"An apple a day keeps the doctor away, according to the old saying.\",\n",
        "    \"The MacBook Air is one of Apple’s most popular laptops for students.\",\n",
        "    \"I bought some fresh apples from the market to bake a pie.\",\n",
        "    \"Apple’s latest keynote announced updates to iOS and new AirPods.\"\n",
        "]"
      ],
      "metadata": {
        "id": "PypxvgUJSxwd"
      },
      "execution_count": 5,
      "outputs": []
    },
    {
      "cell_type": "markdown",
      "source": [
        "## **5. Call the reranker**"
      ],
      "metadata": {
        "id": "mMRO5eFjTUFn"
      }
    },
    {
      "cell_type": "code",
      "source": [
        "from pinecone import RerankModel\n",
        "reranked = pc.inference.rerank(\n",
        "   model=\"bge-reranker-v2-m3\",\n",
        "   query=query,\n",
        "   documents=[{\"id\": str(i), \"text\": doc} for i, doc in enumerate(documents)],\n",
        "   top_n=1  # e.g., 3\n",
        ")"
      ],
      "metadata": {
        "id": "qUqHkodGTWnn"
      },
      "execution_count": 6,
      "outputs": []
    },
    {
      "cell_type": "markdown",
      "source": [
        "## **6. Inspect reranked results**"
      ],
      "metadata": {
        "id": "hXzrzvW8T9bi"
      }
    },
    {
      "cell_type": "code",
      "source": [
        "print(reranked)"
      ],
      "metadata": {
        "colab": {
          "base_uri": "https://localhost:8080/"
        },
        "id": "AgmybI3gVcKu",
        "outputId": "3d03a93e-0610-4ee5-a1f1-829d8eed99c4"
      },
      "execution_count": 7,
      "outputs": [
        {
          "output_type": "stream",
          "name": "stdout",
          "text": [
            "RerankResult(\n",
            "  model='bge-reranker-v2-m3',\n",
            "  data=[{\n",
            "    index=2,\n",
            "    score=0.1859472,\n",
            "    document={\n",
            "        id='2',\n",
            "        text='The MacBook Air is one of Apple’s most popular laptops for students.'\n",
            "    }\n",
            "  }],\n",
            "  usage={'rerank_units': 1}\n",
            ")\n"
          ]
        }
      ]
    },
    {
      "cell_type": "code",
      "source": [
        "def show_reranked(query, matches):\n",
        "   print(f\"Query: {query}\")\n",
        "   for i, m in enumerate(matches):\n",
        "       print(f\"{i+1} response {m.score} : {m.document.text}\")  # Print the position (i+1), m.score, and m.document.text\n",
        "show_reranked(query, reranked.data)"
      ],
      "metadata": {
        "colab": {
          "base_uri": "https://localhost:8080/"
        },
        "id": "uuGbYU7CUABN",
        "outputId": "7135d5df-bd94-4295-8664-753946721778"
      },
      "execution_count": 8,
      "outputs": [
        {
          "output_type": "stream",
          "name": "stdout",
          "text": [
            "Query: Tell me about Apple's products\n",
            "1 response 0.1859472 : The MacBook Air is one of Apple’s most popular laptops for students.\n"
          ]
        }
      ]
    },
    {
      "cell_type": "markdown",
      "source": [
        "# **Part 2: Setup a Serverless Index for Medical Notes**"
      ],
      "metadata": {
        "id": "wlVx8ieGZuiK"
      }
    },
    {
      "cell_type": "markdown",
      "source": [
        "## **1. Install data & model libraries**"
      ],
      "metadata": {
        "id": "BzZ1Jl12ZuQc"
      }
    },
    {
      "cell_type": "code",
      "source": [
        "!pip install --q pandas torch transformers\n"
      ],
      "metadata": {
        "colab": {
          "base_uri": "https://localhost:8080/"
        },
        "id": "JqdZKE4qUzOq",
        "outputId": "8fedda8f-cb6b-4a3a-d00c-1921ddbd75c3"
      },
      "execution_count": 9,
      "outputs": [
        {
          "output_type": "stream",
          "name": "stdout",
          "text": [
            "\u001b[2K   \u001b[90m━━━━━━━━━━━━━━━━━━━━━━━━━━━━━━━━━━━━━━━━\u001b[0m \u001b[32m363.4/363.4 MB\u001b[0m \u001b[31m3.5 MB/s\u001b[0m eta \u001b[36m0:00:00\u001b[0m\n",
            "\u001b[2K   \u001b[90m━━━━━━━━━━━━━━━━━━━━━━━━━━━━━━━━━━━━━━━━\u001b[0m \u001b[32m13.8/13.8 MB\u001b[0m \u001b[31m111.6 MB/s\u001b[0m eta \u001b[36m0:00:00\u001b[0m\n",
            "\u001b[2K   \u001b[90m━━━━━━━━━━━━━━━━━━━━━━━━━━━━━━━━━━━━━━━━\u001b[0m \u001b[32m24.6/24.6 MB\u001b[0m \u001b[31m103.5 MB/s\u001b[0m eta \u001b[36m0:00:00\u001b[0m\n",
            "\u001b[2K   \u001b[90m━━━━━━━━━━━━━━━━━━━━━━━━━━━━━━━━━━━━━━━━\u001b[0m \u001b[32m883.7/883.7 kB\u001b[0m \u001b[31m54.1 MB/s\u001b[0m eta \u001b[36m0:00:00\u001b[0m\n",
            "\u001b[2K   \u001b[90m━━━━━━━━━━━━━━━━━━━━━━━━━━━━━━━━━━━━━━━━\u001b[0m \u001b[32m664.8/664.8 MB\u001b[0m \u001b[31m2.1 MB/s\u001b[0m eta \u001b[36m0:00:00\u001b[0m\n",
            "\u001b[2K   \u001b[90m━━━━━━━━━━━━━━━━━━━━━━━━━━━━━━━━━━━━━━━━\u001b[0m \u001b[32m211.5/211.5 MB\u001b[0m \u001b[31m4.9 MB/s\u001b[0m eta \u001b[36m0:00:00\u001b[0m\n",
            "\u001b[2K   \u001b[90m━━━━━━━━━━━━━━━━━━━━━━━━━━━━━━━━━━━━━━━━\u001b[0m \u001b[32m56.3/56.3 MB\u001b[0m \u001b[31m45.5 MB/s\u001b[0m eta \u001b[36m0:00:00\u001b[0m\n",
            "\u001b[2K   \u001b[90m━━━━━━━━━━━━━━━━━━━━━━━━━━━━━━━━━━━━━━━━\u001b[0m \u001b[32m127.9/127.9 MB\u001b[0m \u001b[31m20.2 MB/s\u001b[0m eta \u001b[36m0:00:00\u001b[0m\n",
            "\u001b[2K   \u001b[90m━━━━━━━━━━━━━━━━━━━━━━━━━━━━━━━━━━━━━━━━\u001b[0m \u001b[32m207.5/207.5 MB\u001b[0m \u001b[31m5.1 MB/s\u001b[0m eta \u001b[36m0:00:00\u001b[0m\n",
            "\u001b[2K   \u001b[90m━━━━━━━━━━━━━━━━━━━━━━━━━━━━━━━━━━━━━━━━\u001b[0m \u001b[32m21.1/21.1 MB\u001b[0m \u001b[31m104.8 MB/s\u001b[0m eta \u001b[36m0:00:00\u001b[0m\n",
            "\u001b[?25h"
          ]
        }
      ]
    },
    {
      "cell_type": "markdown",
      "source": [
        "## **2. Import modules & define environment settings**"
      ],
      "metadata": {
        "id": "19IqFNFSZ-gy"
      }
    },
    {
      "cell_type": "code",
      "source": [
        "import os, time, pandas as pd, torch\n",
        "from pinecone import Pinecone, ServerlessSpec\n",
        "\n",
        "cloud = \"aws\"        # e.g., \"aws\"\n",
        "region = \"us-east-1\"       # e.g., \"us-east-1\"\n",
        "spec = ServerlessSpec(cloud=cloud, region=region)\n",
        "index_name = \"pinecone-reranker\"\n",
        "\n",
        "pc = Pinecone(api_key=os.environ[\"PINECONE_API_KEY\"], environment=cloud)"
      ],
      "metadata": {
        "id": "gcBJ-Lz6aAsD"
      },
      "execution_count": 10,
      "outputs": []
    },
    {
      "cell_type": "markdown",
      "source": [
        "## **3. Create or recreate the index**"
      ],
      "metadata": {
        "id": "3wtyYgbJdI6k"
      }
    },
    {
      "cell_type": "code",
      "source": [
        "if pc.has_index(index_name):\n",
        "   pc.delete_index(index_name)\n",
        "pc.create_index(\n",
        "   name=index_name,\n",
        "   dimension=384,           # must match embedding vector size\n",
        "   metric=\"cosine\",\n",
        "   spec=spec\n",
        ")"
      ],
      "metadata": {
        "colab": {
          "base_uri": "https://localhost:8080/"
        },
        "id": "L4TlGk9bdINL",
        "outputId": "b5e1282b-f28a-4a12-94c8-af5b5107d3d3"
      },
      "execution_count": 11,
      "outputs": [
        {
          "output_type": "execute_result",
          "data": {
            "text/plain": [
              "{\n",
              "    \"name\": \"pinecone-reranker\",\n",
              "    \"metric\": \"cosine\",\n",
              "    \"host\": \"pinecone-reranker-soaeuog.svc.aped-4627-b74a.pinecone.io\",\n",
              "    \"spec\": {\n",
              "        \"serverless\": {\n",
              "            \"cloud\": \"aws\",\n",
              "            \"region\": \"us-east-1\"\n",
              "        }\n",
              "    },\n",
              "    \"status\": {\n",
              "        \"ready\": true,\n",
              "        \"state\": \"Ready\"\n",
              "    },\n",
              "    \"vector_type\": \"dense\",\n",
              "    \"dimension\": 384,\n",
              "    \"deletion_protection\": \"disabled\",\n",
              "    \"tags\": null\n",
              "}"
            ]
          },
          "metadata": {},
          "execution_count": 11
        }
      ]
    },
    {
      "cell_type": "markdown",
      "source": [
        "# **Part 3: Load the Sample Data**"
      ],
      "metadata": {
        "id": "Ba60YMW_fN4v"
      }
    },
    {
      "cell_type": "markdown",
      "source": [
        "## **1. Download & read JSONL**"
      ],
      "metadata": {
        "id": "6NpbxtrvfQEw"
      }
    },
    {
      "cell_type": "code",
      "source": [
        "import requests, tempfile\n",
        "\n",
        "with tempfile.TemporaryDirectory() as tmpdir:\n",
        "   file_path = os.path.join(tmpdir, \"sample_notes_data.jsonl\")\n",
        "   url = \"https://raw.githubusercontent.com/pinecone-io/examples/refs/heads/master/docs/data/sample_notes_data.jsonl\"  # raw GitHub URL to JSONL file\n",
        "   resp = requests.get(url)\n",
        "   resp.raise_for_status()\n",
        "   open(file_path, \"wb\").write(resp.content)\n",
        "   df = pd.read_json(file_path, orient='records', lines=True)"
      ],
      "metadata": {
        "id": "rG3cg4rN3X06"
      },
      "execution_count": 31,
      "outputs": []
    },
    {
      "cell_type": "code",
      "source": [
        "df.head()"
      ],
      "metadata": {
        "colab": {
          "base_uri": "https://localhost:8080/",
          "height": 206
        },
        "id": "FX6c_7SwfhMZ",
        "outputId": "3b3b6b5f-68c7-4880-bed7-f5fc6476e550"
      },
      "execution_count": 32,
      "outputs": [
        {
          "output_type": "execute_result",
          "data": {
            "text/plain": [
              "     id                                             values  \\\n",
              "0  P011  [-0.2027486265, 0.2769146562, -0.1509393603, 0...   \n",
              "1  P001  [0.1842793673, 0.4459365904, -0.0770567134, 0....   \n",
              "2  P002  [-0.2040648609, -0.1739618927, -0.2897160649, ...   \n",
              "3  P003  [0.1889383644, 0.2924542725, -0.2335938066, -0...   \n",
              "4  P004  [-0.12171068040000001, 0.1674752235, -0.231888...   \n",
              "\n",
              "                                            metadata  \n",
              "0  {'advice': 'rest, hydrate', 'symptoms': 'heada...  \n",
              "1  {'tests': 'EKG, stress test', 'symptoms': 'che...  \n",
              "2  {'HbA1c': '7.2', 'condition': 'diabetes', 'med...  \n",
              "3  {'symptoms': 'cough, wheezing', 'diagnosis': '...  \n",
              "4  {'referral': 'dermatology', 'condition': 'susp...  "
            ],
            "text/html": [
              "\n",
              "  <div id=\"df-685369be-513a-4b2c-8f5f-288612d82f5b\" class=\"colab-df-container\">\n",
              "    <div>\n",
              "<style scoped>\n",
              "    .dataframe tbody tr th:only-of-type {\n",
              "        vertical-align: middle;\n",
              "    }\n",
              "\n",
              "    .dataframe tbody tr th {\n",
              "        vertical-align: top;\n",
              "    }\n",
              "\n",
              "    .dataframe thead th {\n",
              "        text-align: right;\n",
              "    }\n",
              "</style>\n",
              "<table border=\"1\" class=\"dataframe\">\n",
              "  <thead>\n",
              "    <tr style=\"text-align: right;\">\n",
              "      <th></th>\n",
              "      <th>id</th>\n",
              "      <th>values</th>\n",
              "      <th>metadata</th>\n",
              "    </tr>\n",
              "  </thead>\n",
              "  <tbody>\n",
              "    <tr>\n",
              "      <th>0</th>\n",
              "      <td>P011</td>\n",
              "      <td>[-0.2027486265, 0.2769146562, -0.1509393603, 0...</td>\n",
              "      <td>{'advice': 'rest, hydrate', 'symptoms': 'heada...</td>\n",
              "    </tr>\n",
              "    <tr>\n",
              "      <th>1</th>\n",
              "      <td>P001</td>\n",
              "      <td>[0.1842793673, 0.4459365904, -0.0770567134, 0....</td>\n",
              "      <td>{'tests': 'EKG, stress test', 'symptoms': 'che...</td>\n",
              "    </tr>\n",
              "    <tr>\n",
              "      <th>2</th>\n",
              "      <td>P002</td>\n",
              "      <td>[-0.2040648609, -0.1739618927, -0.2897160649, ...</td>\n",
              "      <td>{'HbA1c': '7.2', 'condition': 'diabetes', 'med...</td>\n",
              "    </tr>\n",
              "    <tr>\n",
              "      <th>3</th>\n",
              "      <td>P003</td>\n",
              "      <td>[0.1889383644, 0.2924542725, -0.2335938066, -0...</td>\n",
              "      <td>{'symptoms': 'cough, wheezing', 'diagnosis': '...</td>\n",
              "    </tr>\n",
              "    <tr>\n",
              "      <th>4</th>\n",
              "      <td>P004</td>\n",
              "      <td>[-0.12171068040000001, 0.1674752235, -0.231888...</td>\n",
              "      <td>{'referral': 'dermatology', 'condition': 'susp...</td>\n",
              "    </tr>\n",
              "  </tbody>\n",
              "</table>\n",
              "</div>\n",
              "    <div class=\"colab-df-buttons\">\n",
              "\n",
              "  <div class=\"colab-df-container\">\n",
              "    <button class=\"colab-df-convert\" onclick=\"convertToInteractive('df-685369be-513a-4b2c-8f5f-288612d82f5b')\"\n",
              "            title=\"Convert this dataframe to an interactive table.\"\n",
              "            style=\"display:none;\">\n",
              "\n",
              "  <svg xmlns=\"http://www.w3.org/2000/svg\" height=\"24px\" viewBox=\"0 -960 960 960\">\n",
              "    <path d=\"M120-120v-720h720v720H120Zm60-500h600v-160H180v160Zm220 220h160v-160H400v160Zm0 220h160v-160H400v160ZM180-400h160v-160H180v160Zm440 0h160v-160H620v160ZM180-180h160v-160H180v160Zm440 0h160v-160H620v160Z\"/>\n",
              "  </svg>\n",
              "    </button>\n",
              "\n",
              "  <style>\n",
              "    .colab-df-container {\n",
              "      display:flex;\n",
              "      gap: 12px;\n",
              "    }\n",
              "\n",
              "    .colab-df-convert {\n",
              "      background-color: #E8F0FE;\n",
              "      border: none;\n",
              "      border-radius: 50%;\n",
              "      cursor: pointer;\n",
              "      display: none;\n",
              "      fill: #1967D2;\n",
              "      height: 32px;\n",
              "      padding: 0 0 0 0;\n",
              "      width: 32px;\n",
              "    }\n",
              "\n",
              "    .colab-df-convert:hover {\n",
              "      background-color: #E2EBFA;\n",
              "      box-shadow: 0px 1px 2px rgba(60, 64, 67, 0.3), 0px 1px 3px 1px rgba(60, 64, 67, 0.15);\n",
              "      fill: #174EA6;\n",
              "    }\n",
              "\n",
              "    .colab-df-buttons div {\n",
              "      margin-bottom: 4px;\n",
              "    }\n",
              "\n",
              "    [theme=dark] .colab-df-convert {\n",
              "      background-color: #3B4455;\n",
              "      fill: #D2E3FC;\n",
              "    }\n",
              "\n",
              "    [theme=dark] .colab-df-convert:hover {\n",
              "      background-color: #434B5C;\n",
              "      box-shadow: 0px 1px 3px 1px rgba(0, 0, 0, 0.15);\n",
              "      filter: drop-shadow(0px 1px 2px rgba(0, 0, 0, 0.3));\n",
              "      fill: #FFFFFF;\n",
              "    }\n",
              "  </style>\n",
              "\n",
              "    <script>\n",
              "      const buttonEl =\n",
              "        document.querySelector('#df-685369be-513a-4b2c-8f5f-288612d82f5b button.colab-df-convert');\n",
              "      buttonEl.style.display =\n",
              "        google.colab.kernel.accessAllowed ? 'block' : 'none';\n",
              "\n",
              "      async function convertToInteractive(key) {\n",
              "        const element = document.querySelector('#df-685369be-513a-4b2c-8f5f-288612d82f5b');\n",
              "        const dataTable =\n",
              "          await google.colab.kernel.invokeFunction('convertToInteractive',\n",
              "                                                    [key], {});\n",
              "        if (!dataTable) return;\n",
              "\n",
              "        const docLinkHtml = 'Like what you see? Visit the ' +\n",
              "          '<a target=\"_blank\" href=https://colab.research.google.com/notebooks/data_table.ipynb>data table notebook</a>'\n",
              "          + ' to learn more about interactive tables.';\n",
              "        element.innerHTML = '';\n",
              "        dataTable['output_type'] = 'display_data';\n",
              "        await google.colab.output.renderOutput(dataTable, element);\n",
              "        const docLink = document.createElement('div');\n",
              "        docLink.innerHTML = docLinkHtml;\n",
              "        element.appendChild(docLink);\n",
              "      }\n",
              "    </script>\n",
              "  </div>\n",
              "\n",
              "\n",
              "    <div id=\"df-66336be1-06dd-4d84-b7b8-e3a7454b1111\">\n",
              "      <button class=\"colab-df-quickchart\" onclick=\"quickchart('df-66336be1-06dd-4d84-b7b8-e3a7454b1111')\"\n",
              "                title=\"Suggest charts\"\n",
              "                style=\"display:none;\">\n",
              "\n",
              "<svg xmlns=\"http://www.w3.org/2000/svg\" height=\"24px\"viewBox=\"0 0 24 24\"\n",
              "     width=\"24px\">\n",
              "    <g>\n",
              "        <path d=\"M19 3H5c-1.1 0-2 .9-2 2v14c0 1.1.9 2 2 2h14c1.1 0 2-.9 2-2V5c0-1.1-.9-2-2-2zM9 17H7v-7h2v7zm4 0h-2V7h2v10zm4 0h-2v-4h2v4z\"/>\n",
              "    </g>\n",
              "</svg>\n",
              "      </button>\n",
              "\n",
              "<style>\n",
              "  .colab-df-quickchart {\n",
              "      --bg-color: #E8F0FE;\n",
              "      --fill-color: #1967D2;\n",
              "      --hover-bg-color: #E2EBFA;\n",
              "      --hover-fill-color: #174EA6;\n",
              "      --disabled-fill-color: #AAA;\n",
              "      --disabled-bg-color: #DDD;\n",
              "  }\n",
              "\n",
              "  [theme=dark] .colab-df-quickchart {\n",
              "      --bg-color: #3B4455;\n",
              "      --fill-color: #D2E3FC;\n",
              "      --hover-bg-color: #434B5C;\n",
              "      --hover-fill-color: #FFFFFF;\n",
              "      --disabled-bg-color: #3B4455;\n",
              "      --disabled-fill-color: #666;\n",
              "  }\n",
              "\n",
              "  .colab-df-quickchart {\n",
              "    background-color: var(--bg-color);\n",
              "    border: none;\n",
              "    border-radius: 50%;\n",
              "    cursor: pointer;\n",
              "    display: none;\n",
              "    fill: var(--fill-color);\n",
              "    height: 32px;\n",
              "    padding: 0;\n",
              "    width: 32px;\n",
              "  }\n",
              "\n",
              "  .colab-df-quickchart:hover {\n",
              "    background-color: var(--hover-bg-color);\n",
              "    box-shadow: 0 1px 2px rgba(60, 64, 67, 0.3), 0 1px 3px 1px rgba(60, 64, 67, 0.15);\n",
              "    fill: var(--button-hover-fill-color);\n",
              "  }\n",
              "\n",
              "  .colab-df-quickchart-complete:disabled,\n",
              "  .colab-df-quickchart-complete:disabled:hover {\n",
              "    background-color: var(--disabled-bg-color);\n",
              "    fill: var(--disabled-fill-color);\n",
              "    box-shadow: none;\n",
              "  }\n",
              "\n",
              "  .colab-df-spinner {\n",
              "    border: 2px solid var(--fill-color);\n",
              "    border-color: transparent;\n",
              "    border-bottom-color: var(--fill-color);\n",
              "    animation:\n",
              "      spin 1s steps(1) infinite;\n",
              "  }\n",
              "\n",
              "  @keyframes spin {\n",
              "    0% {\n",
              "      border-color: transparent;\n",
              "      border-bottom-color: var(--fill-color);\n",
              "      border-left-color: var(--fill-color);\n",
              "    }\n",
              "    20% {\n",
              "      border-color: transparent;\n",
              "      border-left-color: var(--fill-color);\n",
              "      border-top-color: var(--fill-color);\n",
              "    }\n",
              "    30% {\n",
              "      border-color: transparent;\n",
              "      border-left-color: var(--fill-color);\n",
              "      border-top-color: var(--fill-color);\n",
              "      border-right-color: var(--fill-color);\n",
              "    }\n",
              "    40% {\n",
              "      border-color: transparent;\n",
              "      border-right-color: var(--fill-color);\n",
              "      border-top-color: var(--fill-color);\n",
              "    }\n",
              "    60% {\n",
              "      border-color: transparent;\n",
              "      border-right-color: var(--fill-color);\n",
              "    }\n",
              "    80% {\n",
              "      border-color: transparent;\n",
              "      border-right-color: var(--fill-color);\n",
              "      border-bottom-color: var(--fill-color);\n",
              "    }\n",
              "    90% {\n",
              "      border-color: transparent;\n",
              "      border-bottom-color: var(--fill-color);\n",
              "    }\n",
              "  }\n",
              "</style>\n",
              "\n",
              "      <script>\n",
              "        async function quickchart(key) {\n",
              "          const quickchartButtonEl =\n",
              "            document.querySelector('#' + key + ' button');\n",
              "          quickchartButtonEl.disabled = true;  // To prevent multiple clicks.\n",
              "          quickchartButtonEl.classList.add('colab-df-spinner');\n",
              "          try {\n",
              "            const charts = await google.colab.kernel.invokeFunction(\n",
              "                'suggestCharts', [key], {});\n",
              "          } catch (error) {\n",
              "            console.error('Error during call to suggestCharts:', error);\n",
              "          }\n",
              "          quickchartButtonEl.classList.remove('colab-df-spinner');\n",
              "          quickchartButtonEl.classList.add('colab-df-quickchart-complete');\n",
              "        }\n",
              "        (() => {\n",
              "          let quickchartButtonEl =\n",
              "            document.querySelector('#df-66336be1-06dd-4d84-b7b8-e3a7454b1111 button');\n",
              "          quickchartButtonEl.style.display =\n",
              "            google.colab.kernel.accessAllowed ? 'block' : 'none';\n",
              "        })();\n",
              "      </script>\n",
              "    </div>\n",
              "\n",
              "    </div>\n",
              "  </div>\n"
            ],
            "application/vnd.google.colaboratory.intrinsic+json": {
              "type": "dataframe",
              "variable_name": "df",
              "summary": "{\n  \"name\": \"df\",\n  \"rows\": 100,\n  \"fields\": [\n    {\n      \"column\": \"id\",\n      \"properties\": {\n        \"dtype\": \"string\",\n        \"num_unique_values\": 100,\n        \"samples\": [\n          \"P084\",\n          \"P054\",\n          \"P071\"\n        ],\n        \"semantic_type\": \"\",\n        \"description\": \"\"\n      }\n    },\n    {\n      \"column\": \"values\",\n      \"properties\": {\n        \"dtype\": \"object\",\n        \"semantic_type\": \"\",\n        \"description\": \"\"\n      }\n    },\n    {\n      \"column\": \"metadata\",\n      \"properties\": {\n        \"dtype\": \"object\",\n        \"semantic_type\": \"\",\n        \"description\": \"\"\n      }\n    }\n  ]\n}"
            }
          },
          "metadata": {},
          "execution_count": 32
        }
      ]
    },
    {
      "cell_type": "markdown",
      "source": [
        "# **Part 4: Upsert Data into the Index**"
      ],
      "metadata": {
        "id": "_jE3I7FwtkB2"
      }
    },
    {
      "cell_type": "markdown",
      "source": [
        "## **1. Instantiate index client & upsert**"
      ],
      "metadata": {
        "id": "A9MHqxWLtlMN"
      }
    },
    {
      "cell_type": "code",
      "source": [
        "index = pc.Index(index_name)\n",
        "index.upsert_from_dataframe(df)"
      ],
      "metadata": {
        "colab": {
          "base_uri": "https://localhost:8080/",
          "height": 67,
          "referenced_widgets": [
            "664c2d42434e4236aedf432182cc2f21",
            "5e0355af91844ce1afc05537de0ec19b",
            "554d44d416414364b15afc38d72f7acd",
            "12136d2c408e466385f7ae8cf711a904",
            "ae179b8074c74f5c8b66d947a4a82f6e",
            "db6af3ab4e5a49948ff853f17b332463",
            "de7b82a0501542a78dc9b7403efeef73",
            "8563df46eeba4af5917b736b44eec1e6",
            "1d4a7114afca4e6fb3640f622295233a",
            "7e4f05dff02e41c08b530dbbb47096c8",
            "ed864b6427034459945f85c1081b079c"
          ]
        },
        "id": "W5TDH9gHtrDU",
        "outputId": "de17bb3f-7fab-46c7-a755-b57136ea4685"
      },
      "execution_count": 38,
      "outputs": [
        {
          "output_type": "display_data",
          "data": {
            "text/plain": [
              "sending upsert requests:   0%|          | 0/100 [00:00<?, ?it/s]"
            ],
            "application/vnd.jupyter.widget-view+json": {
              "version_major": 2,
              "version_minor": 0,
              "model_id": "664c2d42434e4236aedf432182cc2f21"
            }
          },
          "metadata": {}
        },
        {
          "output_type": "execute_result",
          "data": {
            "text/plain": [
              "{'upserted_count': 100}"
            ]
          },
          "metadata": {},
          "execution_count": 38
        }
      ]
    },
    {
      "cell_type": "markdown",
      "source": [
        "### **2. Wait for availability**"
      ],
      "metadata": {
        "id": "T7kNc0hT25h8"
      }
    },
    {
      "cell_type": "code",
      "source": [
        "def is_ready(idx):\n",
        "   stats = idx.describe_index_stats()\n",
        "   return stats.total_vector_count > 0\n",
        "\n",
        "while not is_ready(index):\n",
        "   time.sleep(5)\n",
        "print(index.describe_index_stats())"
      ],
      "metadata": {
        "colab": {
          "base_uri": "https://localhost:8080/"
        },
        "id": "6xL1F397u9O5",
        "outputId": "f29a7482-e64e-40ae-dfce-d15173d44109"
      },
      "execution_count": 39,
      "outputs": [
        {
          "output_type": "stream",
          "name": "stdout",
          "text": [
            "{'dimension': 384,\n",
            " 'index_fullness': 0.0,\n",
            " 'metric': 'cosine',\n",
            " 'namespaces': {'': {'vector_count': 10099}},\n",
            " 'total_vector_count': 10099,\n",
            " 'vector_type': 'dense'}\n"
          ]
        }
      ]
    },
    {
      "cell_type": "markdown",
      "source": [
        "# **Part 5: Embedding Function**"
      ],
      "metadata": {
        "id": "8UDs2RZM4Nmb"
      }
    },
    {
      "cell_type": "markdown",
      "source": [
        "## **1. Define your embedding function**"
      ],
      "metadata": {
        "id": "8LNh6lrVxYCI"
      }
    },
    {
      "cell_type": "code",
      "source": [
        "from sentence_transformers import SentenceTransformer\n",
        "\n",
        "def get_embedding(text):\n",
        "   model = SentenceTransformer(\"all-MiniLM-L6-v2\")  # e.g., \"all-MiniLM-L6-v2\"\n",
        "   return model.encode(text).tolist()\n",
        ""
      ],
      "metadata": {
        "id": "AM_R1HBJxXwL"
      },
      "execution_count": 43,
      "outputs": []
    },
    {
      "cell_type": "markdown",
      "source": [
        "## **2. Run a semantic search query**"
      ],
      "metadata": {
        "id": "FmBN18jd4Nel"
      }
    },
    {
      "cell_type": "code",
      "source": [
        "question = \"what if my patient has leg pain\"\n",
        "emb = get_embedding(question)\n",
        "results = index.query(vector=emb, top_k=3, include_metadata=True)\n",
        "matches = sorted(results.matches, key=lambda m: m.score, reverse=True)"
      ],
      "metadata": {
        "id": "w15hVUYs4I4m"
      },
      "execution_count": 44,
      "outputs": []
    },
    {
      "cell_type": "code",
      "source": [
        "print(matches)"
      ],
      "metadata": {
        "colab": {
          "base_uri": "https://localhost:8080/"
        },
        "id": "xOv6-kEi6GMO",
        "outputId": "f98bcdbb-4ce9-4a56-c44e-f23743d30ed9"
      },
      "execution_count": 45,
      "outputs": [
        {
          "output_type": "stream",
          "name": "stdout",
          "text": [
            "[{'id': 'P0100',\n",
            " 'metadata': {'advice': 'over-the-counter pain relief, stretching',\n",
            "              'symptoms': 'muscle pain'},\n",
            " 'score': 0.518134952,\n",
            " 'values': []}, {'id': 'P047',\n",
            " 'metadata': {'symptoms': 'back pain', 'treatment': 'physical therapy'},\n",
            " 'score': 0.50096035,\n",
            " 'values': []}, {'id': 'P095',\n",
            " 'metadata': {'symptoms': 'back pain', 'treatment': 'physical therapy'},\n",
            " 'score': 0.50096035,\n",
            " 'values': []}]\n"
          ]
        }
      ]
    },
    {
      "cell_type": "markdown",
      "source": [
        "\n",
        "# **Part 6: Display & Rerank Clinical Notes**"
      ],
      "metadata": {
        "id": "6qOhiaJp5jlf"
      }
    },
    {
      "cell_type": "markdown",
      "source": [
        "## **1. Display initial search results**"
      ],
      "metadata": {
        "id": "gsJvF-i55wL9"
      }
    },
    {
      "cell_type": "code",
      "source": [
        "def show_results(q, matches):\n",
        "   print(f\"Question: {q}\")\n",
        "   for i, m in enumerate(matches):\n",
        "       print(f\"response {i+1} : {m.id}, {m.score}, {m.metadata}\")\n",
        "show_results(question, matches)"
      ],
      "metadata": {
        "colab": {
          "base_uri": "https://localhost:8080/"
        },
        "id": "GigMntI65k32",
        "outputId": "090bf1b1-36ec-411d-d4a3-16a2606e29f3"
      },
      "execution_count": 46,
      "outputs": [
        {
          "output_type": "stream",
          "name": "stdout",
          "text": [
            "Question: what if my patient has leg pain\n",
            "response 1 : P0100, 0.518134952, {'advice': 'over-the-counter pain relief, stretching', 'symptoms': 'muscle pain'}\n",
            "response 2 : P047, 0.50096035, {'symptoms': 'back pain', 'treatment': 'physical therapy'}\n",
            "response 3 : P095, 0.50096035, {'symptoms': 'back pain', 'treatment': 'physical therapy'}\n"
          ]
        }
      ]
    },
    {
      "cell_type": "markdown",
      "source": [
        "## **2. Prepare documents for reranking**"
      ],
      "metadata": {
        "id": "wfvBk3wX7BTV"
      }
    },
    {
      "cell_type": "code",
      "source": [
        "rerank_docs = [\n",
        "   {\"id\": m.id, \"reranking_field\": \"; \".join([f\"{k}: {v}\" for k, v in m.metadata.items()])}\n",
        "   for m in matches\n",
        "]\n",
        "rerank_query = \"What is the most likely cause of leg pain?\""
      ],
      "metadata": {
        "id": "HCydlyuw69HJ"
      },
      "execution_count": 47,
      "outputs": []
    },
    {
      "cell_type": "code",
      "source": [
        "print(rerank_docs)"
      ],
      "metadata": {
        "colab": {
          "base_uri": "https://localhost:8080/"
        },
        "id": "Oi_gpxuG_AaY",
        "outputId": "d5cf0cc7-be74-4421-bc14-8963d2645416"
      },
      "execution_count": 54,
      "outputs": [
        {
          "output_type": "stream",
          "name": "stdout",
          "text": [
            "[{'id': 'P0100', 'reranking_field': 'advice: over-the-counter pain relief, stretching; symptoms: muscle pain'}, {'id': 'P047', 'reranking_field': 'symptoms: back pain; treatment: physical therapy'}, {'id': 'P095', 'reranking_field': 'symptoms: back pain; treatment: physical therapy'}]\n"
          ]
        }
      ]
    },
    {
      "cell_type": "markdown",
      "source": [
        "## **3. Execute serverless reranking**\n",
        "\n"
      ],
      "metadata": {
        "id": "RBl4jshb9PsK"
      }
    },
    {
      "cell_type": "code",
      "source": [
        "reranked = pc.inference.rerank(\n",
        "   model=\"bge-reranker-v2-m3\",\n",
        "   query=rerank_query,\n",
        "   documents=rerank_docs,\n",
        "   rank_fields=[\"reranking_field\"],\n",
        "   top_n=1\n",
        ")"
      ],
      "metadata": {
        "id": "adMGtQ9I8b-k"
      },
      "execution_count": 57,
      "outputs": []
    },
    {
      "cell_type": "code",
      "source": [
        "print(\"Reranked result:\", reranked)"
      ],
      "metadata": {
        "colab": {
          "base_uri": "https://localhost:8080/"
        },
        "id": "ddj3abBD_wwS",
        "outputId": "0a8c0f9c-a16e-423e-af68-3376768e7802"
      },
      "execution_count": 60,
      "outputs": [
        {
          "output_type": "stream",
          "name": "stdout",
          "text": [
            "Reranked result: RerankResult(\n",
            "  model='bge-reranker-v2-m3',\n",
            "  data=[{\n",
            "    index=0,\n",
            "    score=0.0008040859,\n",
            "    document={\n",
            "        id='P0100',\n",
            "        reranking_field='advice: over-the-counter pain relief, stretching; symptoms: muscle pain'\n",
            "    }\n",
            "  }],\n",
            "  usage={'rerank_units': 1}\n",
            ")\n"
          ]
        }
      ]
    },
    {
      "cell_type": "markdown",
      "source": [
        "## **4. Show reranked results**"
      ],
      "metadata": {
        "id": "jtszMeYv932X"
      }
    },
    {
      "cell_type": "code",
      "source": [
        "def show_reranked(q, matches):\n",
        "   print(f\"Refined Query: {q}\")\n",
        "   for i, m in enumerate(matches):\n",
        "       print(f\"response {i+1} : {m.document.id}, {m.score}, {m.document.reranking_field}\")\n",
        "show_reranked(rerank_query, reranked.data)"
      ],
      "metadata": {
        "colab": {
          "base_uri": "https://localhost:8080/"
        },
        "id": "E6SCelQ396bO",
        "outputId": "f1978322-cafc-4dc2-e4bc-e17a0a704e88"
      },
      "execution_count": 61,
      "outputs": [
        {
          "output_type": "stream",
          "name": "stdout",
          "text": [
            "Refined Query: What is the most likely cause of leg pain?\n",
            "response 1 : P0100, 0.0008040859, advice: over-the-counter pain relief, stretching; symptoms: muscle pain\n"
          ]
        }
      ]
    }
  ]
}