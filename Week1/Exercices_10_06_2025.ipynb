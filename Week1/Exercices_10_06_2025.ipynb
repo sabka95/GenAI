{
 "cells": [
  {
   "cell_type": "code",
   "execution_count": 5,
   "id": "19338193",
   "metadata": {},
   "outputs": [
    {
     "ename": "SyntaxError",
     "evalue": "invalid syntax (2047927846.py, line 5)",
     "output_type": "error",
     "traceback": [
      "\u001b[1;36m  Cell \u001b[1;32mIn[5], line 5\u001b[1;36m\u001b[0m\n\u001b[1;33m    map_filtered_people = list(map(lambda x : x.\"hello {}\", filtered_people))\u001b[0m\n\u001b[1;37m                                                ^\u001b[0m\n\u001b[1;31mSyntaxError\u001b[0m\u001b[1;31m:\u001b[0m invalid syntax\n"
     ]
    }
   ],
   "source": [
    "people = [\"Rick\", \"Morty\", \"Beth\", \"Jerry\", \"Snowball\"]\n",
    "\n",
    "filtered_people = list(filter(lambda x : len(x) <= 4, people))\n",
    "\n",
    "map_filtered_people = list(map(lambda x : x.\"hello {}\", filtered_people))\n",
    "\n",
    "print(map_filtered_people)\n"
   ]
  }
 ],
 "metadata": {
  "kernelspec": {
   "display_name": "base",
   "language": "python",
   "name": "python3"
  },
  "language_info": {
   "codemirror_mode": {
    "name": "ipython",
    "version": 3
   },
   "file_extension": ".py",
   "mimetype": "text/x-python",
   "name": "python",
   "nbconvert_exporter": "python",
   "pygments_lexer": "ipython3",
   "version": "3.11.4"
  }
 },
 "nbformat": 4,
 "nbformat_minor": 5
}
