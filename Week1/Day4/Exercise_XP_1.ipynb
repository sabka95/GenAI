{
 "cells": [
  {
   "cell_type": "markdown",
   "id": "dcb4dfba",
   "metadata": {},
   "source": [
    "🌟 Exercise 1: Pets"
   ]
  },
  {
   "cell_type": "code",
   "execution_count": 3,
   "id": "8883b1bd",
   "metadata": {},
   "outputs": [
    {
     "name": "stdout",
     "output_type": "stream",
     "text": [
      "jinx is just walking around\n",
      "mess is just walking around\n",
      "turtle is just walking around\n"
     ]
    }
   ],
   "source": [
    "# Instructions:\n",
    "\n",
    "# Use the provided Pets and Cat classes to create a Siamese breed, instantiate cat objects, and use the Pets class to manage them.\n",
    "# See the example below, before diving in.\n",
    "\n",
    "\n",
    "\n",
    "# Step 1: Create the Siamese Class\n",
    "\n",
    "# Create a class called Siamese that inherits from the Cat class.\n",
    "# You can add any specific attributes or methods for the Siamese breed, or leave it as is if there are no unique behaviors. we should tell them what to add, maybe a new attribute or methods\n",
    "\n",
    "\n",
    "# Step 2: Create a List of Cat Instances\n",
    "\n",
    "# Create a list called all_cats that contains instances of Bengal, Chartreux, and Siamese cats.\n",
    "# Example: all_cats = [bengal_obj, chartreux_obj, siamese_obj]\n",
    "# Give each cat a name and age.\n",
    "\n",
    "\n",
    "# Step 3: Create a Pets Instance\n",
    "\n",
    "# Create an instance of the Pets class called sara_pets, passing the all_cats list as an argument.\n",
    "\n",
    "\n",
    "# Step 4: Take Cats for a Walk\n",
    "\n",
    "# Call the walk() method on the sara_pets instance.\n",
    "# This should print the result of calling the walk() method on each cat in the list.\n",
    "\n",
    "class Pets():\n",
    "    def __init__(self, animals):\n",
    "        self.animals = animals\n",
    "\n",
    "    def walk(self):\n",
    "        for animal in self.animals:\n",
    "            print(animal.walk())\n",
    "\n",
    "class Cat():\n",
    "    is_lazy = True\n",
    "\n",
    "    def __init__(self, name, age):\n",
    "        self.name = name\n",
    "        self.age = age\n",
    "\n",
    "    def walk(self):\n",
    "        return f'{self.name} is just walking around'\n",
    "\n",
    "class Bengal(Cat):\n",
    "    def sing(self, sounds):\n",
    "        return f'{sounds}'\n",
    "\n",
    "class Chartreux(Cat):\n",
    "    def sing(self, sounds):\n",
    "        return f'{sounds}'\n",
    "    \n",
    "class Siamese(Cat) : \n",
    "    def sing(self, sounds):\n",
    "        return f'{sounds}'\n",
    "    \n",
    "all_cats = [Bengal(\"jinx\", 5), Chartreux(\"mess\", 3), Siamese(\"turtle\", 6)]\n",
    "\n",
    "sara_pets = Pets(all_cats)\n",
    "sara_pets.walk()"
   ]
  }
 ],
 "metadata": {
  "kernelspec": {
   "display_name": "base",
   "language": "python",
   "name": "python3"
  },
  "language_info": {
   "codemirror_mode": {
    "name": "ipython",
    "version": 3
   },
   "file_extension": ".py",
   "mimetype": "text/x-python",
   "name": "python",
   "nbconvert_exporter": "python",
   "pygments_lexer": "ipython3",
   "version": "3.11.4"
  }
 },
 "nbformat": 4,
 "nbformat_minor": 5
}
