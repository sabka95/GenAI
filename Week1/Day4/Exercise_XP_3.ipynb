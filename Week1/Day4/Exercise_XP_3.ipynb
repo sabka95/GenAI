{
 "cells": [
  {
   "cell_type": "markdown",
   "id": "950a8ba3",
   "metadata": {},
   "source": [
    "🌟 Exercise 3: Dogs Domesticated"
   ]
  },
  {
   "cell_type": "code",
   "execution_count": 3,
   "id": "75318938",
   "metadata": {},
   "outputs": [
    {
     "name": "stdout",
     "output_type": "stream",
     "text": [
      "is barking\n",
      "150.0\n",
      "rex won the fight\n",
      "is barking\n",
      "all play together\n",
      "Fido shakes your hand\n"
     ]
    }
   ],
   "source": [
    "# Goal: Create a PetDog class that inherits from Dog and adds training and tricks.\n",
    "\n",
    "# Instructions:\n",
    "\n",
    "# Step 1: Import the Dog Class\n",
    "\n",
    "# In a new Python file, import the Dog class from the previous exercise.\n",
    "\n",
    "\n",
    "# Step 2: Create the PetDog Class\n",
    "\n",
    "# Create a class called PetDog that inherits from the Dog class.\n",
    "# Add a trained attribute to the __init__ method, with a default value of False.\n",
    "# trained means that the dog is trained to do some tricks.\n",
    "# Implement a train() method that prints the output of bark() and sets trained to True.\n",
    "# Implement a play(*args) method that prints “ all play together”.\n",
    "# *args on this method is a list of dog instances.\n",
    "# Implement a do_a_trick() method that prints a random trick if trained is True.\n",
    "# Use this list for the ramdom tricks:\n",
    "# tricks = [\"does a barrel roll\", \"stands on his back legs\", \"shakes your hand\", \"plays dead\"]\n",
    "# Choose a rendom index from it each time the method is called.\n",
    "\n",
    "\n",
    "# Step 3: Test PetDog Methods\n",
    "\n",
    "# Create instances of the PetDog class and test the train(), play(*args), and do_a_trick() methods.\n",
    "\n",
    "# In a new file\n",
    "# import the Dog class\n",
    "\n",
    "from dog import Dog\n",
    "import random\n",
    "\n",
    "class PetDog(Dog):\n",
    "    def __init__(self, name, age, weight): #<mark> no need to put the details in the function, you are giving the solution</mark>\n",
    "        super().__init__(name, age, weight)\n",
    "        self.trained = False\n",
    "\n",
    "    def train(self): #<mark> no need to put the details in the function, you are giving the solution</mark>\n",
    "        print(self.bark())\n",
    "        self.trained = True\n",
    "\n",
    "    def play(self, *args):\n",
    "        # ... code to print play message ...\n",
    "        print(\"all play together\")\n",
    "\n",
    "    def do_a_trick(self): #<mark> no need to put the details in the function, you are giving the solution</mark>\n",
    "        if self.trained:\n",
    "            tricks = [\"does a barrel roll\", \"stands on his back legs\", \"shakes your hand\", \"plays dead\"]\n",
    "            print(f\"{self.name} {random.choice(tricks)}\")\n",
    "\n",
    "# Test PetDog methods\n",
    "my_dog = PetDog(\"Fido\", 2, 10)\n",
    "my_dog.train()\n",
    "my_dog.play(\"Buddy\", \"Max\")\n",
    "my_dog.do_a_trick()"
   ]
  }
 ],
 "metadata": {
  "kernelspec": {
   "display_name": "base",
   "language": "python",
   "name": "python3"
  },
  "language_info": {
   "codemirror_mode": {
    "name": "ipython",
    "version": 3
   },
   "file_extension": ".py",
   "mimetype": "text/x-python",
   "name": "python",
   "nbconvert_exporter": "python",
   "pygments_lexer": "ipython3",
   "version": "3.11.4"
  }
 },
 "nbformat": 4,
 "nbformat_minor": 5
}
