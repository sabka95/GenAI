{
 "cells": [
  {
   "cell_type": "markdown",
   "id": "a65903f3",
   "metadata": {},
   "source": [
    "🌟 Exercise 2: Dogs"
   ]
  },
  {
   "cell_type": "code",
   "execution_count": 11,
   "id": "cd283920",
   "metadata": {},
   "outputs": [
    {
     "name": "stdout",
     "output_type": "stream",
     "text": [
      "is barking\n",
      "150.0\n",
      "rex won the fight\n"
     ]
    }
   ],
   "source": [
    "# Goal: Create a Dog class with methods for barking, running speed, and fighting.\n",
    "\n",
    "# Instructions:\n",
    "\n",
    "# Step 1: Create the Dog Class\n",
    "\n",
    "# Create a class called Dog with name, age, and weight attributes.\n",
    "# Implement a bark() method that returns “ is barking”.\n",
    "# Implement a run_speed() method that returns weight / age * 10.\n",
    "# Implement a fight(other_dog) method that returns a string indicating which dog won the fight, based on run_speed * weight.\n",
    "\n",
    "\n",
    "# Step 2: Create Dog Instances\n",
    "\n",
    "# Create three instances of the Dog class with different names, ages, and weights.\n",
    "\n",
    "\n",
    "# Step 3: Test Dog Methods\n",
    "\n",
    "# Call the bark(), run_speed(), and fight() methods on the dog instances to test their functionality.\n",
    "\n",
    "class Dog:\n",
    "    def __init__(self, name, age, weight):\n",
    "        # ... code to initialize attributes ...\n",
    "        self.name = name\n",
    "        self.age = age\n",
    "        self.weight = weight\n",
    "\n",
    "    def bark(self):\n",
    "        # ... code to return bark message ...\n",
    "        return \"is barking\"\n",
    "\n",
    "    def run_speed(self):\n",
    "        # ... code to return run speed ...\n",
    "        return self.weight / self.age * 10\n",
    "\n",
    "    def fight(self, other_dog):\n",
    "        # ... code to determine and return winner ...\n",
    "        if other_dog.run_speed() > self.run_speed() :\n",
    "            return f\"{other_dog.name} won the fight\"\n",
    "        else : \n",
    "            return f\"{self.name} won the fight\"\n",
    "\n",
    "# Step 2: Create dog instances\n",
    "#... your code here\n",
    "dog1 = Dog(\"rex\", 5, 75)\n",
    "dog2 = Dog(\"plume\", 2, 30)\n",
    "dog3 = Dog(\"teeth\", 6, 90)\n",
    "\n",
    "# Step 3: Test dog methods\n",
    "print(dog1.bark())\n",
    "print(dog2.run_speed())\n",
    "print(dog1.fight(dog2))"
   ]
  }
 ],
 "metadata": {
  "kernelspec": {
   "display_name": "base",
   "language": "python",
   "name": "python3"
  },
  "language_info": {
   "codemirror_mode": {
    "name": "ipython",
    "version": 3
   },
   "file_extension": ".py",
   "mimetype": "text/x-python",
   "name": "python",
   "nbconvert_exporter": "python",
   "pygments_lexer": "ipython3",
   "version": "3.11.4"
  }
 },
 "nbformat": 4,
 "nbformat_minor": 5
}
