{
 "cells": [
  {
   "cell_type": "markdown",
   "id": "dab91c14",
   "metadata": {},
   "source": [
    "Exercice 1 "
   ]
  },
  {
   "cell_type": "code",
   "execution_count": 1,
   "id": "ec569252",
   "metadata": {},
   "outputs": [
    {
     "name": "stdout",
     "output_type": "stream",
     "text": [
      "Welcome !\n",
      "You can look up the birthdays of the people in the list!\n",
      "tom' birthday is 2001/21/01\n"
     ]
    }
   ],
   "source": [
    "birthday = {}\n",
    "\n",
    "birthday[\"sabri\"] = \"2001/11/11\"\n",
    "birthday[\"tom\"] = \"2001/21/01\"\n",
    "birthday[\"mathieu\"] = \"2011/05/16\"\n",
    "birthday[\"tim\"] = \"1998/09/22\"\n",
    "birthday[\"julien\"] = \"1967/09/02\"\n",
    "\n",
    "print(\"Welcome !\")\n",
    "print(\"You can look up the birthdays of the people in the list!\")\n",
    "\n",
    "name = input(\"Enter a name\")\n",
    "\n",
    "birthday_date = birthday[name]\n",
    "\n",
    "print(f\"{name}' birthday is {birthday_date}\")"
   ]
  },
  {
   "cell_type": "markdown",
   "id": "8ef197f0",
   "metadata": {},
   "source": [
    "Exercise 2: Birthdays Advanced"
   ]
  },
  {
   "cell_type": "code",
   "execution_count": 4,
   "id": "959f6a6b",
   "metadata": {},
   "outputs": [
    {
     "name": "stdout",
     "output_type": "stream",
     "text": [
      "Welcome !\n",
      "You can look up the birthdays of the people in the list!\n",
      "sabri, tom, mathieu, tim, julien\n",
      "Sorry, we don’t have the birthday information for frederic\n"
     ]
    }
   ],
   "source": [
    "birthday = {}\n",
    "\n",
    "birthday[\"sabri\"] = \"2001/11/11\"\n",
    "birthday[\"tom\"] = \"2001/21/01\"\n",
    "birthday[\"mathieu\"] = \"2011/05/16\"\n",
    "birthday[\"tim\"] = \"1998/09/22\"\n",
    "birthday[\"julien\"] = \"1967/09/02\"\n",
    "\n",
    "print(\"Welcome !\")\n",
    "print(\"You can look up the birthdays of the people in the list!\")\n",
    "print(\", \".join(birthday.keys()))\n",
    "\n",
    "name = input(\"Enter a name\")\n",
    "\n",
    "if name not in birthday.keys() : \n",
    "    print(f\"Sorry, we don’t have the birthday information for {name}\")\n",
    "else : \n",
    "    birthday_date = birthday[name]\n",
    "    print(f\"{name}' birthday is {birthday_date}\")\n"
   ]
  },
  {
   "cell_type": "markdown",
   "id": "817d1bce",
   "metadata": {},
   "source": [
    "Exercise 3: Check the index"
   ]
  },
  {
   "cell_type": "code",
   "execution_count": 5,
   "id": "b98d9ceb",
   "metadata": {},
   "outputs": [
    {
     "name": "stdout",
     "output_type": "stream",
     "text": [
      "1\n"
     ]
    }
   ],
   "source": [
    "names = ['Samus', 'Cortana', 'V', 'Link', 'Mario', 'Cortana', 'Samus']\n",
    "\n",
    "name = input(\"Enter a name\")\n",
    "\n",
    "if name in names : \n",
    "    print(names.index(name))\n"
   ]
  },
  {
   "cell_type": "markdown",
   "id": "1a3abe2d",
   "metadata": {},
   "source": [
    "Exercice 4 "
   ]
  },
  {
   "cell_type": "code",
   "execution_count": 8,
   "id": "89ad3303",
   "metadata": {},
   "outputs": [
    {
     "name": "stdout",
     "output_type": "stream",
     "text": [
      "(1, 1)\n",
      "(6, 6)\n",
      "(4, 4)\n",
      "(6, 6)\n",
      "(6, 6)\n",
      "(3, 3)\n",
      "(6, 6)\n",
      "(2, 2)\n",
      "(5, 5)\n",
      "(2, 2)\n",
      "(2, 2)\n",
      "(5, 5)\n",
      "(5, 5)\n",
      "(6, 6)\n",
      "(1, 1)\n",
      "(4, 4)\n",
      "(2, 2)\n",
      "(3, 3)\n",
      "(3, 3)\n",
      "(4, 4)\n",
      "(4, 4)\n",
      "(2, 2)\n",
      "(2, 2)\n",
      "(2, 2)\n",
      "(6, 6)\n",
      "(3, 3)\n",
      "(5, 5)\n",
      "(4, 4)\n",
      "(6, 6)\n",
      "(4, 4)\n",
      "(1, 1)\n",
      "(2, 2)\n",
      "(2, 2)\n",
      "(2, 2)\n",
      "(6, 6)\n",
      "(6, 6)\n",
      "(6, 6)\n",
      "(6, 6)\n",
      "(3, 3)\n",
      "(1, 1)\n",
      "(1, 1)\n",
      "(2, 2)\n",
      "(1, 1)\n",
      "(1, 1)\n",
      "(1, 1)\n",
      "(5, 5)\n",
      "(5, 5)\n",
      "(6, 6)\n",
      "(1, 1)\n",
      "(5, 5)\n",
      "(4, 4)\n",
      "(1, 1)\n",
      "(1, 1)\n",
      "(3, 3)\n",
      "(5, 5)\n",
      "(2, 2)\n",
      "(1, 1)\n",
      "(5, 5)\n",
      "(4, 4)\n",
      "(6, 6)\n",
      "(4, 4)\n",
      "(3, 3)\n",
      "(2, 2)\n",
      "(2, 2)\n",
      "(4, 4)\n",
      "(1, 1)\n",
      "(2, 2)\n",
      "(1, 1)\n",
      "(6, 6)\n",
      "(1, 1)\n",
      "(1, 1)\n",
      "(3, 3)\n",
      "(3, 3)\n",
      "(6, 6)\n",
      "(5, 5)\n",
      "(3, 3)\n",
      "(3, 3)\n",
      "(1, 1)\n",
      "(4, 4)\n",
      "(5, 5)\n",
      "(2, 2)\n",
      "(3, 3)\n",
      "(5, 5)\n",
      "(2, 2)\n",
      "(5, 5)\n",
      "(6, 6)\n",
      "(5, 5)\n",
      "(3, 3)\n",
      "(5, 5)\n",
      "(3, 3)\n",
      "(5, 5)\n",
      "(5, 5)\n",
      "(3, 3)\n",
      "(5, 5)\n",
      "(6, 6)\n",
      "(5, 5)\n",
      "(3, 3)\n",
      "(4, 4)\n",
      "(2, 2)\n",
      "(4, 4)\n",
      "Total throws: 552\n",
      "Average throws to reach doubles : 5.52\n"
     ]
    }
   ],
   "source": [
    "import random\n",
    "\n",
    "def throw_dice() : \n",
    "    return random.randint(1,6)\n",
    "\n",
    "\n",
    "def throw_until_doubles() : \n",
    "    number1 = 0\n",
    "    number2 = 1\n",
    "    i = 0\n",
    "\n",
    "    while number1 != number2 :\n",
    "        i+=1\n",
    "        number1 = throw_dice()\n",
    "        number2 = throw_dice()\n",
    "        \n",
    "    numbers = (number1, number2)   \n",
    "\n",
    "    return numbers, i\n",
    "\n",
    "def main() : \n",
    "    tentatives = 0\n",
    "    for i in range(100) : \n",
    "        nums, result = throw_until_doubles()\n",
    "        print(nums)\n",
    "        tentatives += result \n",
    "    \n",
    "    print(f\"Total throws: {tentatives}\")\n",
    "    print(f\"Average throws to reach doubles : {tentatives/100}\")\n",
    "\n",
    "main()\n"
   ]
  }
 ],
 "metadata": {
  "kernelspec": {
   "display_name": "base",
   "language": "python",
   "name": "python3"
  },
  "language_info": {
   "codemirror_mode": {
    "name": "ipython",
    "version": 3
   },
   "file_extension": ".py",
   "mimetype": "text/x-python",
   "name": "python",
   "nbconvert_exporter": "python",
   "pygments_lexer": "ipython3",
   "version": "3.11.4"
  }
 },
 "nbformat": 4,
 "nbformat_minor": 5
}
