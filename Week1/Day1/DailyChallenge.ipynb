{
 "cells": [
  {
   "cell_type": "markdown",
   "id": "72ba0b87",
   "metadata": {},
   "source": [
    "Challenge 1 "
   ]
  },
  {
   "cell_type": "code",
   "execution_count": 1,
   "id": "e4034771",
   "metadata": {},
   "outputs": [
    {
     "name": "stdout",
     "output_type": "stream",
     "text": [
      "number: 5 - length 6 -> [5, 10, 15, 20, 25, 30]\n"
     ]
    }
   ],
   "source": [
    "# 1. Ask the user for a number and a length.\n",
    "# 2. Create a program that prints a list of multiples of the number until the list length reaches length.\n",
    "# Examples\n",
    "\n",
    "\n",
    "\n",
    "# number: 7 - length 5 ➞ [7, 14, 21, 28, 35]\n",
    "\n",
    "# number: 12 - length 10 ➞ [12, 24, 36, 48, 60, 72, 84, 96, 108, 120]\n",
    "\n",
    "# number: 17 - length 6 ➞ [17, 34, 51, 68, 85, 102]\n",
    "\n",
    "\n",
    "number = int(input(\"Enter a number :\"))\n",
    "length = int(input(\"Enter a length :\"))\n",
    "\n",
    "liste = list()\n",
    "\n",
    "for i in range(length) : \n",
    "\n",
    "    liste.append(number*(i+1))\n",
    "\n",
    "print(f\"number: {number} - length {length} -> {liste}\")"
   ]
  },
  {
   "cell_type": "markdown",
   "id": "8190acc8",
   "metadata": {},
   "source": [
    "Challenge 2 "
   ]
  },
  {
   "cell_type": "code",
   "execution_count": 2,
   "id": "530cde39",
   "metadata": {},
   "outputs": [
    {
     "name": "stdout",
     "output_type": "stream",
     "text": [
      "user's word : ppppaaaaatttttaaaaattteeee -> patate\n"
     ]
    }
   ],
   "source": [
    "\n",
    "# Write a program that asks a string to the user, and display a new string with any duplicate consecutive letters removed.\n",
    "\n",
    "# Examples\n",
    "\n",
    "# user's word : \"ppoeemm\" ➞ \"poem\"\n",
    "\n",
    "# user's word : \"wiiiinnnnd\" ➞ \"wind\"\n",
    "\n",
    "# user's word : \"ttiiitllleeee\" ➞ \"title\"\n",
    "\n",
    "# user's word : \"cccccaaarrrbbonnnnn\" ➞ \"carbon\"\n",
    "\n",
    "\n",
    "word = list(input(\"Enter a word :\"))\n",
    "new_word = list()\n",
    "\n",
    "for i in range(len(word)-1) : \n",
    "   \n",
    "    if word[i] != word[i+1] : \n",
    "        new_word.append(word[i])\n",
    "\n",
    "new_word.append(word[-1])\n",
    "\n",
    "word = \"\".join(word)\n",
    "new_word = \"\".join(new_word)\n",
    "\n",
    "print(f\"user's word : {word} -> {new_word}\")"
   ]
  }
 ],
 "metadata": {
  "kernelspec": {
   "display_name": "base",
   "language": "python",
   "name": "python3"
  },
  "language_info": {
   "codemirror_mode": {
    "name": "ipython",
    "version": 3
   },
   "file_extension": ".py",
   "mimetype": "text/x-python",
   "name": "python",
   "nbconvert_exporter": "python",
   "pygments_lexer": "ipython3",
   "version": "3.11.4"
  }
 },
 "nbformat": 4,
 "nbformat_minor": 5
}
