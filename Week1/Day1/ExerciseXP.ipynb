{
 "cells": [
  {
   "cell_type": "markdown",
   "id": "17c42bcb",
   "metadata": {},
   "source": [
    "Exercice 1 : Hello World"
   ]
  },
  {
   "cell_type": "code",
   "execution_count": 21,
   "id": "8571b42d",
   "metadata": {},
   "outputs": [
    {
     "name": "stdout",
     "output_type": "stream",
     "text": [
      "Hello world\n",
      "Hello world\n",
      "Hello world\n",
      "Hello world\n"
     ]
    }
   ],
   "source": [
    "# Print the following output in one line of code:\n",
    "\n",
    "# Hello world\n",
    "# Hello world\n",
    "# Hello world\n",
    "# Hello world\n",
    "\n",
    "for i in range(4) : print(\"Hello world\")"
   ]
  },
  {
   "cell_type": "markdown",
   "id": "10ea62fb",
   "metadata": {},
   "source": [
    "Exercice 2 : Some Math"
   ]
  },
  {
   "cell_type": "code",
   "execution_count": 3,
   "id": "dc997f11",
   "metadata": {},
   "outputs": [
    {
     "name": "stdout",
     "output_type": "stream",
     "text": [
      "7762392\n"
     ]
    }
   ],
   "source": [
    "# Write code that calculates the result of: (99^3)*8 (meaning 99 to the power of 3, times 8).\n",
    "\n",
    "print((99**3)*8)"
   ]
  },
  {
   "cell_type": "markdown",
   "id": "2b12acd7",
   "metadata": {},
   "source": [
    "🌟 Exercise 3 : What’s your name ?"
   ]
  },
  {
   "cell_type": "code",
   "execution_count": 7,
   "id": "d4d6f0eb",
   "metadata": {},
   "outputs": [
    {
     "name": "stdout",
     "output_type": "stream",
     "text": [
      "Awesome we have the same name !!!\n"
     ]
    }
   ],
   "source": [
    "# Write code that asks the user for their name and determines whether or not you have the same name, print out a funny message based on the outcome.\n",
    "\n",
    "name = input(\"Enter your name : \")\n",
    "my_name = \"sabri\"\n",
    "\n",
    "if name == my_name : \n",
    "    print(\"Awesome we have the same name !!!\")\n",
    "\n",
    "else :\n",
    "    print(\"Your name sucks\")"
   ]
  },
  {
   "cell_type": "markdown",
   "id": "a764dae4",
   "metadata": {},
   "source": [
    "🌟 Exercise 4 : Tall enough to ride a roller coaster"
   ]
  },
  {
   "cell_type": "code",
   "execution_count": 23,
   "id": "8a4420c3",
   "metadata": {},
   "outputs": [
    {
     "name": "stdout",
     "output_type": "stream",
     "text": [
      "You need to grow some more to ride\n"
     ]
    }
   ],
   "source": [
    "# Write code that will ask the user for their height in centimeters.\n",
    "# If they are over 145cm print a message that states they are tall enough to ride.\n",
    "# If they are not tall enough print a message that says they need to grow some more to ride.\n",
    "\n",
    "height = int(input(\"Enter your height in cm : \"))\n",
    "\n",
    "if height > 145 : \n",
    "    print(\"You are tall enough to ride a roller coaster !!!\")\n",
    "else : \n",
    "    print(\"You need to grow some more to ride\")"
   ]
  },
  {
   "cell_type": "markdown",
   "id": "c267d078",
   "metadata": {},
   "source": [
    "🌟 Exercise 5 : Favorite Numbers"
   ]
  },
  {
   "cell_type": "code",
   "execution_count": 49,
   "id": "a83189d8",
   "metadata": {},
   "outputs": [
    {
     "name": "stdout",
     "output_type": "stream",
     "text": [
      "{64, 65, 2, 3, 5, 6, 7, 8, 9, 13, 84, 20, 87}\n"
     ]
    }
   ],
   "source": [
    "# Instructions:\n",
    "\n",
    "# Create a set called my_fav_numbers and populate it with your favorite numbers.\n",
    "# Add two new numbers to the set.\n",
    "# Remove the last number you added to the set.\n",
    "# Create another set called friend_fav_numbers and populate it with your friend’s favorite numbers.\n",
    "# Concatenate my_fav_numbers and friend_fav_numbers to create a new set called our_fav_numbers.\n",
    "\n",
    "my_fav_numbers = {5, 8, 7, 3, 84, 64}\n",
    "\n",
    "my_fav_numbers.update([20, 36])\n",
    "\n",
    "my_fav_numbers.remove(36)\n",
    "\n",
    "friend_fav_numbers = {6, 9, 65, 2, 13, 87}\n",
    "\n",
    "our_fav_numbers = my_fav_numbers.union(friend_fav_numbers)\n",
    "\n",
    "print(our_fav_numbers)"
   ]
  },
  {
   "cell_type": "markdown",
   "id": "b6d5eb63",
   "metadata": {},
   "source": [
    "🌟 Exercise 6: Tuple"
   ]
  },
  {
   "cell_type": "code",
   "execution_count": 52,
   "id": "1067c7dd",
   "metadata": {},
   "outputs": [
    {
     "ename": "AttributeError",
     "evalue": "'tuple' object has no attribute 'update'",
     "output_type": "error",
     "traceback": [
      "\u001b[1;31m---------------------------------------------------------------------------\u001b[0m",
      "\u001b[1;31mAttributeError\u001b[0m                            Traceback (most recent call last)",
      "Cell \u001b[1;32mIn[52], line 8\u001b[0m\n\u001b[0;32m      1\u001b[0m \u001b[38;5;66;03m# Instructions:\u001b[39;00m\n\u001b[0;32m      2\u001b[0m \n\u001b[0;32m      3\u001b[0m \u001b[38;5;66;03m# Given a tuple of integers, try to add more integers to the tuple.\u001b[39;00m\n\u001b[0;32m      4\u001b[0m \u001b[38;5;66;03m# Hint: Tuples are immutable, meaning they cannot be changed after creation. Think about why you can’t add more integers to a tuple.\u001b[39;00m\n\u001b[0;32m      6\u001b[0m numbers \u001b[38;5;241m=\u001b[39m (\u001b[38;5;241m6\u001b[39m, \u001b[38;5;241m8\u001b[39m, \u001b[38;5;241m2\u001b[39m, \u001b[38;5;241m9\u001b[39m, \u001b[38;5;241m3\u001b[39m)\n\u001b[1;32m----> 8\u001b[0m numbers\u001b[38;5;241m.\u001b[39mupdate([\u001b[38;5;241m30\u001b[39m, \u001b[38;5;241m20\u001b[39m])\n",
      "\u001b[1;31mAttributeError\u001b[0m: 'tuple' object has no attribute 'update'"
     ]
    }
   ],
   "source": [
    "# Instructions:\n",
    "\n",
    "# Given a tuple of integers, try to add more integers to the tuple.\n",
    "# Hint: Tuples are immutable, meaning they cannot be changed after creation. Think about why you can’t add more integers to a tuple.\n",
    "\n",
    "numbers = (6, 8, 2, 9, 3)\n",
    "\n",
    "numbers.update([30, 20])"
   ]
  },
  {
   "cell_type": "markdown",
   "id": "188b3adb",
   "metadata": {},
   "source": [
    "🌟 Exercise 7: List Manipulation"
   ]
  },
  {
   "cell_type": "code",
   "execution_count": 53,
   "id": "56918a74",
   "metadata": {},
   "outputs": [
    {
     "name": "stdout",
     "output_type": "stream",
     "text": [
      "2\n",
      "[]\n"
     ]
    }
   ],
   "source": [
    "# Instructions:\n",
    "\n",
    "# You have a list: basket = [\"Banana\", \"Apples\", \"Oranges\", \"Blueberries\"]\n",
    "# Remove \"Banana\" from the list.\n",
    "# Remove \"Blueberries\" from the list.\n",
    "# Add \"Kiwi\" to the end of the list.\n",
    "# Add \"Apples\" to the beginning of the list.\n",
    "# Count how many times \"Apples\" appear in the list.\n",
    "# Empty the list.\n",
    "# Print the final state of the list.\n",
    "\n",
    "basket = [\"Banana\", \"Apples\", \"Oranges\", \"Blueberries\"]\n",
    "\n",
    "basket.remove(\"Banana\")\n",
    "basket.remove(\"Blueberries\")\n",
    "basket.append(\"Kiwi\")\n",
    "basket.append(\"Apples\")\n",
    "print(basket.count(\"Apples\"))\n",
    "basket.clear()\n",
    "print(basket)\n"
   ]
  },
  {
   "cell_type": "markdown",
   "id": "2cec0fbb",
   "metadata": {},
   "source": [
    "🌟 Exercise 8 : Sandwich Orders"
   ]
  },
  {
   "cell_type": "code",
   "execution_count": 61,
   "id": "d1a8b856",
   "metadata": {},
   "outputs": [
    {
     "name": "stdout",
     "output_type": "stream",
     "text": [
      "['Tuna sandwich', 'Avocado sandwich', 'Egg sandwich', 'Chicken sandwich']\n",
      "I made your Tuna sandwich\n",
      "I made your Avocado sandwich\n",
      "I made your Egg sandwich\n",
      "I made your Chicken sandwich\n"
     ]
    }
   ],
   "source": [
    "# Using the list below :\n",
    "\n",
    "# sandwich_orders = [\"Tuna sandwich\", \"Pastrami sandwich\", \"Avocado sandwich\", \"Pastrami sandwich\", \"Egg sandwich\", \"Chicken sandwich\", \"Pastrami sandwich\"].\n",
    "\n",
    "# The deli has run out of pastrami, use a while loop to remove all occurrences of Pastrami sandwich from sandwich_orders.\n",
    "# We need to prepare the orders of the clients:\n",
    "\n",
    "# Create an empty list called finished_sandwiches.\n",
    "\n",
    "# One by one, remove each sandwich from the sandwich_orders while adding them to the finished_sandwiches list.\n",
    "# After all the sandwiches have been made, print a message listing each sandwich that was made, such as:\n",
    "\n",
    "\n",
    "# I made your tuna sandwich\n",
    "# I made your avocado sandwich\n",
    "# I made your egg sandwich\n",
    "# I made your chicken sandwich\n",
    "\n",
    "sandwich_orders = [\"Tuna sandwich\", \"Pastrami sandwich\", \"Avocado sandwich\", \"Pastrami sandwich\", \"Egg sandwich\", \"Chicken sandwich\", \"Pastrami sandwich\"]\n",
    "\n",
    "while \"Pastrami sandwich\" in sandwich_orders : \n",
    "    sandwich_orders.remove(\"Pastrami sandwich\")\n",
    "\n",
    "print(sandwich_orders)\n",
    "finished_sandwiches = list()\n",
    "\n",
    "while sandwich_orders : \n",
    "    sandwich = sandwich_orders.pop(0)\n",
    "    finished_sandwiches.append(sandwich)\n",
    "\n",
    "for i in finished_sandwiches : \n",
    "    print(f\"I made your {i}\")\n"
   ]
  }
 ],
 "metadata": {
  "kernelspec": {
   "display_name": "base",
   "language": "python",
   "name": "python3"
  },
  "language_info": {
   "codemirror_mode": {
    "name": "ipython",
    "version": 3
   },
   "file_extension": ".py",
   "mimetype": "text/x-python",
   "name": "python",
   "nbconvert_exporter": "python",
   "pygments_lexer": "ipython3",
   "version": "3.11.4"
  }
 },
 "nbformat": 4,
 "nbformat_minor": 5
}
