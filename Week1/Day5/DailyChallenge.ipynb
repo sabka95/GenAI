{
 "cells": [
  {
   "cell_type": "code",
   "execution_count": 19,
   "id": "046766ad",
   "metadata": {},
   "outputs": [
    {
     "name": "stdout",
     "output_type": "stream",
     "text": [
      "Radius : 12, Area : 452.3893421169302\n",
      "cercle1 < cercle2 :  True\n",
      "cercle1 > cercle2 :  False\n",
      "cercle1 = cercle2 :  False\n",
      "Radius : 5, Area : 78.53981633974483\n",
      "Radius : 7, Area : 153.93804002589985\n",
      "Radius : 12, Area : 452.3893421169302\n"
     ]
    }
   ],
   "source": [
    "# Instructions :\n",
    "# The goal is to create a class that represents a simple circle.\n",
    "# A Circle can be defined by either specifying the radius or the diameter.\n",
    "# The user can query the circle for either its radius or diameter.\n",
    "\n",
    "# Other abilities of a Circle instance:\n",
    "\n",
    "# Compute the circle’s area\n",
    "# Print the attributes of the circle - use a dunder method\n",
    "# Be able to add two circles together, and return a new circle with the new radius - use a dunder method\n",
    "# Be able to compare two circles to see which is bigger, and return a Boolean - use a dunder method\n",
    "# Be able to compare two circles and see if there are equal, and return a Boolean- use a dunder method\n",
    "# Be able to put them in a list and sort them\n",
    "# Bonus (not mandatory) : Install the Turtle module, and draw the sorted circles\n",
    "import math\n",
    "\n",
    "class circle :\n",
    "    \n",
    "    def __init__(self, *, radius = None, diameter = None) :\n",
    "        \n",
    "        if radius is not None : \n",
    "            self.radius = radius\n",
    "        if diameter is not None : \n",
    "            self.radius = diameter / 2\n",
    "\n",
    "    def  circle_area(self) :\n",
    "        \n",
    "        self.area = math.pi*self.radius**2\n",
    "    \n",
    "    def __repr__(self) :\n",
    "        return f\"Radius : {self.radius}, Area : {self.area}\"\n",
    "\n",
    "    def __add__(self, other) :\n",
    "        \n",
    "        return circle(radius = self.radius + other.radius)\n",
    "    \n",
    "    def __lt__(self, other) : \n",
    "\n",
    "        return self.radius < other.radius\n",
    "    \n",
    "    def __gt__(self, other) :\n",
    "\n",
    "        return self.radius > other.radius\n",
    "    \n",
    "    def __eq__(self, other) :\n",
    "\n",
    "        return self.radius == other.radius\n",
    "\n",
    "    \n",
    "\n",
    "cercle1 = circle(radius = 5)\n",
    "cercle1.circle_area()\n",
    "cercle2 = circle(radius = 7)\n",
    "cercle2.circle_area()\n",
    "cercle3 = cercle1 + cercle2\n",
    "cercle3.circle_area()\n",
    "print(cercle3)\n",
    "print(\"cercle1 < cercle2 : \", cercle1 < cercle2)\n",
    "print(\"cercle1 > cercle2 : \", cercle1 > cercle2)\n",
    "print(\"cercle1 = cercle2 : \", cercle1 == cercle2)\n",
    "\n",
    "circles_list = [cercle2, cercle1, cercle3]\n",
    "cirlces_list_sorted = sorted(circles_list)\n",
    "\n",
    "for cirlce in cirlces_list_sorted : \n",
    "    print(cirlce)\n",
    "\n",
    "\n",
    "\n",
    "\n"
   ]
  }
 ],
 "metadata": {
  "kernelspec": {
   "display_name": "base",
   "language": "python",
   "name": "python3"
  },
  "language_info": {
   "codemirror_mode": {
    "name": "ipython",
    "version": 3
   },
   "file_extension": ".py",
   "mimetype": "text/x-python",
   "name": "python",
   "nbconvert_exporter": "python",
   "pygments_lexer": "ipython3",
   "version": "3.11.4"
  }
 },
 "nbformat": 4,
 "nbformat_minor": 5
}
