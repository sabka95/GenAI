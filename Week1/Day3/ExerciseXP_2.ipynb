{
 "cells": [
  {
   "cell_type": "markdown",
   "id": "97d970fa",
   "metadata": {},
   "source": [
    "🌟 Exercise 2 : Dogs"
   ]
  },
  {
   "cell_type": "code",
   "execution_count": 1,
   "id": "79531c88",
   "metadata": {},
   "outputs": [
    {
     "name": "stdout",
     "output_type": "stream",
     "text": [
      "david's dog name is rex, and is  100 cm tall\n",
      "sarah's dog name is sugar, and is  105 cm tall\n",
      "goes woof!\n",
      "jumps 200 cm high!\n",
      "goes woof!\n",
      "jumps 210 cm high!\n"
     ]
    }
   ],
   "source": [
    "# Goal: Create a Dog class, instantiate objects, call methods, and compare dog sizes.\n",
    "\n",
    "# Instructions:\n",
    "\n",
    "# Create a Dog class with methods for barking and jumping. Instantiate dog objects, call their methods, and compare their sizes.\n",
    "\n",
    "\n",
    "\n",
    "# Step 1: Create the Dog Class\n",
    "\n",
    "# Create a class called Dog.\n",
    "# In the __init__ method, take name and height as parameters and create corresponding attributes.\n",
    "# Create a bark() method that prints “ goes woof!”.\n",
    "# Create a jump() method that prints “ jumps cm high!”, where x is height * 2.\n",
    "\n",
    "\n",
    "# Step 2: Create Dog Objects\n",
    "\n",
    "# Create davids_dog and sarahs_dog objects with their respective names and heights.\n",
    "\n",
    "\n",
    "# Step 3: Print Dog Details and Call Methods\n",
    "\n",
    "# Print the name and height of each dog.\n",
    "# Call the bark() and jump() methods for each dog.\n",
    "\n",
    "\n",
    "# Step 4: Compare Dog Sizes\n",
    "\n",
    "class Dog: \n",
    "    def __init__(self, name, height):\n",
    "        self.name = name\n",
    "        self.height = height\n",
    "\n",
    "    def bark(self) : \n",
    "        print(\"goes woof!\")\n",
    "\n",
    "    def jump(self) : \n",
    "        print(f\"jumps {self.height * 2} cm high!\")\n",
    "\n",
    "davids_dog = Dog(\"rex\", 100)\n",
    "sarahs_dog = Dog(\"sugar\", 105)\n",
    "\n",
    "print(f\"david's dog name is {davids_dog.name}, and is  {davids_dog.height} cm tall\")\n",
    "print(f\"sarah's dog name is {sarahs_dog.name}, and is  {sarahs_dog.height} cm tall\")\n",
    "\n",
    "\n",
    "davids_dog.bark()\n",
    "davids_dog.jump()\n",
    "sarahs_dog.bark()\n",
    "sarahs_dog.jump()"
   ]
  }
 ],
 "metadata": {
  "kernelspec": {
   "display_name": "base",
   "language": "python",
   "name": "python3"
  },
  "language_info": {
   "codemirror_mode": {
    "name": "ipython",
    "version": 3
   },
   "file_extension": ".py",
   "mimetype": "text/x-python",
   "name": "python",
   "nbconvert_exporter": "python",
   "pygments_lexer": "ipython3",
   "version": "3.11.4"
  }
 },
 "nbformat": 4,
 "nbformat_minor": 5
}
