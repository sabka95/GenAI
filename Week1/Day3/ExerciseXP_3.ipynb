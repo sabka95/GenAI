{
 "cells": [
  {
   "cell_type": "markdown",
   "id": "ea88a897",
   "metadata": {},
   "source": [
    "🌟 Exercise 3 : Who’s the song producer?"
   ]
  },
  {
   "cell_type": "code",
   "execution_count": 2,
   "id": "c81751de",
   "metadata": {},
   "outputs": [
    {
     "name": "stdout",
     "output_type": "stream",
     "text": [
      "There’s a lady who's sure\n",
      "all that glitters is gold\n",
      "and she’s buying a stairway to heaven\n"
     ]
    }
   ],
   "source": [
    "# Goal: Create a Song class to represent song lyrics and print them.\n",
    "\n",
    "# Instructions:\n",
    "\n",
    "# Create a Song class with a method to print song lyrics line by line.\n",
    "\n",
    "\n",
    "\n",
    "# Step 1: Create the Song Class\n",
    "\n",
    "# Create a class called Song.\n",
    "# In the __init__ method, take lyrics (a list) as a parameter and create a corresponding attribute.\n",
    "# Create a sing_me_a_song() method that prints each element of the lyrics list on a new line.\n",
    "\n",
    "\n",
    "# Example:\n",
    "\n",
    "# stairway = Song([\"There’s a lady who's sure\", \"all that glitters is gold\", \"and she’s buying a stairway to heaven\"]\n",
    "\n",
    "# Got it! Here’s the cleaned-up version of Exercise 4: Afternoon at the Zoo, with clear instructions and examples, but without showing the solution code inside the class methods.\n",
    "\n",
    "class Song:\n",
    "    def __init__(self, lyrics):\n",
    "        self.lyrics = lyrics\n",
    "    \n",
    "    def sing_me_a_song(self) :\n",
    "        for i in self.lyrics : \n",
    "            print(i, sep = ' \\n')\n",
    "\n",
    "stairway = Song([\"There’s a lady who's sure\", \"all that glitters is gold\", \"and she’s buying a stairway to heaven\"])\n",
    "stairway.sing_me_a_song()"
   ]
  }
 ],
 "metadata": {
  "kernelspec": {
   "display_name": "base",
   "language": "python",
   "name": "python3"
  },
  "language_info": {
   "codemirror_mode": {
    "name": "ipython",
    "version": 3
   },
   "file_extension": ".py",
   "mimetype": "text/x-python",
   "name": "python",
   "nbconvert_exporter": "python",
   "pygments_lexer": "ipython3",
   "version": "3.11.4"
  }
 },
 "nbformat": 4,
 "nbformat_minor": 5
}
