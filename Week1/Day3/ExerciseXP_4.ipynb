{
 "cells": [
  {
   "cell_type": "markdown",
   "id": "641c0a8c",
   "metadata": {},
   "source": [
    "🌟 Exercise 4 : Afternoon at the Zoo"
   ]
  },
  {
   "cell_type": "code",
   "execution_count": 1,
   "id": "e32247ac",
   "metadata": {},
   "outputs": [
    {
     "name": "stdout",
     "output_type": "stream",
     "text": [
      "animals currently in the zoo : \n",
      "Giraffe\n",
      "Bear\n",
      "Baboon\n",
      "animals currently in the zoo : \n",
      "Giraffe\n",
      "Baboon\n",
      "{'B': ['Baboon'], 'G': ['Giraffe', 'Gorilla']}\n"
     ]
    }
   ],
   "source": [
    "# Step 1: Define the Zoo Class\n",
    "# 1. Create a class called Zoo.\n",
    "\n",
    "# 2. Implement the __init__() method:\n",
    "\n",
    "# It takes a string parameter zoo_name, representing the name of the zoo.\n",
    "# Initialize an empty list called animals to keep track of animal names.\n",
    "# 3. Add a method add_animal(new_animal):\n",
    "\n",
    "# This method adds a new animal to the animals list.\n",
    "# Do not add the animal if it is already in the list.\n",
    "# 4. Add a method get_animals():\n",
    "\n",
    "# This method prints all animals currently in the zoo.\n",
    "# 5. Add a method sell_animal(animal_sold):\n",
    "\n",
    "# This method checks if a specified animal exists on the animals list and if so, remove from it.\n",
    "# 6. Add a method sort_animals():\n",
    "\n",
    "# This method sorts the animals alphabetically.\n",
    "# It also groups them by the first letter of their name.\n",
    "# The result should be a dictionary where:\n",
    "# Each key is a letter.\n",
    "# Each value is a list of animals that start with that letter.\n",
    "\n",
    "# 7. Add a method get_groups():\n",
    "\n",
    "# This method prints the grouped animals as created by sort_animals().\n",
    "\n",
    "# Step 2: Create a Zoo Object\n",
    "# Create an instance of the Zoo class and pass a name for the zoo.\n",
    "\n",
    "\n",
    "# Step 3: Call the Zoo Methods\n",
    "# Use the methods of your Zoo object to test adding, selling, displaying, sorting, and grouping animals\n",
    "\n",
    "\n",
    "class Zoo:\n",
    "    def __init__(self, zoo_name):\n",
    "        self.zoo_name = zoo_name\n",
    "        self.animals = list()\n",
    "\n",
    "    def add_animal(self, new_animal):\n",
    "        if new_animal not in self.animals : \n",
    "            self.animals.append(new_animal)\n",
    "\n",
    "    def get_animals(self):\n",
    "        print(\"animals currently in the zoo : \")\n",
    "        for i in self.animals : \n",
    "            print(f\"{i}\", sep = ' \\n')\n",
    "\n",
    "    def sell_animal(self, animal_sold):\n",
    "        if animal_sold in self.animals : \n",
    "            self.animals.remove(animal_sold)\n",
    "\n",
    "    def sort_animals(self):\n",
    "        self.animals.sort()\n",
    "        self.grouped_animals = {}\n",
    "\n",
    "        for animal in self.animals : \n",
    "            if animal[0] in self.grouped_animals.keys() : \n",
    "                self.grouped_animals[animal[0]].append(animal)\n",
    "            \n",
    "            else : \n",
    "                self.grouped_animals[animal[0]] = [animal]\n",
    "\n",
    "    def get_groups(self):\n",
    "        print(self.grouped_animals)\n",
    "\n",
    "# Step 2: Create a Zoo instance\n",
    "ramat_gan_safari = Zoo(\"Ramat Gan Safari\")\n",
    "\n",
    "# Step 3: Use the Zoo methods\n",
    "ramat_gan_safari.add_animal(\"Giraffe\")\n",
    "ramat_gan_safari.add_animal(\"Bear\")\n",
    "ramat_gan_safari.add_animal(\"Baboon\")\n",
    "ramat_gan_safari.get_animals()\n",
    "ramat_gan_safari.sell_animal(\"Bear\")\n",
    "ramat_gan_safari.get_animals()\n",
    "ramat_gan_safari.add_animal(\"Gorilla\")\n",
    "ramat_gan_safari.sort_animals()\n",
    "ramat_gan_safari.get_groups()"
   ]
  }
 ],
 "metadata": {
  "kernelspec": {
   "display_name": "base",
   "language": "python",
   "name": "python3"
  },
  "language_info": {
   "codemirror_mode": {
    "name": "ipython",
    "version": 3
   },
   "file_extension": ".py",
   "mimetype": "text/x-python",
   "name": "python",
   "nbconvert_exporter": "python",
   "pygments_lexer": "ipython3",
   "version": "3.11.4"
  }
 },
 "nbformat": 4,
 "nbformat_minor": 5
}
