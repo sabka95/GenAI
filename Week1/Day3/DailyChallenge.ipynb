{
 "cells": [
  {
   "cell_type": "markdown",
   "id": "834ffaa3",
   "metadata": {},
   "source": [
    "Daily challenge: Old MacDonald’s Farm"
   ]
  },
  {
   "cell_type": "code",
   "execution_count": 1,
   "id": "9e130b6e",
   "metadata": {},
   "outputs": [
    {
     "name": "stdout",
     "output_type": "stream",
     "text": [
      "McDonald's farm\n",
      "cow : 5\n",
      "sheep : 2\n",
      "goat : 12\n",
      "\n",
      "    E-I-E-I-0!\n",
      "None\n"
     ]
    }
   ],
   "source": [
    "# Instructions: Old MacDonald’s Farm\n",
    "\n",
    "# You are given example code and output. Your task is to create a Farm class that produces the same output.\n",
    "\n",
    "\n",
    "\n",
    "# Step 1: Create the Farm Class\n",
    "\n",
    "# Create a class called Farm.\n",
    "# This class will represent a farm and its animals.\n",
    "\n",
    "\n",
    "# Step 2: Implement the __init__ Method\n",
    "\n",
    "# The Farm class should have an __init__ method.\n",
    "# It should take one parameter: farm_name.\n",
    "# Inside __init__, create two attributes: name to store the farm’s name and animals to store the animals (initialize as an empty dictionary).\n",
    "\n",
    "\n",
    "# Step 3: Implement the add_animal Method\n",
    "\n",
    "# Create a method called add_animal.\n",
    "# It should take two parameters: animal_type and count (with a default value of 1). Count is the quantity of the animal that will be added to the animal dictionary.\n",
    "# The dictionary will look like this:\n",
    "# {'cow': 1, 'pig':3, 'horse': 2}\n",
    "# If the animal_type already exists in the animals dictionary, increment its count by count.\n",
    "# If it doesn’t exist, add it to the dictionary as the key and with the given count as value.\n",
    "\n",
    "\n",
    "# Step 4: Implement the get_info Method\n",
    "\n",
    "# Create a method called get_info.\n",
    "# It should return a string that displays the farm’s name, the animals and their counts, and the “E-I-E-I-0!” phrase.\n",
    "# Format the output to match the provided example.\n",
    "# Use string formatting to align the animal names and counts into columns.\n",
    "\n",
    "\n",
    "# Step 5: Test Your Code\n",
    "\n",
    "# Create a Farm object and call the add_animal and get_info methods.\n",
    "# Verify that the output matches the provided example.\n",
    "\n",
    "class Farm:\n",
    "    def __init__(self, farm_name):\n",
    "        # ... code to initialize name and animals attributes ...\n",
    "        self.name = farm_name\n",
    "        self.animals = dict()\n",
    "\n",
    "    def add_animal(self, animal_type, count = 1):\n",
    "        # ... code to add or update animal count in animals dictionary ...\n",
    "        if animal_type in self.animals.keys() : \n",
    "            self.animals[animal_type] += count\n",
    "        else : \n",
    "            self.animals[animal_type] = count\n",
    "\n",
    "    def get_info(self):\n",
    "        # ... code to format animal info from animals dictionary ...\n",
    "        print(f\"{self.name}'s farm\")\n",
    "        for i in self.animals.keys() : \n",
    "            print(f\"{i} : {self.animals[i]}\", sep = '\\n')\n",
    "        \n",
    "        print(\"\", sep = ' \\n')\n",
    "        print(\"    E-I-E-I-0!\")\n",
    "\n",
    "\n",
    "# Test the code \n",
    "macdonald = Farm(\"McDonald\")\n",
    "macdonald.add_animal('cow', 5)\n",
    "macdonald.add_animal('sheep')\n",
    "macdonald.add_animal('sheep')\n",
    "macdonald.add_animal('goat', 12)\n",
    "print(macdonald.get_info())\n",
    "#output:\n",
    "# McDonald's farm\n",
    "\n",
    "# cow : 5\n",
    "# sheep : 2\n",
    "# goat : 12\n",
    "\n",
    "#     E-I-E-I-0!\n"
   ]
  }
 ],
 "metadata": {
  "kernelspec": {
   "display_name": "base",
   "language": "python",
   "name": "python3"
  },
  "language_info": {
   "codemirror_mode": {
    "name": "ipython",
    "version": 3
   },
   "file_extension": ".py",
   "mimetype": "text/x-python",
   "name": "python",
   "nbconvert_exporter": "python",
   "pygments_lexer": "ipython3",
   "version": "3.11.4"
  }
 },
 "nbformat": 4,
 "nbformat_minor": 5
}
