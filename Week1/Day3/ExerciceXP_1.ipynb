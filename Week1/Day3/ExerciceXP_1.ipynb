{
 "cells": [
  {
   "cell_type": "markdown",
   "id": "a2a933da",
   "metadata": {},
   "source": [
    "🌟 Exercise 1: Cats"
   ]
  },
  {
   "cell_type": "code",
   "execution_count": 4,
   "id": "08b0bc5b",
   "metadata": {},
   "outputs": [
    {
     "name": "stdout",
     "output_type": "stream",
     "text": [
      "The oldest cat is plume, and is 6 years old.\n"
     ]
    }
   ],
   "source": [
    "# Instructions:\n",
    "\n",
    "# Use the provided Cat class to create three cat objects. Then, create a function to find the oldest cat and print its details.\n",
    "\n",
    "\n",
    "\n",
    "# Step 1: Create Cat Objects\n",
    "\n",
    "# Use the Cat class to create three cat objects with different names and ages.\n",
    "\n",
    "\n",
    "# Step 2: Create a Function to Find the Oldest Cat\n",
    "\n",
    "# Create a function that takes the three cat objects as input.\n",
    "# Inside the function, compare the ages of the cats to find the oldest one.\n",
    "# Return the oldest cat object.\n",
    "\n",
    "\n",
    "# Step 3: Print the Oldest Cat’s Details\n",
    "\n",
    "# Call the function to get the oldest cat.\n",
    "# Print a formatted string: “The oldest cat is <cat_name>, and is <cat_age> years old.”\n",
    "# Replace <cat_name> and <cat_age> with the oldest cat’s name and age.\n",
    "\n",
    "\n",
    "class Cat:\n",
    "    def __init__(self, cat_name, cat_age):\n",
    "        self.name = cat_name\n",
    "        self.age = cat_age\n",
    "\n",
    "# Step 1: Create cat objects\n",
    "cat1 = Cat(\"plume\", 6)\n",
    "cat2 = Cat(\"powder\", 4)\n",
    "cat3 = Cat(\"tiger\", 2)\n",
    "\n",
    "# Step 2: Create a function to find the oldest cat\n",
    "def find_oldest_cat(cat1, cat2, cat3):\n",
    "    # ... code to find and return the oldest cat ...\n",
    "    oldest_cat = cat1\n",
    "    \n",
    "    if cat2.age > oldest_cat.age : \n",
    "        oldest_cat = cat2\n",
    "    \n",
    "    if cat3.age > oldest_cat.age : \n",
    "        oldest_cat = cat3\n",
    "\n",
    "    return oldest_cat\n",
    "\n",
    "# Step 3: Print the oldest cat's details\n",
    "oldest_cat = find_oldest_cat(cat1, cat2, cat3)\n",
    "print(f\"The oldest cat is {oldest_cat.name}, and is {oldest_cat.age} years old.\")"
   ]
  }
 ],
 "metadata": {
  "kernelspec": {
   "display_name": "base",
   "language": "python",
   "name": "python3"
  },
  "language_info": {
   "codemirror_mode": {
    "name": "ipython",
    "version": 3
   },
   "file_extension": ".py",
   "mimetype": "text/x-python",
   "name": "python",
   "nbconvert_exporter": "python",
   "pygments_lexer": "ipython3",
   "version": "3.11.4"
  }
 },
 "nbformat": 4,
 "nbformat_minor": 5
}
