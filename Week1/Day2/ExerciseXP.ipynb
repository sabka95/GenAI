{
 "cells": [
  {
   "cell_type": "markdown",
   "id": "3c43c01e",
   "metadata": {},
   "source": [
    "🌟 Exercise 1: Converting Lists into Dictionaries"
   ]
  },
  {
   "cell_type": "code",
   "execution_count": 1,
   "id": "99cd8725",
   "metadata": {},
   "outputs": [
    {
     "name": "stdout",
     "output_type": "stream",
     "text": [
      "{'Ten': 10, 'Twenty': 20, 'Thirty': 30}\n"
     ]
    }
   ],
   "source": [
    "# Instructions\n",
    "\n",
    "# You are given two lists. Convert them into a dictionary where the first list contains the keys and the second list contains the corresponding values.\n",
    "\n",
    "keys = ['Ten', 'Twenty', 'Thirty']\n",
    "values = [10, 20, 30]\n",
    "\n",
    "dictionnary = dict(zip(keys, values))\n",
    "\n",
    "print(dictionnary)"
   ]
  },
  {
   "cell_type": "markdown",
   "id": "f3666957",
   "metadata": {},
   "source": [
    "🌟 Exercise 2: Cinemax #2"
   ]
  },
  {
   "cell_type": "code",
   "execution_count": 4,
   "id": "ff64c48f",
   "metadata": {},
   "outputs": [
    {
     "name": "stdout",
     "output_type": "stream",
     "text": [
      "The ticket price for rick is $15 !\n",
      "The ticket price for beth is $15 !\n",
      "The ticket price for morty is $10 !\n",
      "The ticket price for summer is $10 !\n",
      "The cost for the entire family is $50\n"
     ]
    }
   ],
   "source": [
    "# Write a program that calculates the total cost of movie tickets for a family based on their ages.\n",
    "\n",
    "# Instructions\n",
    "\n",
    "# Family members’ ages are stored in a dictionary.\n",
    "# The ticket pricing rules are as follows:\n",
    "# Under 3 years old: Free\n",
    "# 3 to 12 years old: $10\n",
    "# Over 12 years old: $15\n",
    "\n",
    "family = {\"rick\": 43, 'beth': 13, 'morty': 5, 'summer': 8}\n",
    "\n",
    "# Loop through the family dictionary to calculate the total cost.\n",
    "# Print the ticket price for each family member.\n",
    "# Print the total cost at the end.\n",
    "\n",
    "total_cost = 0\n",
    "\n",
    "for i in family.keys() : \n",
    "    \n",
    "\n",
    "    if family[i] < 3 : \n",
    "       print(f\"The ticket for {i} is free !\")\n",
    "\n",
    "    elif family[i] >= 3 and family[i] < 12 : \n",
    "        print(f\"The ticket price for {i} is $10 !\")\n",
    "        total_cost += 10\n",
    "\n",
    "    else : \n",
    "        print(f\"The ticket price for {i} is $15 !\")\n",
    "        total_cost += 15\n",
    "    \n",
    "\n",
    "print(f\"The cost for the entire family is ${total_cost}\")"
   ]
  },
  {
   "cell_type": "markdown",
   "id": "a8d558a4",
   "metadata": {},
   "source": [
    "🌟 Exercise 3: Zara"
   ]
  },
  {
   "cell_type": "code",
   "execution_count": 13,
   "id": "2fd0fed1",
   "metadata": {},
   "outputs": [
    {
     "name": "stdout",
     "output_type": "stream",
     "text": [
      "The favorite Zara's client type of clothes are men clothes\n",
      "Desigual\n",
      "['pink', 'green']\n",
      "7\n",
      "dict_keys(['name', 'creator_name', 'type_of_clothes', 'international_competitors', 'number_stores', 'major_color', 'country_creation'])\n"
     ]
    }
   ],
   "source": [
    "# Instructions\n",
    "\n",
    "# Create and manipulate a dictionary that contains information about the Zara brand.\n",
    "\n",
    "# Create a dictionary called brand with the provided data.\n",
    "# Modify and access the dictionary as follows:\n",
    "# Change the value of number_stores to 2.\n",
    "# Print a sentence describing Zara’s clients using the type_of_clothes key.\n",
    "# Add a new key country_creation with the value Spain.\n",
    "# Check if international_competitors exists and, if so, add “Desigual” to the list.\n",
    "# Delete the creation_date key.\n",
    "# Print the last item in international_competitors.\n",
    "# Print the major colors in the US.\n",
    "# Print the number of keys in the dictionary.\n",
    "# Print all keys of the dictionary.\n",
    "\n",
    "brand = {\n",
    "    \"name\" : \"Zara\",\n",
    "    \"creation_date\" : 1975,\n",
    "    \"creator_name\": \"Amancio Ortega Gaona\",\n",
    "    \"type_of_clothes\": [\"men\", \"women\", \"children\", \"home\"],\n",
    "    \"international_competitors\": [\"Gap\", \"H&M\", \"Benetton\"],\n",
    "    \"number_stores\" : 7000,\n",
    "    \"major_color\" : {\n",
    "        \"France\": \"blue\", \n",
    "        \"Spain\": \"red\", \n",
    "        \"US\": [\"pink\", \"green\"]\n",
    "        }\n",
    "    }\n",
    "\n",
    "\n",
    "brand[\"number_stores\"] = 2\n",
    "print(f\"The favorite Zara's client type of clothes are {brand['type_of_clothes'][0]} clothes\")\n",
    "brand[\"country_creation\"] = \"Spain\"\n",
    "if \"international_competitors\" in brand.keys() : \n",
    "    brand[\"international_competitors\"].append(\"Desigual\")\n",
    "brand.pop(\"creation_date\")\n",
    "print(brand[\"international_competitors\"][-1])\n",
    "print(brand[\"major_color\"][\"US\"])\n",
    "print(len(brand.keys()))\n",
    "print(brand.keys())\n"
   ]
  },
  {
   "cell_type": "markdown",
   "id": "1b9005eb",
   "metadata": {},
   "source": [
    "🌟 Exercise 4 : Some Geography"
   ]
  },
  {
   "cell_type": "code",
   "execution_count": 17,
   "id": "a0cc7c3a",
   "metadata": {},
   "outputs": [
    {
     "name": "stdout",
     "output_type": "stream",
     "text": [
      "Reykjavik is in Iceland\n",
      "Paris is in Unknown\n"
     ]
    }
   ],
   "source": [
    "# <!-- Goal: Create a function that describes a city and its country.\n",
    "\n",
    "# Step 1: Define a Function with Parameters ok\n",
    "\n",
    "# Define a function named describe_city().\n",
    "# This function should accept two parameters: city and country.\n",
    "# Give the country parameter a default value, such as “Unknown”.\n",
    "\n",
    "\n",
    "# Step 2: Print a Message\n",
    "\n",
    "# Inside the function, set up the code to display a sentence like “ is in “.\n",
    "# Replace <city> and <country> with the parameter values.\n",
    "\n",
    "\n",
    "# Step 3: Call the Function\n",
    "\n",
    "# Call the describe_city() function with different city and country combinations.\n",
    "# Try calling it with and without providing the country argument to see the default value in action.\n",
    "# Example: describe_city(\"Reykjavik\", \"Iceland\") and describe_city(\"Paris\"). -->\n",
    "\n",
    "\n",
    "def describe_city(city, country=\"Unknown\") :\n",
    "    print(f\"{city} is in {country}\")\n",
    "\n",
    "describe_city(\"Reykjavik\", \"Iceland\") \n",
    "describe_city(\"Paris\")"
   ]
  },
  {
   "cell_type": "markdown",
   "id": "7979c28f",
   "metadata": {},
   "source": [
    "🌟 Exercise 5 : Random"
   ]
  },
  {
   "cell_type": "code",
   "execution_count": 28,
   "id": "f944d5a1",
   "metadata": {},
   "outputs": [
    {
     "name": "stdout",
     "output_type": "stream",
     "text": [
      "Both numbers are different\n",
      "Generated number : 44, your number : 8\n"
     ]
    }
   ],
   "source": [
    "# Goal: Create a function that generates random numbers and compares them.\n",
    "\n",
    "# Step 1: Import the random Module\n",
    "# At the beginning of your script, use import random to access the random number generation functions.\n",
    "\n",
    "# Step 2: Define a Function with a Parameter\n",
    "# Create a function that accepts a number between 1 and 100 as a parameter.\n",
    "\n",
    "# Step 3: Generate a Random Number\n",
    "# Inside the function, use random.randint(1, 100) to generate a random integer between 1 and 100.\n",
    "\n",
    "\n",
    "# Step 4: Compare the Numbers\n",
    "\n",
    "# If they are the same, print a success message. Otherwise, print a fail message and display both numbers.\n",
    "\n",
    "\n",
    "# Step 5: Call the Function\n",
    "\n",
    "# Call the function with a number between 1 and 100.\n",
    "\n",
    "import random\n",
    "\n",
    "def fonction(number) : \n",
    "    generated_number = random.randint(1, 100)\n",
    "    \n",
    "    if number == generated_number :\n",
    "        print(\"Both numbers are equals !!!\")\n",
    "    \n",
    "    else : \n",
    "        print(\"Both numbers are different\")\n",
    "        print(f\"Generated number : {generated_number}, your number : {number}\")\n",
    "\n",
    "\n",
    "fonction(8)"
   ]
  },
  {
   "cell_type": "markdown",
   "id": "920ed6cd",
   "metadata": {},
   "source": [
    "🌟 Exercise 6 : Let’s create some personalized shirts !"
   ]
  },
  {
   "cell_type": "code",
   "execution_count": 32,
   "id": "92767b84",
   "metadata": {},
   "outputs": [
    {
     "name": "stdout",
     "output_type": "stream",
     "text": [
      "the shirt’s size is Extra Large, and says : I love Python\n",
      "the shirt’s size is Medium, and says : I love Python\n",
      "the shirt’s size is Extra Large, and says : Bootcamp GenAI\n"
     ]
    }
   ],
   "source": [
    "# Goal: Create a function to describe a shirt’s size and message, with default values.\n",
    "\n",
    "# Step 1: Define a Function with Parameters\n",
    "\n",
    "# Define a function called make_shirt().\n",
    "# This function should accept two parameters: size and text.\n",
    "\n",
    "\n",
    "# Step 2: Print a Summary Message\n",
    "\n",
    "# Set up the function to display a sentence summarizing the shirt’s size and message.\n",
    "\n",
    "\n",
    "# Step 3: Call the Function\n",
    "\n",
    "\n",
    "\n",
    "# Step 4: Modify the Function with Default Values\n",
    "\n",
    "# Modify the make_shirt() function so that size has a default value of “large” and text has a default value of “I love Python”.\n",
    "\n",
    "\n",
    "# Step 5: Call the Function with Default and Custom Values\n",
    "\n",
    "# Call make_shirt() to make a large shirt with the default message.\n",
    "# Call make_shirt() to make a medium shirt with the default message.\n",
    "# Call make_shirt() to make a shirt of any size with a different message.\n",
    "\n",
    "def make_shirt(size = \"large\", text = \"I love Python\") : \n",
    "    print(f\"the shirt’s size is {size}, and says : {text}\")\n",
    "\n",
    "make_shirt(\"Extra Large\")\n",
    "make_shirt(\"Medium\")\n",
    "make_shirt(\"Extra Large\", \"Bootcamp GenAI\")"
   ]
  },
  {
   "cell_type": "markdown",
   "id": "7adbbfd2",
   "metadata": {},
   "source": [
    "🌟 Exercise 7 : Temperature Advice"
   ]
  },
  {
   "cell_type": "code",
   "execution_count": 37,
   "id": "b1d3ff8b",
   "metadata": {},
   "outputs": [
    {
     "name": "stdout",
     "output_type": "stream",
     "text": [
      "The temperature right now is 8 degrees Celsius.\n",
      "“Quite chilly! Don’t forget your coat.”\n"
     ]
    }
   ],
   "source": [
    "# Goal: Generate a random temperature and provide advice based on the temperature range.\n",
    "\n",
    "# Step 1: Create the get_random_temp() Function\n",
    "\n",
    "# Create a function called get_random_temp() that returns a random integer between -10 and 40 degrees Celsius.\n",
    "\n",
    "\n",
    "# Step 2: Create the main() Function\n",
    "\n",
    "# Create a function called main(). Inside this function:\n",
    "# Call get_random_temp() to get a random temperature.\n",
    "# Store the temperature in a variable and print a friendly message like:\n",
    "# “The temperature right now is 32 degrees Celsius.”\n",
    "\n",
    "\n",
    "# Step 3: Provide Temperature-Based Advice\n",
    "\n",
    "# Inside main(), provide advice based on the temperature:\n",
    "# Below 0°C: e.g., “Brrr, that’s freezing! Wear some extra layers today.”\n",
    "# Between 0°C and 16°C: e.g., “Quite chilly! Don’t forget your coat.”\n",
    "# Between 16°C and 23°C: e.g., “Nice weather.”\n",
    "# Between 24°C and 32°C: e.g., “A bit warm, stay hydrated.”\n",
    "# Between 32°C and 40°C: e.g., “It’s really hot! Stay cool.”\n",
    "import random\n",
    "\n",
    "def get_random_temp() : \n",
    "    return random.randint(-10, 40)\n",
    "    \n",
    "def main() :\n",
    "    number = get_random_temp()\n",
    "    print(f\"The temperature right now is {number} degrees Celsius.\")\n",
    "\n",
    "    if number < 0 : \n",
    "        print(\"Brrr, that’s freezing! Wear some extra layers today.\")\n",
    "\n",
    "    elif number >= 0 and number < 16 : \n",
    "        print(\"“Quite chilly! Don’t forget your coat.”\")\n",
    "\n",
    "    elif number >= 16 and number < 23 : \n",
    "        print(\"Nice weather.\")\n",
    "\n",
    "    elif number >= 24 and number < 32 : \n",
    "        print(\"A bit warm, stay hydrated.\")\n",
    "    \n",
    "    elif number >= 32 and number < 40 : \n",
    "        print(\"“It’s really hot! Stay cool.”\")\n",
    "\n",
    "main()\n",
    "              "
   ]
  },
  {
   "cell_type": "markdown",
   "id": "5048fc04",
   "metadata": {},
   "source": [
    "🌟 Exercise 8: Pizza Toppings"
   ]
  },
  {
   "cell_type": "code",
   "execution_count": 39,
   "id": "69c5f3ed",
   "metadata": {},
   "outputs": [
    {
     "name": "stdout",
     "output_type": "stream",
     "text": [
      "Adding tuna to your pizza.\n",
      "Adding pepper to your pizza.\n",
      "Adding chesse to your pizza.\n",
      "Adding buratta to your pizza.\n",
      "You've add tuna, pepper, chesse, buratta  to you pizza\n",
      "The total cost is 20.0\n"
     ]
    }
   ],
   "source": [
    "# Instructions:\n",
    "\n",
    "# Write a loop that asks the user to enter pizza toppings one by one.\n",
    "# Stop the loop when the user types 'quit'.\n",
    "# For each topping entered, print:\n",
    "# \"Adding [topping] to your pizza.\"\n",
    "# After exiting the loop, print all the toppings and the total cost of the pizza.\n",
    "# The base price is $10, and each topping adds $2.50.\n",
    "i = 1\n",
    "price =10\n",
    "topping_list = list()\n",
    "\n",
    "while True : \n",
    " \n",
    "    topping = input(f\"Enter your topping number {i} : \")\n",
    "\n",
    "    if topping == \"quit\" : \n",
    "        break \n",
    "\n",
    "    else : \n",
    "        print(f\"Adding {topping} to your pizza.\")\n",
    "\n",
    "    i+=1\n",
    "    price += 2.50 \n",
    "    topping_list.append(topping)\n",
    "\n",
    "topping_list = \", \".join(topping_list)\n",
    "\n",
    "print(f\"You've add {topping_list}  to you pizza\")\n",
    "print(f\"The total cost is {price}\")"
   ]
  }
 ],
 "metadata": {
  "kernelspec": {
   "display_name": "base",
   "language": "python",
   "name": "python3"
  },
  "language_info": {
   "codemirror_mode": {
    "name": "ipython",
    "version": 3
   },
   "file_extension": ".py",
   "mimetype": "text/x-python",
   "name": "python",
   "nbconvert_exporter": "python",
   "pygments_lexer": "ipython3",
   "version": "3.11.4"
  }
 },
 "nbformat": 4,
 "nbformat_minor": 5
}
