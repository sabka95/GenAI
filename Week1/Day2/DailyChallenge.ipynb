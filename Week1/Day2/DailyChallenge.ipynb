{
 "cells": [
  {
   "cell_type": "code",
   "execution_count": 2,
   "id": "57231159",
   "metadata": {},
   "outputs": [
    {
     "name": "stdout",
     "output_type": "stream",
     "text": [
      "{'t': [0, 4], 'o': [1, 5], 'm': [2], 'a': [3]}\n"
     ]
    }
   ],
   "source": [
    "# Challenge\n",
    "# Ask a user for a word.\n",
    "# Write a program that creates a dictionary. This dictionary stores the indexes of each letter in a list.\n",
    "# Make sure the letters are the keys.\n",
    "# Make sure the letters are strings.\n",
    "# Make sure the indexes are stored in a list, and those lists are values.\n",
    "\n",
    "# Examples\n",
    "# “dodo” ➞ { “d”: [0, 2], “o”: [1, 3] }\n",
    "# “froggy” ➞ { “f”: [0], “r”: [1], “o”: [2], “g”: [3, 4], “y”: [5] }\n",
    "# “grapes” ➞ { “g”: [0], “r”: [1], “a”: [2], “p”: [3] }\n",
    "\n",
    "word = input(\"Enter a word :\")\n",
    "\n",
    "dictionnary = {word[0] : [0]\n",
    "               }\n",
    "\n",
    "for idx, char in enumerate(word[1:]) : \n",
    "    \n",
    "    idx+=1\n",
    "    if char in dictionnary.keys() :\n",
    "        dictionnary[char].append(idx)\n",
    "\n",
    "    else :\n",
    "        dictionnary[char] = [idx]\n",
    "\n",
    "print(dictionnary)"
   ]
  }
 ],
 "metadata": {
  "kernelspec": {
   "display_name": "base",
   "language": "python",
   "name": "python3"
  },
  "language_info": {
   "codemirror_mode": {
    "name": "ipython",
    "version": 3
   },
   "file_extension": ".py",
   "mimetype": "text/x-python",
   "name": "python",
   "nbconvert_exporter": "python",
   "pygments_lexer": "ipython3",
   "version": "3.11.4"
  }
 },
 "nbformat": 4,
 "nbformat_minor": 5
}
